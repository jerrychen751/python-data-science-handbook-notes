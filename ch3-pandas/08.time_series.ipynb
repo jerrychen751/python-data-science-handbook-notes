{
 "cells": [
  {
   "cell_type": "code",
   "execution_count": 2,
   "id": "dc160058",
   "metadata": {},
   "outputs": [],
   "source": [
    "import pandas as pd\n",
    "import numpy as np"
   ]
  },
  {
   "cell_type": "markdown",
   "id": "de01b21b",
   "metadata": {},
   "source": [
    "# Working with Time Series\n",
    "\n",
    "Pandas was originally developed for financial modeling, so it has a very comprehensive set of tools for working with time series data."
   ]
  },
  {
   "cell_type": "markdown",
   "id": "6e17c9f2",
   "metadata": {},
   "source": [
    "## Dates and Times in Python\n",
    "\n",
    "First, we take a look at the `datetime` module built into Python, as well as the `dateutil` module."
   ]
  },
  {
   "cell_type": "code",
   "execution_count": 3,
   "id": "4b3ba3bd",
   "metadata": {},
   "outputs": [
    {
     "name": "stdout",
     "output_type": "stream",
     "text": [
      "2015-07-04 00:00:00\n"
     ]
    }
   ],
   "source": [
    "from datetime import datetime\n",
    "from dateutil import parser\n",
    "\n",
    "print(datetime(year=2015, month=7, day=4)) # creating a datetime.datetime obj\n",
    "date = parser.parse('2020 4th of July') # extremely flexible with string dates"
   ]
  },
  {
   "cell_type": "markdown",
   "id": "e95a7ebb",
   "metadata": {},
   "source": [
    "## Dates and Times in Python\n",
    "\n",
    "The key objects in Pandas for working with time-series data are: `Timestamp`, `DatetimeIndex`, `Period`, and `Timedelta`."
   ]
  },
  {
   "cell_type": "code",
   "execution_count": 4,
   "id": "8d825147",
   "metadata": {},
   "outputs": [
    {
     "data": {
      "text/plain": [
       "Timestamp('2015-07-04 00:00:00')"
      ]
     },
     "execution_count": 4,
     "metadata": {},
     "output_type": "execute_result"
    }
   ],
   "source": [
    "# As a note, dates are stored in a way that if the timezone is specified, it is always converted to be relative to UTC, and if the timezone is not specified, they remain in their naive time\n",
    "\n",
    "# either specify tz or use .tz_localize() method after initialization\n",
    "date = pd.to_datetime('4th of July, 2015')\n",
    "date"
   ]
  },
  {
   "cell_type": "markdown",
   "id": "4d43a9df",
   "metadata": {},
   "source": [
    "`date` is a `pd.Timestamp` object. It's often converted from a string or a datetime object."
   ]
  },
  {
   "cell_type": "code",
   "execution_count": 5,
   "id": "cff3fa37",
   "metadata": {},
   "outputs": [
    {
     "name": "stdout",
     "output_type": "stream",
     "text": [
      "2015\n",
      "7\n",
      "4\n",
      "5\n",
      "27\n",
      "Saturday\n"
     ]
    }
   ],
   "source": [
    "print(date.year)\n",
    "print(date.month)\n",
    "print(date.day)\n",
    "print(date.day_of_week)\n",
    "print(date.weekofyear)\n",
    "print(date.day_name())"
   ]
  },
  {
   "cell_type": "code",
   "execution_count": 6,
   "id": "ec887e37",
   "metadata": {},
   "outputs": [
    {
     "data": {
      "text/plain": [
       "'Saturday'"
      ]
     },
     "execution_count": 6,
     "metadata": {},
     "output_type": "execute_result"
    }
   ],
   "source": [
    "date.strftime('%A')"
   ]
  },
  {
   "cell_type": "markdown",
   "id": "2ecb5295",
   "metadata": {},
   "source": [
    "`pd.DatetimeIndex` objects are typically either created via `pd.to_datetime()` with an array-like argument or `pd.date_range()`."
   ]
  },
  {
   "cell_type": "code",
   "execution_count": 7,
   "id": "80f234d7",
   "metadata": {},
   "outputs": [
    {
     "data": {
      "text/plain": [
       "DatetimeIndex(['2025-08-19', '2025-08-20', '2025-08-21'], dtype='datetime64[ns]', freq=None)"
      ]
     },
     "execution_count": 7,
     "metadata": {},
     "output_type": "execute_result"
    }
   ],
   "source": [
    "date_list = ['2025-08-19', '2025-08-20', '2025-08-21']\n",
    "dti = pd.to_datetime(date_list)\n",
    "dti"
   ]
  },
  {
   "cell_type": "code",
   "execution_count": 8,
   "id": "ced5a135",
   "metadata": {},
   "outputs": [
    {
     "data": {
      "text/plain": [
       "DatetimeIndex(['2025-01-01', '2025-01-02', '2025-01-03', '2025-01-04',\n",
       "               '2025-01-05'],\n",
       "              dtype='datetime64[ns]', freq='D')"
      ]
     },
     "execution_count": 8,
     "metadata": {},
     "output_type": "execute_result"
    }
   ],
   "source": [
    "pd.date_range(start='2025-01-01', end='2025-01-05', freq='D')"
   ]
  },
  {
   "cell_type": "markdown",
   "id": "1e012886",
   "metadata": {},
   "source": [
    "`pd.DatetimeIndex` is important due to its capabilities in indexing/slicing using string representations of dates."
   ]
  },
  {
   "cell_type": "code",
   "execution_count": 9,
   "id": "e8f94c4e",
   "metadata": {},
   "outputs": [
    {
     "data": {
      "text/plain": [
       "2022-01-01    0\n",
       "2022-01-02    1\n",
       "2022-02-01    2\n",
       "2022-02-02    3\n",
       "dtype: int64"
      ]
     },
     "execution_count": 9,
     "metadata": {},
     "output_type": "execute_result"
    }
   ],
   "source": [
    "# Create a time series\n",
    "index = pd.DatetimeIndex(['2022-01-01', '2022-01-02', '2022-02-01', '2022-02-02'])\n",
    "data = pd.Series([0, 1, 2, 3], index=index)\n",
    "data"
   ]
  },
  {
   "cell_type": "code",
   "execution_count": 10,
   "id": "837b282b",
   "metadata": {},
   "outputs": [
    {
     "data": {
      "text/plain": [
       "2022-01-01    0\n",
       "2022-01-02    1\n",
       "2022-02-01    2\n",
       "2022-02-02    3\n",
       "dtype: int64"
      ]
     },
     "execution_count": 10,
     "metadata": {},
     "output_type": "execute_result"
    }
   ],
   "source": [
    "# Slicing by year\n",
    "data['2022']"
   ]
  },
  {
   "cell_type": "code",
   "execution_count": 11,
   "id": "a1adcb08",
   "metadata": {},
   "outputs": [
    {
     "data": {
      "text/plain": [
       "2022-02-01    2\n",
       "2022-02-02    3\n",
       "dtype: int64"
      ]
     },
     "execution_count": 11,
     "metadata": {},
     "output_type": "execute_result"
    }
   ],
   "source": [
    "# Slicing by month\n",
    "data['2022-02']"
   ]
  },
  {
   "cell_type": "markdown",
   "id": "af7afa02",
   "metadata": {},
   "source": [
    "`pd.Period` and `pd.PeriodIndex` objects represent a span or interval of time. This is different from `pd.Timestamp`, which represents a specific instance in time.\n",
    "\n",
    "However, these are often limited in terms of being fixed and calendar-aligned. For example, regardless of the date inserted -- whether that be August 1st or August 15th -- the freq='M' will always just make it into `Period('2025-08', 'M')`."
   ]
  },
  {
   "cell_type": "code",
   "execution_count": 12,
   "id": "04f3864a",
   "metadata": {},
   "outputs": [
    {
     "data": {
      "text/plain": [
       "Period('2025-08', 'M')"
      ]
     },
     "execution_count": 12,
     "metadata": {},
     "output_type": "execute_result"
    }
   ],
   "source": [
    "period = pd.Period('2025-08-01', freq='M')\n",
    "period"
   ]
  },
  {
   "cell_type": "code",
   "execution_count": 13,
   "id": "e97bf016",
   "metadata": {},
   "outputs": [
    {
     "data": {
      "text/plain": [
       "2024Q1    105\n",
       "2024Q2    110\n",
       "2024Q3    118\n",
       "2024Q4    125\n",
       "Freq: Q-DEC, dtype: int64"
      ]
     },
     "execution_count": 13,
     "metadata": {},
     "output_type": "execute_result"
    }
   ],
   "source": [
    "revenue_data = {\n",
    "    '2024Q1': 105, '2024Q2': 110, '2024Q3': 118, '2024Q4': 125,\n",
    "    '2025Q1': 112, '2025Q2': 120, '2025Q3': 128, '2025Q4': 138\n",
    "}\n",
    "\n",
    "# freq must be specified and cannot be inferred\n",
    "p_index = pd.PeriodIndex(revenue_data.keys(), freq='Q')\n",
    "\n",
    "revenue_ser = pd.Series(list(revenue_data.values()), index=p_index)\n",
    "revenue_ser['2024']"
   ]
  },
  {
   "cell_type": "markdown",
   "id": "d9492aaa",
   "metadata": {},
   "source": [
    "`pd.Timedelta` represents a *difference* between two points in time. It can be positive or negative.\n",
    "\n",
    "It's not a range/interval of time, but rather a quantity of time between two points. They are often used for date arithmetic (add/subtracted from `Timestamps`)."
   ]
  },
  {
   "cell_type": "code",
   "execution_count": 14,
   "id": "229d8daf",
   "metadata": {},
   "outputs": [
    {
     "data": {
      "text/plain": [
       "Timedelta('3 days 02:00:00')"
      ]
     },
     "execution_count": 14,
     "metadata": {},
     "output_type": "execute_result"
    }
   ],
   "source": [
    "ts1 = pd.to_datetime('2025-08-22 10:00:00')\n",
    "ts2 = pd.Timestamp('2025-08-19 08:00:00')\n",
    "ts1 - ts2"
   ]
  },
  {
   "cell_type": "code",
   "execution_count": 15,
   "id": "36f3c13a",
   "metadata": {},
   "outputs": [
    {
     "data": {
      "text/plain": [
       "Timedelta('-4 days +22:00:00')"
      ]
     },
     "execution_count": 15,
     "metadata": {},
     "output_type": "execute_result"
    }
   ],
   "source": [
    "ts2 - ts1 # node the signage"
   ]
  },
  {
   "cell_type": "markdown",
   "id": "a923dace",
   "metadata": {},
   "source": [
    "It may also be created from calling the class directly."
   ]
  },
  {
   "cell_type": "code",
   "execution_count": 16,
   "id": "5978a760",
   "metadata": {},
   "outputs": [
    {
     "data": {
      "text/plain": [
       "Timedelta('5 days 04:30:00')"
      ]
     },
     "execution_count": 16,
     "metadata": {},
     "output_type": "execute_result"
    }
   ],
   "source": [
    "pd.Timedelta('5 days 4 hours 30 minutes')"
   ]
  },
  {
   "cell_type": "code",
   "execution_count": 17,
   "id": "1caaa6a1",
   "metadata": {},
   "outputs": [
    {
     "data": {
      "text/plain": [
       "Timedelta('0 days 06:00:00')"
      ]
     },
     "execution_count": 17,
     "metadata": {},
     "output_type": "execute_result"
    }
   ],
   "source": [
    "pd.Timedelta(6, unit='h')"
   ]
  },
  {
   "cell_type": "markdown",
   "id": "575b8ba4",
   "metadata": {},
   "source": [
    "## Resampling, Shifting, and Windowing\n",
    "\n",
    "These three operations are critical for time series analysis.\n",
    "\n",
    "Let's create some sample data to work with."
   ]
  },
  {
   "cell_type": "code",
   "execution_count": 18,
   "id": "7a0a08ad",
   "metadata": {},
   "outputs": [
    {
     "data": {
      "text/plain": [
       "2022-01-01    0.295848\n",
       "2022-01-02    0.977154\n",
       "2022-01-03    0.614037\n",
       "2022-01-04    0.243172\n",
       "2022-01-05    0.386624\n",
       "                ...   \n",
       "2022-12-27    0.358175\n",
       "2022-12-28    0.547797\n",
       "2022-12-29    0.783727\n",
       "2022-12-30    0.128900\n",
       "2022-12-31    0.595795\n",
       "Freq: D, Length: 365, dtype: float64"
      ]
     },
     "execution_count": 18,
     "metadata": {},
     "output_type": "execute_result"
    }
   ],
   "source": [
    "# Create a sample time series\n",
    "ts = pd.Series(np.random.rand(365), index=pd.date_range('2022-01-01', periods=365, freq='D'))\n",
    "ts"
   ]
  },
  {
   "cell_type": "markdown",
   "id": "c1ea3bae",
   "metadata": {},
   "source": [
    "### Resampling\n",
    "\n",
    "Resampling involves changing the frequency of your time series data. A common use is downsampling, for example, converting daily data to monthly data. This requires an aggregation function."
   ]
  },
  {
   "cell_type": "code",
   "execution_count": 19,
   "id": "94a13120",
   "metadata": {},
   "outputs": [
    {
     "data": {
      "text/plain": [
       "2022-01-31    0.435310\n",
       "2022-02-28    0.563550\n",
       "2022-03-31    0.436323\n",
       "2022-04-30    0.454813\n",
       "2022-05-31    0.487585\n",
       "2022-06-30    0.445923\n",
       "2022-07-31    0.507866\n",
       "2022-08-31    0.499221\n",
       "2022-09-30    0.455900\n",
       "2022-10-31    0.482788\n",
       "2022-11-30    0.468237\n",
       "2022-12-31    0.436593\n",
       "Freq: ME, dtype: float64"
      ]
     },
     "execution_count": 19,
     "metadata": {},
     "output_type": "execute_result"
    }
   ],
   "source": [
    "# Resample to monthly data and calculate the mean\n",
    "ts.resample('ME').mean() # month-end frequency"
   ]
  },
  {
   "cell_type": "markdown",
   "id": "6eadfd29",
   "metadata": {},
   "source": [
    "### Shifting\n",
    "\n",
    "The `shift()` method can be used to shift data backward or forward in time. This is useful for computing differences over time."
   ]
  },
  {
   "cell_type": "code",
   "execution_count": 20,
   "id": "fd3e61a2",
   "metadata": {},
   "outputs": [
    {
     "data": {
      "text/plain": [
       "2022-01-01         NaN\n",
       "2022-01-02    0.295848\n",
       "2022-01-03    0.977154\n",
       "2022-01-04    0.614037\n",
       "2022-01-05    0.243172\n",
       "                ...   \n",
       "2022-12-27    0.641814\n",
       "2022-12-28    0.358175\n",
       "2022-12-29    0.547797\n",
       "2022-12-30    0.783727\n",
       "2022-12-31    0.128900\n",
       "Freq: D, Length: 365, dtype: float64"
      ]
     },
     "execution_count": 20,
     "metadata": {},
     "output_type": "execute_result"
    }
   ],
   "source": [
    "# Shift the data forward by one day\n",
    "ts.shift(periods=1)\n",
    "\n",
    "# note: \n",
    "# - periods is the number of rows/columns to shift by\n",
    "# - freq changes behavior from positional shift to temporal shift (`DatetimeIndex` is shifted rather than values)"
   ]
  },
  {
   "cell_type": "markdown",
   "id": "8ffc2868",
   "metadata": {},
   "source": [
    "### Windowing\n",
    "\n",
    "A rolling window lets you perform calculations over a sliding window of time. This is great for things like calculating rolling averages to smooth out data."
   ]
  },
  {
   "cell_type": "code",
   "execution_count": null,
   "id": "d79f8492",
   "metadata": {},
   "outputs": [
    {
     "data": {
      "text/plain": [
       "<Axes: >"
      ]
     },
     "execution_count": 21,
     "metadata": {},
     "output_type": "execute_result"
    },
    {
     "data": {
      "image/png": "[encoded data removed]",
      "text/plain": [
       "<Figure size 1200x400 with 1 Axes>"
      ]
     },
     "metadata": {},
     "output_type": "display_data"
    }
   ],
   "source": [
    "# Calculate the 30-day rolling mean\n",
    "ts.rolling(window=30).mean().plot(figsize=(12, 4))\n",
    "\n",
    "# window specifies the number of rows/observations to include per calculation\n",
    "# here, the first day with a value would be at index 29 (30th day), since the window must be full to make a calculation\n",
    "    # if `window` is passed as an integer, then `min_periods` is automatically the size of the window; specifying `min_periods = 1` allows for calculations for windows even if they are not filled\n",
    "# for every other day, it just shifts over by a single row; this is controlled by step parameter"
   ]
  },
  {
   "cell_type": "markdown",
   "id": "5fcece38",
   "metadata": {},
   "source": [
    "## Example: Visualizing Seattle Bicycle Counts\n",
    "\n",
    "Let's apply these concepts to the Seattle weather data you have."
   ]
  },
  {
   "cell_type": "code",
   "execution_count": 22,
   "id": "fbca8d17",
   "metadata": {},
   "outputs": [
    {
     "name": "stdout",
     "output_type": "stream",
     "text": [
      "               STATION                                STATION_NAME      DATE  \\\n",
      "0    GHCND:USW00024233  SEATTLE TACOMA INTERNATIONAL AIRPORT WA US  20140101   \n",
      "1    GHCND:USW00024233  SEATTLE TACOMA INTERNATIONAL AIRPORT WA US  20140102   \n",
      "2    GHCND:USW00024233  SEATTLE TACOMA INTERNATIONAL AIRPORT WA US  20140103   \n",
      "3    GHCND:USW00024233  SEATTLE TACOMA INTERNATIONAL AIRPORT WA US  20140104   \n",
      "4    GHCND:USW00024233  SEATTLE TACOMA INTERNATIONAL AIRPORT WA US  20140105   \n",
      "..                 ...                                         ...       ...   \n",
      "360  GHCND:USW00024233  SEATTLE TACOMA INTERNATIONAL AIRPORT WA US  20141227   \n",
      "361  GHCND:USW00024233  SEATTLE TACOMA INTERNATIONAL AIRPORT WA US  20141228   \n",
      "362  GHCND:USW00024233  SEATTLE TACOMA INTERNATIONAL AIRPORT WA US  20141229   \n",
      "363  GHCND:USW00024233  SEATTLE TACOMA INTERNATIONAL AIRPORT WA US  20141230   \n",
      "364  GHCND:USW00024233  SEATTLE TACOMA INTERNATIONAL AIRPORT WA US  20141231   \n",
      "\n",
      "     PRCP  SNWD  SNOW  TMAX  TMIN  AWND  WDF2  WDF5  WSF2  WSF5  WT01  WT05  \\\n",
      "0       0     0     0    72    33    12   340   310    36    40 -9999 -9999   \n",
      "1      41     0     0   106    61    32   190   200    94   116 -9999 -9999   \n",
      "2      15     0     0    89    28    26    30    50    63    72     1 -9999   \n",
      "3       0     0     0    78     6    27    40    40    45    58     1 -9999   \n",
      "4       0     0     0    83    -5    37    10    10    67    76 -9999 -9999   \n",
      "..    ...   ...   ...   ...   ...   ...   ...   ...   ...   ...   ...   ...   \n",
      "360    33     0     0    94    44    49   210   210   112   161     1 -9999   \n",
      "361    41     0     0    67    28    18    50    30    58    72     1 -9999   \n",
      "362     0     0     0    61     6    43   350   350    76   103     1 -9999   \n",
      "363     0     0     0    33   -21    36    90    70    63    76 -9999 -9999   \n",
      "364     0     0     0    33   -27    30    30 -9999    58 -9999 -9999 -9999   \n",
      "\n",
      "     WT02  WT03  \n",
      "0   -9999 -9999  \n",
      "1   -9999 -9999  \n",
      "2   -9999 -9999  \n",
      "3   -9999 -9999  \n",
      "4   -9999 -9999  \n",
      "..    ...   ...  \n",
      "360 -9999 -9999  \n",
      "361 -9999 -9999  \n",
      "362 -9999 -9999  \n",
      "363 -9999 -9999  \n",
      "364 -9999 -9999  \n",
      "\n",
      "[365 rows x 17 columns]\n"
     ]
    },
    {
     "data": {
      "text/html": [
       "<div>\n",
       "<style scoped>\n",
       "    .dataframe tbody tr th:only-of-type {\n",
       "        vertical-align: middle;\n",
       "    }\n",
       "\n",
       "    .dataframe tbody tr th {\n",
       "        vertical-align: top;\n",
       "    }\n",
       "\n",
       "    .dataframe thead th {\n",
       "        text-align: right;\n",
       "    }\n",
       "</style>\n",
       "<table border=\"1\" class=\"dataframe\">\n",
       "  <thead>\n",
       "    <tr style=\"text-align: right;\">\n",
       "      <th></th>\n",
       "      <th>STATION</th>\n",
       "      <th>STATION_NAME</th>\n",
       "      <th>PRCP</th>\n",
       "      <th>SNWD</th>\n",
       "      <th>SNOW</th>\n",
       "      <th>TMAX</th>\n",
       "      <th>TMIN</th>\n",
       "      <th>AWND</th>\n",
       "      <th>WDF2</th>\n",
       "      <th>WDF5</th>\n",
       "      <th>WSF2</th>\n",
       "      <th>WSF5</th>\n",
       "      <th>WT01</th>\n",
       "      <th>WT05</th>\n",
       "      <th>WT02</th>\n",
       "      <th>WT03</th>\n",
       "    </tr>\n",
       "    <tr>\n",
       "      <th>DATE</th>\n",
       "      <th></th>\n",
       "      <th></th>\n",
       "      <th></th>\n",
       "      <th></th>\n",
       "      <th></th>\n",
       "      <th></th>\n",
       "      <th></th>\n",
       "      <th></th>\n",
       "      <th></th>\n",
       "      <th></th>\n",
       "      <th></th>\n",
       "      <th></th>\n",
       "      <th></th>\n",
       "      <th></th>\n",
       "      <th></th>\n",
       "      <th></th>\n",
       "    </tr>\n",
       "  </thead>\n",
       "  <tbody>\n",
       "    <tr>\n",
       "      <th>1970-01-01 00:00:00.020140101</th>\n",
       "      <td>GHCND:USW00024233</td>\n",
       "      <td>SEATTLE TACOMA INTERNATIONAL AIRPORT WA US</td>\n",
       "      <td>0</td>\n",
       "      <td>0</td>\n",
       "      <td>0</td>\n",
       "      <td>72</td>\n",
       "      <td>33</td>\n",
       "      <td>12</td>\n",
       "      <td>340</td>\n",
       "      <td>310</td>\n",
       "      <td>36</td>\n",
       "      <td>40</td>\n",
       "      <td>-9999</td>\n",
       "      <td>-9999</td>\n",
       "      <td>-9999</td>\n",
       "      <td>-9999</td>\n",
       "    </tr>\n",
       "    <tr>\n",
       "      <th>1970-01-01 00:00:00.020140102</th>\n",
       "      <td>GHCND:USW00024233</td>\n",
       "      <td>SEATTLE TACOMA INTERNATIONAL AIRPORT WA US</td>\n",
       "      <td>41</td>\n",
       "      <td>0</td>\n",
       "      <td>0</td>\n",
       "      <td>106</td>\n",
       "      <td>61</td>\n",
       "      <td>32</td>\n",
       "      <td>190</td>\n",
       "      <td>200</td>\n",
       "      <td>94</td>\n",
       "      <td>116</td>\n",
       "      <td>-9999</td>\n",
       "      <td>-9999</td>\n",
       "      <td>-9999</td>\n",
       "      <td>-9999</td>\n",
       "    </tr>\n",
       "    <tr>\n",
       "      <th>1970-01-01 00:00:00.020140103</th>\n",
       "      <td>GHCND:USW00024233</td>\n",
       "      <td>SEATTLE TACOMA INTERNATIONAL AIRPORT WA US</td>\n",
       "      <td>15</td>\n",
       "      <td>0</td>\n",
       "      <td>0</td>\n",
       "      <td>89</td>\n",
       "      <td>28</td>\n",
       "      <td>26</td>\n",
       "      <td>30</td>\n",
       "      <td>50</td>\n",
       "      <td>63</td>\n",
       "      <td>72</td>\n",
       "      <td>1</td>\n",
       "      <td>-9999</td>\n",
       "      <td>-9999</td>\n",
       "      <td>-9999</td>\n",
       "    </tr>\n",
       "    <tr>\n",
       "      <th>1970-01-01 00:00:00.020140104</th>\n",
       "      <td>GHCND:USW00024233</td>\n",
       "      <td>SEATTLE TACOMA INTERNATIONAL AIRPORT WA US</td>\n",
       "      <td>0</td>\n",
       "      <td>0</td>\n",
       "      <td>0</td>\n",
       "      <td>78</td>\n",
       "      <td>6</td>\n",
       "      <td>27</td>\n",
       "      <td>40</td>\n",
       "      <td>40</td>\n",
       "      <td>45</td>\n",
       "      <td>58</td>\n",
       "      <td>1</td>\n",
       "      <td>-9999</td>\n",
       "      <td>-9999</td>\n",
       "      <td>-9999</td>\n",
       "    </tr>\n",
       "    <tr>\n",
       "      <th>1970-01-01 00:00:00.020140105</th>\n",
       "      <td>GHCND:USW00024233</td>\n",
       "      <td>SEATTLE TACOMA INTERNATIONAL AIRPORT WA US</td>\n",
       "      <td>0</td>\n",
       "      <td>0</td>\n",
       "      <td>0</td>\n",
       "      <td>83</td>\n",
       "      <td>-5</td>\n",
       "      <td>37</td>\n",
       "      <td>10</td>\n",
       "      <td>10</td>\n",
       "      <td>67</td>\n",
       "      <td>76</td>\n",
       "      <td>-9999</td>\n",
       "      <td>-9999</td>\n",
       "      <td>-9999</td>\n",
       "      <td>-9999</td>\n",
       "    </tr>\n",
       "  </tbody>\n",
       "</table>\n",
       "</div>"
      ],
      "text/plain": [
       "                                         STATION  \\\n",
       "DATE                                               \n",
       "1970-01-01 00:00:00.020140101  GHCND:USW00024233   \n",
       "1970-01-01 00:00:00.020140102  GHCND:USW00024233   \n",
       "1970-01-01 00:00:00.020140103  GHCND:USW00024233   \n",
       "1970-01-01 00:00:00.020140104  GHCND:USW00024233   \n",
       "1970-01-01 00:00:00.020140105  GHCND:USW00024233   \n",
       "\n",
       "                                                             STATION_NAME  \\\n",
       "DATE                                                                        \n",
       "1970-01-01 00:00:00.020140101  SEATTLE TACOMA INTERNATIONAL AIRPORT WA US   \n",
       "1970-01-01 00:00:00.020140102  SEATTLE TACOMA INTERNATIONAL AIRPORT WA US   \n",
       "1970-01-01 00:00:00.020140103  SEATTLE TACOMA INTERNATIONAL AIRPORT WA US   \n",
       "1970-01-01 00:00:00.020140104  SEATTLE TACOMA INTERNATIONAL AIRPORT WA US   \n",
       "1970-01-01 00:00:00.020140105  SEATTLE TACOMA INTERNATIONAL AIRPORT WA US   \n",
       "\n",
       "                               PRCP  SNWD  SNOW  TMAX  TMIN  AWND  WDF2  WDF5  \\\n",
       "DATE                                                                            \n",
       "1970-01-01 00:00:00.020140101     0     0     0    72    33    12   340   310   \n",
       "1970-01-01 00:00:00.020140102    41     0     0   106    61    32   190   200   \n",
       "1970-01-01 00:00:00.020140103    15     0     0    89    28    26    30    50   \n",
       "1970-01-01 00:00:00.020140104     0     0     0    78     6    27    40    40   \n",
       "1970-01-01 00:00:00.020140105     0     0     0    83    -5    37    10    10   \n",
       "\n",
       "                               WSF2  WSF5  WT01  WT05  WT02  WT03  \n",
       "DATE                                                               \n",
       "1970-01-01 00:00:00.020140101    36    40 -9999 -9999 -9999 -9999  \n",
       "1970-01-01 00:00:00.020140102    94   116 -9999 -9999 -9999 -9999  \n",
       "1970-01-01 00:00:00.020140103    63    72     1 -9999 -9999 -9999  \n",
       "1970-01-01 00:00:00.020140104    45    58     1 -9999 -9999 -9999  \n",
       "1970-01-01 00:00:00.020140105    67    76 -9999 -9999 -9999 -9999  "
      ]
     },
     "execution_count": 22,
     "metadata": {},
     "output_type": "execute_result"
    }
   ],
   "source": [
    "# Load the data\n",
    "seattle_weather = pd.read_csv('../data/Seattle2014.csv')\n",
    "print(seattle_weather)\n",
    "\n",
    "# Convert the DATE column to a DatetimeIndex\n",
    "seattle_weather['DATE'] = pd.to_datetime(seattle_weather['DATE'])\n",
    "seattle_weather.set_index('DATE', inplace=True)\n",
    "\n",
    "seattle_weather.head()"
   ]
  },
  {
   "cell_type": "markdown",
   "id": "c6563c67",
   "metadata": {},
   "source": [
    "Let's analyze the daily precipitation."
   ]
  },
  {
   "cell_type": "code",
   "execution_count": 23,
   "id": "1d4c4b28",
   "metadata": {},
   "outputs": [
    {
     "data": {
      "text/plain": [
       "<Axes: xlabel='DATE'>"
      ]
     },
     "execution_count": 23,
     "metadata": {},
     "output_type": "execute_result"
    },
    {
     "data": {
      "image/png": "[encoded data removed]",
      "text/plain": [
       "<Figure size 1200x400 with 1 Axes>"
      ]
     },
     "metadata": {},
     "output_type": "display_data"
    }
   ],
   "source": [
    "# Plot the daily precipitation\n",
    "seattle_weather['PRCP'].plot(figsize=(12, 4))"
   ]
  },
  {
   "cell_type": "markdown",
   "id": "c5c084a9",
   "metadata": {},
   "source": [
    "The data is very noisy. Let's smooth it out with a 30-day rolling mean."
   ]
  },
  {
   "cell_type": "code",
   "execution_count": 24,
   "id": "0a66fd3f",
   "metadata": {},
   "outputs": [
    {
     "data": {
      "text/plain": [
       "<Axes: xlabel='DATE'>"
      ]
     },
     "execution_count": 24,
     "metadata": {},
     "output_type": "execute_result"
    },
    {
     "data": {
      "image/png": "[encoded data removed]",
      "text/plain": [
       "<Figure size 1200x400 with 1 Axes>"
      ]
     },
     "metadata": {},
     "output_type": "display_data"
    }
   ],
   "source": [
    "seattle_weather['PRCP'].rolling(30).mean().plot(figsize=(12, 4))"
   ]
  },
  {
   "cell_type": "markdown",
   "id": "550faa2a",
   "metadata": {},
   "source": [
    "We can also resample the data to look at weekly trends. Let's find the mean max temperature for each week."
   ]
  },
  {
   "cell_type": "code",
   "execution_count": 25,
   "id": "5b1ba3cd",
   "metadata": {},
   "outputs": [
    {
     "name": "stderr",
     "output_type": "stream",
     "text": [
      "/opt/homebrew/lib/python3.13/site-packages/pandas/plotting/_matplotlib/core.py:1567: UserWarning: Attempting to set identical low and high xlims makes transformation singular; automatically expanding.\n",
      "  ax.set_xlim(left, right)\n"
     ]
    },
    {
     "data": {
      "text/plain": [
       "<Axes: xlabel='DATE'>"
      ]
     },
     "execution_count": 25,
     "metadata": {},
     "output_type": "execute_result"
    },
    {
     "data": {
      "image/png": "[encoded data removed]",
      "text/plain": [
       "<Figure size 1200x400 with 1 Axes>"
      ]
     },
     "metadata": {},
     "output_type": "display_data"
    }
   ],
   "source": [
    "seattle_weather['TMAX'].resample('W').mean().plot(figsize=(12, 4))"
   ]
  }
 ],
 "metadata": {
  "jupytext": {
   "cell_metadata_filter": "-all",
   "main_language": "python",
   "notebook_metadata_filter": "-all"
  },
  "kernelspec": {
   "display_name": "Python 3",
   "language": "python",
   "name": "python3"
  },
  "language_info": {
   "codemirror_mode": {
    "name": "ipython",
    "version": 3
   },
   "file_extension": ".py",
   "mimetype": "text/x-python",
   "name": "python",
   "nbconvert_exporter": "python",
   "pygments_lexer": "ipython3",
   "version": "3.13.5"
  }
 },
 "nbformat": 4,
 "nbformat_minor": 5
}
