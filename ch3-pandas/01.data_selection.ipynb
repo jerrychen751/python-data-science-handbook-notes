{
 "cells": [
  {
   "cell_type": "code",
   "execution_count": 183,
   "id": "c1181162",
   "metadata": {},
   "outputs": [],
   "source": [
    "import pandas as pd\n",
    "import numpy as np"
   ]
  },
  {
   "cell_type": "markdown",
   "id": "0c2a40ae",
   "metadata": {},
   "source": [
    "# Data Indexing and Selection"
   ]
  },
  {
   "cell_type": "markdown",
   "id": "64eed436",
   "metadata": {},
   "source": [
    "## Part 1: Data Selection in Series"
   ]
  },
  {
   "cell_type": "markdown",
   "id": "ab529127",
   "metadata": {},
   "source": [
    "### `Series` as a Dictionary\n",
    "A `Series` maps an index (keys) to values."
   ]
  },
  {
   "cell_type": "code",
   "execution_count": 184,
   "id": "f2de19db",
   "metadata": {},
   "outputs": [
    {
     "name": "stdout",
     "output_type": "stream",
     "text": [
      "Original Series:\n",
      " a    0.25\n",
      "b    0.50\n",
      "c    0.75\n",
      "d    1.00\n",
      "dtype: float64\n"
     ]
    }
   ],
   "source": [
    "# Create a sample Series\n",
    "s = pd.Series([0.25, 0.5, 0.75, 1.0], index=['a', 'b', 'c', 'd'])\n",
    "print(\"Original Series:\\n\", s)"
   ]
  },
  {
   "cell_type": "code",
   "execution_count": 185,
   "id": "bd9909b0",
   "metadata": {},
   "outputs": [
    {
     "name": "stdout",
     "output_type": "stream",
     "text": [
      "\n",
      "s['b']: 0.5\n"
     ]
    }
   ],
   "source": [
    "# Accessing an element by index label\n",
    "print(\"\\ns['b']:\", s['b'])"
   ]
  },
  {
   "cell_type": "code",
   "execution_count": 186,
   "id": "231253d8",
   "metadata": {},
   "outputs": [
    {
     "name": "stdout",
     "output_type": "stream",
     "text": [
      "'a' in s: True\n"
     ]
    }
   ],
   "source": [
    "# Checking for an index label\n",
    "print(\"'a' in s:\", 'a' in s)"
   ]
  },
  {
   "cell_type": "code",
   "execution_count": 187,
   "id": "5acf9b59",
   "metadata": {},
   "outputs": [
    {
     "name": "stdout",
     "output_type": "stream",
     "text": [
      "s.get('f'): None\n",
      "s.get('f', 0): 0\n"
     ]
    }
   ],
   "source": [
    "# Using .get() for safe access (returns None if not found)\n",
    "print(\"s.get('f'):\", s.get('f'))\n",
    "print(\"s.get('f', 0):\", s.get('f', 0)) # With a default value"
   ]
  },
  {
   "cell_type": "code",
   "execution_count": 188,
   "id": "a0de5d81",
   "metadata": {},
   "outputs": [
    {
     "name": "stdout",
     "output_type": "stream",
     "text": [
      "Index (Keys):\n",
      " Index(['a', 'b', 'c', 'd'], dtype='object')\n",
      "Items (key-value pairs):\n",
      " [('a', 0.25), ('b', 0.5), ('c', 0.75), ('d', 1.0)]\n"
     ]
    }
   ],
   "source": [
    "# Viewing keys and items\n",
    "print(\"Index (Keys):\\n\", s.keys())\n",
    "print(\"Items (key-value pairs):\\n\", list(s.items()))"
   ]
  },
  {
   "cell_type": "code",
   "execution_count": 189,
   "id": "919f8126",
   "metadata": {
    "lines_to_next_cell": 2
   },
   "outputs": [
    {
     "name": "stdout",
     "output_type": "stream",
     "text": [
      "Series after adding 'e':\n",
      " a    0.25\n",
      "b    0.50\n",
      "c    0.75\n",
      "d    1.00\n",
      "e    1.25\n",
      "dtype: float64\n"
     ]
    }
   ],
   "source": [
    "# Adding a new element\n",
    "s['e'] = 1.25\n",
    "print(\"Series after adding 'e':\\n\", s)"
   ]
  },
  {
   "cell_type": "markdown",
   "id": "022499bf",
   "metadata": {},
   "source": [
    "### `Series` as a 1D Array\n",
    "Supports NumPy-style indexing like slicing, masking, and fancy indexing."
   ]
  },
  {
   "cell_type": "code",
   "execution_count": 190,
   "id": "4ce54d55",
   "metadata": {},
   "outputs": [
    {
     "name": "stdout",
     "output_type": "stream",
     "text": [
      "Explicit slice s['a':'c']:\n",
      " a    0.25\n",
      "b    0.50\n",
      "c    0.75\n",
      "dtype: float64\n"
     ]
    }
   ],
   "source": [
    "# Slicing with explicit index (inclusive)\n",
    "print(\"Explicit slice s['a':'c']:\\n\", s['a':'c'])"
   ]
  },
  {
   "cell_type": "code",
   "execution_count": 191,
   "id": "d449696d",
   "metadata": {},
   "outputs": [
    {
     "name": "stdout",
     "output_type": "stream",
     "text": [
      "Implicit slice s[0:2]:\n",
      " a    0.25\n",
      "b    0.50\n",
      "dtype: float64\n"
     ]
    }
   ],
   "source": [
    "# Slicing with implicit integer index (exclusive)\n",
    "print(\"Implicit slice s[0:2]:\\n\", s[0:2])"
   ]
  },
  {
   "cell_type": "code",
   "execution_count": 224,
   "id": "5310c9d1",
   "metadata": {},
   "outputs": [
    {
     "name": "stdout",
     "output_type": "stream",
     "text": [
      "Masking (s > 0.3) & (s < 0.8):\n",
      " b    0.50\n",
      "c    0.75\n",
      "dtype: float64\n"
     ]
    }
   ],
   "source": [
    "# Masking (boolean indexing)\n",
    "print(\"Masking (s > 0.3) & (s < 0.8):\\n\", s[(s > 0.3) & (s < 0.8)])"
   ]
  },
  {
   "cell_type": "code",
   "execution_count": 193,
   "id": "b683bc54",
   "metadata": {
    "lines_to_next_cell": 2
   },
   "outputs": [
    {
     "name": "stdout",
     "output_type": "stream",
     "text": [
      "Fancy indexing s[['a', 'e']]:\n",
      " a    0.25\n",
      "e    1.25\n",
      "dtype: float64\n"
     ]
    }
   ],
   "source": [
    "# Fancy indexing (passing a list of labels)\n",
    "print(\"Fancy indexing s[['a', 'e']]:\\n\", s[['a', 'e']])"
   ]
  },
  {
   "cell_type": "markdown",
   "id": "81a85d9b",
   "metadata": {},
   "source": [
    "### Indexers: `loc` and `iloc`\n",
    "Use `loc` for label-based indexing and `iloc` for integer-based indexing to avoid ambiguity."
   ]
  },
  {
   "cell_type": "code",
   "execution_count": 194,
   "id": "61e2f228",
   "metadata": {},
   "outputs": [
    {
     "name": "stdout",
     "output_type": "stream",
     "text": [
      "Series with integer index:\n",
      " 1    a\n",
      "3    b\n",
      "5    c\n",
      "dtype: object\n"
     ]
    }
   ],
   "source": [
    "s_int = pd.Series(['a', 'b', 'c'], index=[1, 3, 5])\n",
    "print(\"Series with integer index:\\n\", s_int)"
   ]
  },
  {
   "cell_type": "code",
   "execution_count": 195,
   "id": "7a631a9f",
   "metadata": {},
   "outputs": [
    {
     "name": "stdout",
     "output_type": "stream",
     "text": [
      "\n",
      "s_int[1]: a\n"
     ]
    }
   ],
   "source": [
    "# Standard indexing uses the explicit index label\n",
    "print(\"\\ns_int[1]:\", s_int[1])"
   ]
  },
  {
   "cell_type": "code",
   "execution_count": 196,
   "id": "03660446",
   "metadata": {},
   "outputs": [
    {
     "name": "stdout",
     "output_type": "stream",
     "text": [
      "\n",
      "s_int[1:3]:\n",
      " 3    b\n",
      "5    c\n",
      "dtype: object\n"
     ]
    }
   ],
   "source": [
    "# Standard slicing uses the implicit integer position\n",
    "print(\"\\ns_int[1:3]:\\n\", s_int[1:3])"
   ]
  },
  {
   "cell_type": "markdown",
   "id": "42f1d8e9",
   "metadata": {},
   "source": [
    "#### Using `loc` (Label-based)"
   ]
  },
  {
   "cell_type": "code",
   "execution_count": 197,
   "id": "418499df",
   "metadata": {},
   "outputs": [
    {
     "name": "stdout",
     "output_type": "stream",
     "text": [
      "s_int.loc[1]: a\n"
     ]
    }
   ],
   "source": [
    "# Get a single item by label\n",
    "print(\"s_int.loc[1]:\", s_int.loc[1])"
   ]
  },
  {
   "cell_type": "code",
   "execution_count": 198,
   "id": "9e059066",
   "metadata": {},
   "outputs": [
    {
     "name": "stdout",
     "output_type": "stream",
     "text": [
      "\n",
      "s_int.loc[1:3]:\n",
      " 1    a\n",
      "3    b\n",
      "dtype: object\n"
     ]
    }
   ],
   "source": [
    "# Slice by labels (inclusive)\n",
    "print(\"\\ns_int.loc[1:3]:\\n\", s_int.loc[1:3])"
   ]
  },
  {
   "cell_type": "code",
   "execution_count": 199,
   "id": "029da2d4",
   "metadata": {
    "lines_to_next_cell": 2
   },
   "outputs": [
    {
     "name": "stdout",
     "output_type": "stream",
     "text": [
      "\n",
      "After s_int.loc[1] = 'Z':\n",
      " 1    Z\n",
      "3    b\n",
      "5    c\n",
      "dtype: object\n"
     ]
    }
   ],
   "source": [
    "# Set value by label\n",
    "s_int.loc[1] = 'Z'\n",
    "print(\"\\nAfter s_int.loc[1] = 'Z':\\n\", s_int)"
   ]
  },
  {
   "cell_type": "markdown",
   "id": "6e571c54",
   "metadata": {},
   "source": [
    "#### Using `iloc` (Integer-position based)"
   ]
  },
  {
   "cell_type": "code",
   "execution_count": 200,
   "id": "ab38cd85",
   "metadata": {},
   "outputs": [
    {
     "name": "stdout",
     "output_type": "stream",
     "text": [
      "s_int.iloc[1]: b\n"
     ]
    }
   ],
   "source": [
    "# Get a single item by integer position\n",
    "print(\"s_int.iloc[1]:\", s_int.iloc[1])"
   ]
  },
  {
   "cell_type": "code",
   "execution_count": 201,
   "id": "9cdb9514",
   "metadata": {},
   "outputs": [
    {
     "name": "stdout",
     "output_type": "stream",
     "text": [
      "\n",
      "s_int.iloc[1:3]:\n",
      " 3    b\n",
      "5    c\n",
      "dtype: object\n"
     ]
    }
   ],
   "source": [
    "# Slice by integer position (exclusive)\n",
    "print(\"\\ns_int.iloc[1:3]:\\n\", s_int.iloc[1:3])"
   ]
  },
  {
   "cell_type": "code",
   "execution_count": 202,
   "id": "829df01b",
   "metadata": {
    "lines_to_next_cell": 2
   },
   "outputs": [
    {
     "name": "stdout",
     "output_type": "stream",
     "text": [
      "\n",
      "After s_int.iloc[2] = 'Y':\n",
      " 1    Z\n",
      "3    b\n",
      "5    Y\n",
      "dtype: object\n"
     ]
    }
   ],
   "source": [
    "# Set value by integer position\n",
    "s_int.iloc[2] = 'Y'\n",
    "print(\"\\nAfter s_int.iloc[2] = 'Y':\\n\", s_int)"
   ]
  },
  {
   "cell_type": "markdown",
   "id": "68053856",
   "metadata": {},
   "source": [
    "## Part 2: Data Selection in DataFrame"
   ]
  },
  {
   "cell_type": "code",
   "execution_count": 203,
   "id": "2358b10a",
   "metadata": {},
   "outputs": [
    {
     "name": "stdout",
     "output_type": "stream",
     "text": [
      "Original DataFrame:\n",
      "               area       pop     density\n",
      "California  423967  38332521   90.413926\n",
      "Texas       695662  26448193   38.018740\n",
      "New York    141297  19651127  139.076746\n",
      "Florida     170312  19552860  114.806121\n",
      "Illinois    149995  12882135   85.883763\n"
     ]
    }
   ],
   "source": [
    "# Create a sample DataFrame\n",
    "area = pd.Series({'California': 423967, 'Texas': 695662,\n",
    "                    'New York': 141297, 'Florida': 170312,\n",
    "                    'Illinois': 149995})\n",
    "pop = pd.Series({'California': 38332521, 'Texas': 26448193,\n",
    "                   'New York': 19651127, 'Florida': 19552860,\n",
    "                   'Illinois': 12882135})\n",
    "df = pd.DataFrame({'area':area, 'pop':pop})\n",
    "df['density'] = df['pop'] / df['area']\n",
    "print(\"Original DataFrame:\\n\", df)"
   ]
  },
  {
   "cell_type": "markdown",
   "id": "eb18b706",
   "metadata": {},
   "source": [
    "### `DataFrame` as a Dictionary\n",
    "You can access, modify, and add columns like you would with a dictionary."
   ]
  },
  {
   "cell_type": "code",
   "execution_count": 204,
   "id": "9e266278",
   "metadata": {},
   "outputs": [
    {
     "name": "stdout",
     "output_type": "stream",
     "text": [
      "df['area']:\n",
      " California    423967\n",
      "Texas         695662\n",
      "New York      141297\n",
      "Florida       170312\n",
      "Illinois      149995\n",
      "Name: area, dtype: int64\n"
     ]
    }
   ],
   "source": [
    "# Access a single column (returns a Series)\n",
    "print(\"df['area']:\\n\", df['area'])"
   ]
  },
  {
   "cell_type": "code",
   "execution_count": 205,
   "id": "621679e3",
   "metadata": {},
   "outputs": [
    {
     "name": "stdout",
     "output_type": "stream",
     "text": [
      "\n",
      "df[['area', 'density']]:\n",
      "               area     density\n",
      "California  423967   90.413926\n",
      "Texas       695662   38.018740\n",
      "New York    141297  139.076746\n",
      "Florida     170312  114.806121\n",
      "Illinois    149995   85.883763\n"
     ]
    }
   ],
   "source": [
    "# Access multiple columns (returns a DataFrame)\n",
    "print(\"\\ndf[['area', 'density']]:\\n\", df[['area', 'density']])"
   ]
  },
  {
   "cell_type": "code",
   "execution_count": 206,
   "id": "67ca06cb",
   "metadata": {},
   "outputs": [
    {
     "name": "stdout",
     "output_type": "stream",
     "text": [
      "\n",
      "df.density:\n",
      " California     90.413926\n",
      "Texas          38.018740\n",
      "New York      139.076746\n",
      "Florida       114.806121\n",
      "Illinois       85.883763\n",
      "Name: density, dtype: float64\n"
     ]
    }
   ],
   "source": [
    "# Attribute access for columns (works only for valid variable names)\n",
    "print(\"\\ndf.density:\\n\", df.density)"
   ]
  },
  {
   "cell_type": "code",
   "execution_count": 207,
   "id": "bfc7be4e",
   "metadata": {
    "lines_to_next_cell": 2
   },
   "outputs": [
    {
     "name": "stdout",
     "output_type": "stream",
     "text": [
      "\n",
      "DataFrame with new 'gdp' column:\n",
      "               area       pop     density            gdp\n",
      "California  423967  38332521   90.413926  1916626050000\n",
      "Texas       695662  26448193   38.018740  1322409650000\n",
      "New York    141297  19651127  139.076746   982556350000\n",
      "Florida     170312  19552860  114.806121   977643000000\n",
      "Illinois    149995  12882135   85.883763   644106750000\n"
     ]
    }
   ],
   "source": [
    "# Add a new column\n",
    "df['gdp'] = df['pop'] * 50000 # Example GDP calculation\n",
    "print(\"\\nDataFrame with new 'gdp' column:\\n\", df)"
   ]
  },
  {
   "cell_type": "code",
   "execution_count": null,
   "id": "bc0cb40f",
   "metadata": {},
   "outputs": [
    {
     "name": "stdout",
     "output_type": "stream",
     "text": [
      "df.values:\n",
      " [[4.23967000e+05 3.83325210e+07 9.50000000e+01 1.91662605e+12]\n",
      " [6.95662000e+05 2.64481930e+07 3.80187404e+01 1.32240965e+12]\n",
      " [1.41297000e+05 1.96511270e+07 1.39076746e+02 9.82556350e+11]\n",
      " [1.70312000e+05 1.95528600e+07 1.14806121e+02 9.77643000e+11]\n",
      " [1.49995000e+05 1.28821350e+07 8.58837628e+01 6.44106750e+11]]\n",
      "area         int64\n",
      "pop          int64\n",
      "density    float64\n",
      "gdp          int64\n",
      "dtype: object\n"
     ]
    }
   ],
   "source": [
    "# Get the underlying NumPy array\n",
    "print(df.values) # transformation to NumPy array results in type promotion\n",
    "print(df.dtypes)"
   ]
  },
  {
   "cell_type": "code",
   "execution_count": 209,
   "id": "9c52d25e",
   "metadata": {},
   "outputs": [
    {
     "name": "stdout",
     "output_type": "stream",
     "text": [
      "\n",
      "df.T:\n",
      "            California         Texas      New York       Florida      Illinois\n",
      "area     4.239670e+05  6.956620e+05  1.412970e+05  1.703120e+05  1.499950e+05\n",
      "pop      3.833252e+07  2.644819e+07  1.965113e+07  1.955286e+07  1.288214e+07\n",
      "density  9.041393e+01  3.801874e+01  1.390767e+02  1.148061e+02  8.588376e+01\n",
      "gdp      1.916626e+12  1.322410e+12  9.825564e+11  9.776430e+11  6.441068e+11\n"
     ]
    }
   ],
   "source": [
    "# Transpose the DataFrame\n",
    "print(\"\\ndf.T:\\n\", df.T)"
   ]
  },
  {
   "cell_type": "markdown",
   "id": "62f586d3",
   "metadata": {},
   "source": [
    "### `DataFrame` as a 2D Array\n",
    "Use `loc` and `iloc` for array-style indexing."
   ]
  },
  {
   "cell_type": "markdown",
   "id": "7a7b4be4",
   "metadata": {},
   "source": [
    "#### Using `iloc` (Integer-position based)"
   ]
  },
  {
   "cell_type": "code",
   "execution_count": 211,
   "id": "af654f9a",
   "metadata": {},
   "outputs": [
    {
     "name": "stdout",
     "output_type": "stream",
     "text": [
      "df.iloc[:3, :2]:\n",
      "               area       pop\n",
      "California  423967  38332521\n",
      "Texas       695662  26448193\n",
      "New York    141297  19651127\n"
     ]
    }
   ],
   "source": [
    "# Select first 3 rows, first 2 columns\n",
    "print(\"df.iloc[:3, :2]:\\n\", df.iloc[:3, :2])"
   ]
  },
  {
   "cell_type": "code",
   "execution_count": 212,
   "id": "0a7c5b71",
   "metadata": {},
   "outputs": [
    {
     "name": "stdout",
     "output_type": "stream",
     "text": [
      "\n",
      "Single row (df.iloc[1]):\n",
      " area       6.956620e+05\n",
      "pop        2.644819e+07\n",
      "density    3.801874e+01\n",
      "gdp        1.322410e+12\n",
      "Name: Texas, dtype: float64\n"
     ]
    }
   ],
   "source": [
    "# Select a single row\n",
    "print(\"\\nSingle row (df.iloc[1]):\\n\", df.iloc[1])"
   ]
  },
  {
   "cell_type": "code",
   "execution_count": 213,
   "id": "d256e60d",
   "metadata": {
    "lines_to_next_cell": 2
   },
   "outputs": [
    {
     "name": "stdout",
     "output_type": "stream",
     "text": [
      "\n",
      "Single value (df.iloc[0, 0]): 423967\n"
     ]
    }
   ],
   "source": [
    "# Select a single value\n",
    "print(\"\\nSingle value (df.iloc[0, 0]):\", df.iloc[0, 0])"
   ]
  },
  {
   "cell_type": "markdown",
   "id": "a4aa8c25",
   "metadata": {},
   "source": [
    "#### Using `loc` (Label-based)"
   ]
  },
  {
   "cell_type": "code",
   "execution_count": 214,
   "id": "d18b98ba",
   "metadata": {},
   "outputs": [
    {
     "name": "stdout",
     "output_type": "stream",
     "text": [
      "df.loc[:'Illinois', :'pop']:\n",
      "               area       pop\n",
      "California  423967  38332521\n",
      "Texas       695662  26448193\n",
      "New York    141297  19651127\n",
      "Florida     170312  19552860\n",
      "Illinois    149995  12882135\n"
     ]
    }
   ],
   "source": [
    "# Select rows up to 'Illinois', and columns up to 'pop'\n",
    "print(\"df.loc[:'Illinois', :'pop']:\\n\", df.loc[:'Illinois', :'pop'])"
   ]
  },
  {
   "cell_type": "code",
   "execution_count": 215,
   "id": "e90be9de",
   "metadata": {},
   "outputs": [
    {
     "name": "stdout",
     "output_type": "stream",
     "text": [
      "\n",
      "Single row (df.loc['Texas']):\n",
      " area       6.956620e+05\n",
      "pop        2.644819e+07\n",
      "density    3.801874e+01\n",
      "gdp        1.322410e+12\n",
      "Name: Texas, dtype: float64\n"
     ]
    }
   ],
   "source": [
    "# Select a single row by label\n",
    "print(\"\\nSingle row (df.loc['Texas']):\\n\", df.loc['Texas'])"
   ]
  },
  {
   "cell_type": "code",
   "execution_count": 216,
   "id": "a5134e24",
   "metadata": {},
   "outputs": [
    {
     "name": "stdout",
     "output_type": "stream",
     "text": [
      "\n",
      "Single value (df.loc['Florida', 'density']): 114.80612053173\n"
     ]
    }
   ],
   "source": [
    "# Select a single value by labels\n",
    "print(\"\\nSingle value (df.loc['Florida', 'density']):\", df.loc['Florida', 'density'])"
   ]
  },
  {
   "cell_type": "code",
   "execution_count": 217,
   "id": "5a9e41f2",
   "metadata": {
    "lines_to_next_cell": 2
   },
   "outputs": [
    {
     "name": "stdout",
     "output_type": "stream",
     "text": [
      "\n",
      "After setting density for California:\n",
      "               area       pop  density            gdp\n",
      "California  423967  38332521     95.0  1916626050000\n"
     ]
    }
   ],
   "source": [
    "# Set a single value by labels\n",
    "df.loc['California', 'density'] = 95.0\n",
    "print(\"\\nAfter setting density for California:\\n\", df.head(1))"
   ]
  },
  {
   "cell_type": "markdown",
   "id": "089fdf1d",
   "metadata": {},
   "source": [
    "### Combining Indexing Methods"
   ]
  },
  {
   "cell_type": "code",
   "execution_count": 218,
   "id": "fe6580e3",
   "metadata": {},
   "outputs": [
    {
     "name": "stdout",
     "output_type": "stream",
     "text": [
      "df.loc[df.density > 100, ['pop', 'density']]:\n",
      "                pop     density\n",
      "New York  19651127  139.076746\n",
      "Florida   19552860  114.806121\n"
     ]
    }
   ],
   "source": [
    "# Combine masking and fancy indexing with .loc\n",
    "print(\"df.loc[df.density > 100, ['pop', 'density']]:\\n\", df.loc[df.density > 100, ['pop', 'density']])"
   ]
  },
  {
   "cell_type": "code",
   "execution_count": 219,
   "id": "649e7f13",
   "metadata": {
    "lines_to_next_cell": 2
   },
   "outputs": [
    {
     "name": "stdout",
     "output_type": "stream",
     "text": [
      "\n",
      "df.loc[df.density > 100, 'pop']:\n",
      " New York    19651127\n",
      "Florida     19552860\n",
      "Name: pop, dtype: int64\n"
     ]
    }
   ],
   "source": [
    "# Combine label and integer indexing (less common, but possible)\n",
    "# Note: .ix is deprecated. Use .loc or .iloc instead.\n",
    "# Example of mixing types with loc (columns must be labels)\n",
    "print(\"\\ndf.loc[df.density > 100, 'pop']:\\n\", df.loc[df.density > 100, 'pop'])"
   ]
  },
  {
   "cell_type": "markdown",
   "id": "698cb476",
   "metadata": {},
   "source": [
    "### Additional Indexing Conventions"
   ]
  },
  {
   "cell_type": "code",
   "execution_count": 231,
   "id": "4a629619",
   "metadata": {},
   "outputs": [
    {
     "name": "stdout",
     "output_type": "stream",
     "text": [
      "              area       pop     density            gdp\n",
      "California  423967  38332521   95.000000  1916626050000\n",
      "Texas       695662  26448193   38.018740  1322409650000\n",
      "New York    141297  19651127  139.076746   982556350000\n",
      "Florida     170312  19552860  114.806121   977643000000\n",
      "Illinois    149995  12882135   85.883763   644106750000\n",
      "\n",
      "Direct slice df['Florida':'Illinois']:\n",
      "             area       pop     density           gdp\n",
      "Florida   170312  19552860  114.806121  977643000000\n",
      "Illinois  149995  12882135   85.883763  644106750000\n"
     ]
    }
   ],
   "source": [
    "# Slicing a DataFrame directly slices the rows by label\n",
    "print(df)\n",
    "print(\"\\nDirect slice df['Florida':'Illinois']:\\n\", df['Florida':'Illinois'])"
   ]
  },
  {
   "cell_type": "code",
   "execution_count": 228,
   "id": "82f9a933",
   "metadata": {},
   "outputs": [
    {
     "name": "stdout",
     "output_type": "stream",
     "text": [
      "              area       pop     density            gdp\n",
      "California  423967  38332521   95.000000  1916626050000\n",
      "Texas       695662  26448193   38.018740  1322409650000\n",
      "New York    141297  19651127  139.076746   982556350000\n",
      "Florida     170312  19552860  114.806121   977643000000\n",
      "Illinois    149995  12882135   85.883763   644106750000\n",
      "\n",
      "Direct integer slice df[1:3]:\n",
      "             area       pop     density            gdp\n",
      "Texas     695662  26448193   38.018740  1322409650000\n",
      "New York  141297  19651127  139.076746   982556350000\n"
     ]
    }
   ],
   "source": [
    "# Slicing a DataFrame with integers slices rows by position\n",
    "print(df)\n",
    "print(\"\\nDirect integer slice df[1:3]:\\n\", df[1:3])"
   ]
  },
  {
   "cell_type": "code",
   "execution_count": 229,
   "id": "0f3496a5",
   "metadata": {
    "lines_to_next_cell": 2
   },
   "outputs": [
    {
     "name": "stdout",
     "output_type": "stream",
     "text": [
      "              area       pop     density            gdp\n",
      "California  423967  38332521   95.000000  1916626050000\n",
      "Texas       695662  26448193   38.018740  1322409650000\n",
      "New York    141297  19651127  139.076746   982556350000\n",
      "Florida     170312  19552860  114.806121   977643000000\n",
      "Illinois    149995  12882135   85.883763   644106750000\n",
      "\n",
      "Direct masking df[df.density > 100]:\n",
      "             area       pop     density           gdp\n",
      "New York  141297  19651127  139.076746  982556350000\n",
      "Florida   170312  19552860  114.806121  977643000000\n"
     ]
    }
   ],
   "source": [
    "# Direct masking also applies to rows\n",
    "print(df)\n",
    "print(\"\\nDirect masking df[df.density > 100]:\\n\", df[df.density > 100])"
   ]
  }
 ],
 "metadata": {
  "jupytext": {
   "cell_metadata_filter": "-all",
   "main_language": "python",
   "notebook_metadata_filter": "-all"
  },
  "language_info": {
   "name": "python"
  }
 },
 "nbformat": 4,
 "nbformat_minor": 5
}
