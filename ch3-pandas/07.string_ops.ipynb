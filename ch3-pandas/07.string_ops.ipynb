{
 "cells": [
  {
   "cell_type": "code",
   "execution_count": null,
   "id": "3fb24257",
   "metadata": {},
   "outputs": [],
   "source": [
    "import pandas as pd\n",
    "import numpy as np"
   ]
  },
  {
   "cell_type": "markdown",
   "id": "e9db18b7",
   "metadata": {},
   "source": [
    "# Vectorized String Operations\n",
    "\n",
    "Working with text data is very common. Pandas provides a set of vectorized string functions that are essential for cleaning and manipulating textual data.\n",
    "\n",
    "These functions are accessed via the `.str` attribute of a `Series` that contains strings."
   ]
  },
  {
   "cell_type": "markdown",
   "id": "489eb2a0",
   "metadata": {},
   "source": [
    "## Introducing Pandas String Operations\n",
    "\n",
    "Let's start with a simple `Series` to see how the `.str` accessor works."
   ]
  },
  {
   "cell_type": "code",
   "execution_count": null,
   "id": "bb79dc15",
   "metadata": {},
   "outputs": [],
   "source": [
    "data = pd.Series(['peter', 'Paul', 'MARY', 'gUIDO'])\n",
    "data"
   ]
  },
  {
   "cell_type": "code",
   "execution_count": null,
   "id": "0ffa4db6",
   "metadata": {},
   "outputs": [],
   "source": [
    "# You can apply string methods like `upper()` to every element.\n",
    "# Without the .str accessor, this would fail.\n",
    "data.str.upper()"
   ]
  },
  {
   "cell_type": "markdown",
   "id": "4c31c88e",
   "metadata": {},
   "source": [
    "## Tables of Pandas String Methods\n",
    "\n",
    "Pandas provides dozens of string methods. They generally mirror the built-in string methods in Python, but work on an entire `Series` at once.\n",
    "\n",
    "### Methods for case conversion"
   ]
  },
  {
   "cell_type": "code",
   "execution_count": null,
   "id": "ccf05f3f",
   "metadata": {},
   "outputs": [],
   "source": [
    "data.str.lower()   # Convert to lowercase\n",
    "data.str.upper()   # Convert to uppercase\n",
    "data.str.capitalize() # Capitalize the first character"
   ]
  },
  {
   "cell_type": "markdown",
   "id": "a5316b7f",
   "metadata": {},
   "source": [
    "### Methods for splitting and joining"
   ]
  },
  {
   "cell_type": "code",
   "execution_count": null,
   "id": "5b950705",
   "metadata": {},
   "outputs": [],
   "source": [
    "# The split() method splits each string into a list of substrings.\n",
    "data_split = pd.Series(['a_b_c', 'd_e_f', 'g_h_i'])\n",
    "data_split.str.split('_')"
   ]
  },
  {
   "cell_type": "markdown",
   "id": "6735af18",
   "metadata": {},
   "source": [
    "### Methods for finding and replacing"
   ]
  },
  {
   "cell_type": "code",
   "execution_count": null,
   "id": "1f3be7a9",
   "metadata": {},
   "outputs": [],
   "source": [
    "# The contains() method returns a boolean Series indicating if the string contains a pattern.\n",
    "data.str.contains('P')"
   ]
  },
  {
   "cell_type": "code",
   "execution_count": null,
   "id": "353b2890",
   "metadata": {},
   "outputs": [],
   "source": [
    "# The replace() method substitutes occurrences of a pattern.\n",
    "data.str.replace('peter', 'Charlie')"
   ]
  },
  {
   "cell_type": "markdown",
   "id": "282fb3eb",
   "metadata": {},
   "source": [
    "### Methods using regular expressions\n",
    "\n",
    "Many methods also accept regular expressions, which makes them very powerful."
   ]
  },
  {
   "cell_type": "code",
   "execution_count": null,
   "id": "bd706791",
   "metadata": {},
   "outputs": [],
   "source": [
    "# The extract() method can extract matched groups from a regular expression.\n",
    "data_regex = pd.Series(['a1', 'b2', 'c3'])\n",
    "data_regex.str.extract('([ab])(\\d)') #type: ignore"
   ]
  },
  {
   "cell_type": "markdown",
   "id": "d31c2f68",
   "metadata": {},
   "source": [
    "## Example: Recipe Database\n",
    "\n",
    "Let's use these methods on a small, sample recipe dataset to see them in action."
   ]
  },
  {
   "cell_type": "code",
   "execution_count": null,
   "id": "c2e2a31b",
   "metadata": {},
   "outputs": [],
   "source": [
    "recipes = pd.DataFrame({\n",
    "    'name': ['Spaghetti Bolognese', 'Chicken Noodle Soup', 'Vegan Chili', 'Fish and Chips'],\n",
    "    'cuisine': ['Italian', 'American', 'Mexican', 'British'],\n",
    "    'ingredients': ['pasta, ground beef, tomatoes, onion', \n",
    "                    'chicken broth, chicken, noodles, carrots', \n",
    "                    'beans, tomatoes, onion, chili powder', \n",
    "                    'fish, potatoes, flour, oil']\n",
    "})\n",
    "recipes"
   ]
  },
  {
   "cell_type": "markdown",
   "id": "c71353ec",
   "metadata": {},
   "source": [
    "Let's say we want to find all recipes that have chicken in them."
   ]
  },
  {
   "cell_type": "code",
   "execution_count": null,
   "id": "23eb4a79",
   "metadata": {},
   "outputs": [],
   "source": [
    "recipes[recipes['name'].str.contains('Chicken')]"
   ]
  },
  {
   "cell_type": "markdown",
   "id": "fbe35273",
   "metadata": {},
   "source": [
    "We can also work with the ingredients column. Let's find the length of each ingredient list."
   ]
  },
  {
   "cell_type": "code",
   "execution_count": null,
   "id": "7aa2f4fe",
   "metadata": {},
   "outputs": [],
   "source": [
    "recipes['ingredients'].str.len()"
   ]
  },
  {
   "cell_type": "markdown",
   "id": "7e39a155",
   "metadata": {},
   "source": [
    "What if we want to create a new column that tells us how many ingredients each recipe has? We can use `str.split()` and then `str.len()` on the resulting lists."
   ]
  },
  {
   "cell_type": "code",
   "execution_count": null,
   "id": "5bbb1876",
   "metadata": {},
   "outputs": [],
   "source": [
    "recipes['ingredient_count'] = recipes['ingredients'].str.split(',').str.len()\n",
    "recipes"
   ]
  },
  {
   "cell_type": "markdown",
   "id": "7455a923",
   "metadata": {},
   "source": [
    "Let's find all recipes that use tomatoes."
   ]
  },
  {
   "cell_type": "code",
   "execution_count": null,
   "id": "f347c3eb",
   "metadata": {},
   "outputs": [],
   "source": [
    "recipes[recipes['ingredients'].str.contains('tomatoes')]"
   ]
  },
  {
   "cell_type": "markdown",
   "id": "cf99f3a7",
   "metadata": {},
   "source": [
    "We can even create a new `Series` that contains just the first ingredient of each recipe."
   ]
  },
  {
   "cell_type": "code",
   "execution_count": null,
   "id": "2f6e5e92",
   "metadata": {},
   "outputs": [],
   "source": [
    "recipes['ingredients'].str.split(',').str.get(0)"
   ]
  }
 ],
 "metadata": {
  "jupytext": {
   "cell_metadata_filter": "-all",
   "main_language": "python",
   "notebook_metadata_filter": "-all"
  },
  "kernelspec": {
   "display_name": "Python 3",
   "language": "python",
   "name": "python3"
  },
  "language_info": {
   "codemirror_mode": {
    "name": "ipython",
    "version": 3
   },
   "file_extension": ".py",
   "mimetype": "text/x-python",
   "name": "python",
   "nbconvert_exporter": "python",
   "pygments_lexer": "ipython3",
   "version": "3.13.5"
  }
 },
 "nbformat": 4,
 "nbformat_minor": 5
}
