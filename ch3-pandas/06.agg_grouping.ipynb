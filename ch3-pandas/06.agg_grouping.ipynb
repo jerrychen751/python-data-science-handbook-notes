{
 "cells": [
  {
   "cell_type": "markdown",
   "id": "ab4b8612",
   "metadata": {},
   "source": [
    "# Aggregation and Grouping\n",
    "\n",
    "An essential piece of data analysis is summarizing data. This often involves a \"group by\" operation, where you split data into groups, apply some function to each group (like an aggregation), and then combine the results."
   ]
  },
  {
   "cell_type": "code",
   "execution_count": null,
   "id": "f9a8aef0",
   "metadata": {},
   "outputs": [],
   "source": [
    "import pandas as pd\n",
    "import numpy as np"
   ]
  },
  {
   "cell_type": "code",
   "execution_count": null,
   "id": "cefec301",
   "metadata": {},
   "outputs": [],
   "source": [
    "# For this notebook, we'll use the Planets dataset\n",
    "import seaborn as sns\n",
    "planets = sns.load_dataset('planets')\n",
    "planets.shape"
   ]
  },
  {
   "cell_type": "code",
   "execution_count": null,
   "id": "0f137a4c",
   "metadata": {},
   "outputs": [],
   "source": [
    "planets.head()"
   ]
  },
  {
   "cell_type": "markdown",
   "id": "2ecdb0b9",
   "metadata": {},
   "source": [
    "## Simple Aggregation in Pandas\n",
    "\n",
    "A `DataFrame` can have aggregations computed over its columns."
   ]
  },
  {
   "cell_type": "code",
   "execution_count": null,
   "id": "aff04058",
   "metadata": {},
   "outputs": [],
   "source": [
    "# Create a simple DataFrame\n",
    "df = pd.DataFrame([[1, 2, 3],\n",
    "                   [4, 5, 6],\n",
    "                   [7, 8, 9],\n",
    "                   [np.nan, np.nan, np.nan]],\n",
    "                  columns=['A', 'B', 'C'])\n",
    "\n",
    "# Aggregate functions\n",
    "df.mean(axis=0) # Get mean of each column"
   ]
  },
  {
   "cell_type": "code",
   "execution_count": null,
   "id": "f38409b3",
   "metadata": {},
   "outputs": [],
   "source": [
    "# The describe() method computes several common aggregates\n",
    "planets.dropna().describe()"
   ]
  },
  {
   "cell_type": "markdown",
   "id": "213cb6a0",
   "metadata": {},
   "source": [
    "## GroupBy: Split, Apply, Combine\n",
    "\n",
    "The real power of these operations comes with the `groupby()` method. It follows a three-step process:\n",
    "1.  **Split**: Break up the data into groups based on some key.\n",
    "2.  **Apply**: Compute some function (usually an aggregate, transformation, or filter) within the individual groups.\n",
    "3.  **Combine**: Merge the results of these operations into an output array."
   ]
  },
  {
   "cell_type": "code",
   "execution_count": null,
   "id": "71fef850",
   "metadata": {},
   "outputs": [],
   "source": [
    "# `groupby` takes columns for `by` parameter by default\n",
    "# to specify grouping by index label, use `level` parameter\n",
    "planets.groupby('method')['orbital_period'].median()"
   ]
  },
  {
   "cell_type": "markdown",
   "id": "e4fbbe68",
   "metadata": {},
   "source": [
    "The `groupby()` object is very flexible. You can iterate over it to see the groups. It creates invisible boundaries between each specified group based on a key value so that rows with the same value are grouped together. This works well for aggregating statistics on an unsorted dataset."
   ]
  },
  {
   "cell_type": "code",
   "execution_count": null,
   "id": "8ef91217",
   "metadata": {},
   "outputs": [],
   "source": [
    "# Iterating over groups\n",
    "for (method, group) in planets.groupby('method'):\n",
    "    print(f\"{method:30s} shape={group.shape}\")"
   ]
  },
  {
   "cell_type": "markdown",
   "id": "7d2a9204",
   "metadata": {},
   "source": [
    "### Aggregate, Filter, Transform, Apply\n",
    "\n",
    "The `groupby` object has several useful methods.\n",
    "\n",
    "**Aggregation**: The `aggregate()` method can take a string, a function, or a list thereof and compute all the aggregates at once."
   ]
  },
  {
   "cell_type": "code",
   "execution_count": null,
   "id": "b0bb4397",
   "metadata": {
    "lines_to_next_cell": 1
   },
   "outputs": [],
   "source": [
    "planets.groupby('method')['distance'].aggregate(['min', 'median', 'max'])"
   ]
  },
  {
   "cell_type": "markdown",
   "id": "9386373b",
   "metadata": {},
   "source": [
    "**Filtering**: A filtering operation allows you to drop data based on the group properties. For example, we might want to keep all groups in which the standard deviation is larger than some critical value."
   ]
  },
  {
   "cell_type": "code",
   "execution_count": null,
   "id": "972b24de",
   "metadata": {},
   "outputs": [],
   "source": [
    "def filter_func(x):\n",
    "    return x['distance'].std() > 50\n",
    "\n",
    "planets.groupby('method').filter(filter_func).groupby('method').size()\n",
    "# filter iterates on the smaller grouped dataframes from groupby and then returns a concatenated version of \"passing\" dataframes\n",
    "# .size() is useful for counting the number of elements within a specific group"
   ]
  },
  {
   "cell_type": "markdown",
   "id": "cc8fe190",
   "metadata": {},
   "source": [
    "**Transformation**: While aggregation must return a reduced version of the data, transformation can return some transformed version of the full data to recombine. A common example is to center the data by subtracting the group-wise mean."
   ]
  },
  {
   "cell_type": "code",
   "execution_count": null,
   "id": "9954e3ab",
   "metadata": {
    "lines_to_next_cell": 1
   },
   "outputs": [],
   "source": [
    "planets.groupby('method').transform(lambda x: x - x.mean()).head()\n",
    "\n",
    "# Performs element-wise operation, often using lambda function\n",
    "# Returns same shape as original Series/DataFrame"
   ]
  },
  {
   "cell_type": "markdown",
   "id": "04a848e4",
   "metadata": {},
   "source": [
    "**Apply**: The `apply()` method lets you apply an arbitrary function to the group results. The function should take a `DataFrame` and return either a Pandas object (e.g., `DataFrame`, `Series`) or a scalar."
   ]
  },
  {
   "cell_type": "code",
   "execution_count": null,
   "id": "44b9af51",
   "metadata": {},
   "outputs": [],
   "source": [
    "# Example: Get the second-largest distance for each method\n",
    "def get_second_largest_dist(x):\n",
    "    return x.nlargest(2, 'distance')\n",
    "\n",
    "planets.groupby('method').apply(get_second_largest_dist, include_groups=False)\n",
    "# Best practice includes either selecting the columns that the function is being applied to\n",
    "# or specifying include_groups=False which prevents grouping column (from groupby) from being added\n",
    "# to the DataFrame passed to the applied function\n",
    "\n",
    "# This is because when smaller groupwise dfs are passed to the applied function, the grouping key is still included as a column (e.g., Method: a, a, a, a, a...). This causes issues if the applied function is only supposed to operate on numeric values and the grouping column has string values, or something like that."
   ]
  },
  {
   "cell_type": "markdown",
   "id": "68f686d5",
   "metadata": {},
   "source": [
    "# Additional Ways to Specify Keys for GroupBy"
   ]
  },
  {
   "cell_type": "markdown",
   "id": "9811b40a",
   "metadata": {},
   "source": [
    "In the previous sections, we saw how to use a single column name to specify the groups for a `groupby` operation. Here, we'll explore other ways to define groups."
   ]
  },
  {
   "cell_type": "code",
   "execution_count": null,
   "id": "8c598d20",
   "metadata": {},
   "outputs": [],
   "source": [
    "# We'll use the following DataFrame for our examples:\n",
    "df = pd.DataFrame({'key': ['A', 'B', 'C', 'A', 'B', 'C'],\n",
    "                   'data1': range(6),\n",
    "                   'data2': np.random.randint(0, 10, 6)},\n",
    "                  columns = ['key', 'data1', 'data2'])\n",
    "df"
   ]
  },
  {
   "cell_type": "markdown",
   "id": "f669a49a",
   "metadata": {},
   "source": [
    "## 1. A List, Array, Series, or Index"
   ]
  },
  {
   "cell_type": "markdown",
   "id": "fd5bd46c",
   "metadata": {},
   "source": [
    "You can provide a list, array, or Series with a length matching the number of rows in the DataFrame to specify the grouping keys."
   ]
  },
  {
   "cell_type": "code",
   "execution_count": null,
   "id": "6b19cb57",
   "metadata": {},
   "outputs": [],
   "source": [
    "L = [0, 1, 0, 1, 2, 0]\n",
    "# list is ordered by row indices; values as grouping keys may be anything hashable\n",
    "df.groupby(L).sum(numeric_only=True)"
   ]
  },
  {
   "cell_type": "code",
   "execution_count": null,
   "id": "98d4e006",
   "metadata": {},
   "outputs": [],
   "source": [
    "# This is equivalent to the `df.groupby('key')` we've seen before, but more verbose. It is essentially passing in a `pd.Series` object to groupby, instead of specifying a column name.\n",
    "df.groupby(df['key']).sum()"
   ]
  },
  {
   "cell_type": "markdown",
   "id": "d1fdf36c",
   "metadata": {},
   "source": [
    "## 2. A Dictionary or Series Mapping the Index to a Group"
   ]
  },
  {
   "cell_type": "markdown",
   "id": "3d9faea7",
   "metadata": {},
   "source": [
    "Another way to specify groups is to provide a dictionary or a Series that maps the index values to group keys."
   ]
  },
  {
   "cell_type": "code",
   "execution_count": null,
   "id": "5fe93695",
   "metadata": {},
   "outputs": [],
   "source": [
    "# First, let's set the 'key' column as the index.\n",
    "print(df)\n",
    "df2 = df.set_index('key')\n",
    "df2"
   ]
  },
  {
   "cell_type": "code",
   "execution_count": null,
   "id": "cdd5fb15",
   "metadata": {},
   "outputs": [],
   "source": [
    "# Now, let's define a mapping from the index values to groups.\n",
    "mapping = {'A': 'vowel', 'B': 'consonant'}\n",
    "df2.groupby(mapping).max() #type: ignore\n",
    "\n",
    "# The keys of the dictionary map to unique index values in the dataframe, which in this case is `key`.\n",
    "# The values of the dictionary map to the grouping keys for `groupby`.\n",
    "# Any index values that are excluded are excluded from the grouping and subsequent aggregation function."
   ]
  },
  {
   "cell_type": "markdown",
   "id": "c7e8827d",
   "metadata": {},
   "source": [
    "## 3. Any Python Function"
   ]
  },
  {
   "cell_type": "markdown",
   "id": "2a1139bc",
   "metadata": {},
   "source": [
    "You can also pass any Python function that takes the index value as input and returns the group as output."
   ]
  },
  {
   "cell_type": "code",
   "execution_count": null,
   "id": "31a2fcf8",
   "metadata": {},
   "outputs": [],
   "source": [
    "# For example, we can group by the lowercase version of the index values:\n",
    "df2.groupby(str.lower).mean()"
   ]
  },
  {
   "cell_type": "markdown",
   "id": "eda5a75c",
   "metadata": {},
   "source": [
    "## 4. A List of Valid Keys"
   ]
  },
  {
   "cell_type": "markdown",
   "id": "0208e38f",
   "metadata": {},
   "source": [
    "Any of the preceding key choices can be combined to group on a multi-index."
   ]
  },
  {
   "cell_type": "code",
   "execution_count": null,
   "id": "f241fad5",
   "metadata": {},
   "outputs": [],
   "source": [
    "df2.groupby([str.lower, mapping]).mean()"
   ]
  },
  {
   "cell_type": "markdown",
   "id": "a6124fc8",
   "metadata": {},
   "source": [
    "## Grouping Example"
   ]
  },
  {
   "cell_type": "markdown",
   "id": "1f0d024e",
   "metadata": {},
   "source": [
    "Let's see a more complex example that combines these concepts. We'll use a dataset of discovered exoplanets."
   ]
  },
  {
   "cell_type": "code",
   "execution_count": null,
   "id": "dcd93d69",
   "metadata": {},
   "outputs": [],
   "source": [
    "decade = 10 * (planets['year'] // 10)\n",
    "decade = decade.astype(str) + 's'\n",
    "decade.name = 'decade'\n",
    "result = planets.groupby(['method', decade])['number'].sum().unstack().fillna(0)\n",
    "\n",
    "result"
   ]
  },
  {
   "cell_type": "markdown",
   "id": "5d356618",
   "metadata": {},
   "source": [
    "This example demonstrates the power of combining different grouping strategies. In just a few lines of code, we can get a summary of how many planets were discovered by each method in each decade."
   ]
  },
  {
   "cell_type": "markdown",
   "id": "ba5b04ef",
   "metadata": {},
   "source": [
    "# Pivot Tables"
   ]
  },
  {
   "cell_type": "markdown",
   "id": "5025aff1",
   "metadata": {},
   "source": [
    "`GroupBy` allows us to explore relationships in a dataset. A pivot table is a similar operation that takes column-wise data and groups it into a two-dimensional table, providing a multidimensional summary."
   ]
  },
  {
   "cell_type": "markdown",
   "id": "f612e367",
   "metadata": {},
   "source": [
    "Think of pivot tables as a multidimensional version of `GroupBy` aggregation. You split-apply-combine across a two-dimensional grid instead of a one-dimensional index."
   ]
  },
  {
   "cell_type": "markdown",
   "id": "663c6ebb",
   "metadata": {},
   "source": [
    "## Motivating Pivot Tables"
   ]
  },
  {
   "cell_type": "markdown",
   "id": "d4a23178",
   "metadata": {},
   "source": [
    "We'll use the Titanic dataset from the Seaborn library for these examples."
   ]
  },
  {
   "cell_type": "code",
   "execution_count": null,
   "id": "3011d266",
   "metadata": {},
   "outputs": [],
   "source": [
    "import seaborn as sns\n",
    "titanic = sns.load_dataset('titanic')\n",
    "titanic.head()"
   ]
  },
  {
   "cell_type": "markdown",
   "id": "fc1aa866",
   "metadata": {},
   "source": [
    "## Pivot Tables by Hand"
   ]
  },
  {
   "cell_type": "markdown",
   "id": "2902a2c7",
   "metadata": {},
   "source": [
    "To understand the data, we can group it by different attributes. For example, let's look at the survival rate by gender."
   ]
  },
  {
   "cell_type": "code",
   "execution_count": null,
   "id": "01390e76",
   "metadata": {},
   "outputs": [],
   "source": [
    "titanic.groupby('sex')[['survived']].mean()"
   ]
  },
  {
   "cell_type": "markdown",
   "id": "e9097065",
   "metadata": {},
   "source": [
    "This shows that about 74% of females survived, while only about 19% of males survived."
   ]
  },
  {
   "cell_type": "markdown",
   "id": "43964c1a",
   "metadata": {},
   "source": [
    "Now, let's look at survival by both sex and class."
   ]
  },
  {
   "cell_type": "code",
   "execution_count": null,
   "id": "ba999811",
   "metadata": {},
   "outputs": [],
   "source": [
    "titanic.groupby(['sex', 'class'], observed=True)['survived'].mean().unstack()"
   ]
  },
  {
   "cell_type": "markdown",
   "id": "5375104a",
   "metadata": {},
   "source": [
    "This gives us a better idea of how sex and class affected survival, but the code is a bit complex. The `pivot_table` method provides a more readable way to do this."
   ]
  },
  {
   "cell_type": "markdown",
   "id": "12ff485b",
   "metadata": {},
   "source": [
    "## Pivot Table Syntax"
   ]
  },
  {
   "cell_type": "markdown",
   "id": "2773c144",
   "metadata": {},
   "source": [
    "Here's the equivalent of the previous operation using `pivot_table`:"
   ]
  },
  {
   "cell_type": "code",
   "execution_count": null,
   "id": "e22da81c",
   "metadata": {},
   "outputs": [],
   "source": [
    "print(titanic)\n",
    "titanic.pivot_table('survived', index='sex', columns='class', observed=True) # default aggfunc is mean"
   ]
  },
  {
   "cell_type": "markdown",
   "id": "81a1ea76",
   "metadata": {},
   "source": [
    "This is much easier to read and produces the same result."
   ]
  },
  {
   "cell_type": "markdown",
   "id": "4fbc5184",
   "metadata": {},
   "source": [
    "## Multilevel Pivot Tables"
   ]
  },
  {
   "cell_type": "markdown",
   "id": "949986ff",
   "metadata": {},
   "source": [
    "We can also specify multiple levels for grouping. Let's add age as a third dimension."
   ]
  },
  {
   "cell_type": "code",
   "execution_count": null,
   "id": "633f430a",
   "metadata": {},
   "outputs": [],
   "source": [
    "age = pd.cut(titanic['age'], [0, 18, 80])\n",
    "titanic.pivot_table('survived', ['sex', age], 'class', observed=False) # multiple indexing"
   ]
  },
  {
   "cell_type": "markdown",
   "id": "09cab116",
   "metadata": {},
   "source": [
    "We can also work with columns. Let's add the fare paid."
   ]
  },
  {
   "cell_type": "code",
   "execution_count": null,
   "id": "4d3b1fae",
   "metadata": {},
   "outputs": [],
   "source": [
    "fare = pd.qcut(titanic['fare'], 2)\n",
    "titanic.pivot_table('survived', ['sex', age], [fare, 'class'], observed=False)"
   ]
  },
  {
   "cell_type": "markdown",
   "id": "1187c597",
   "metadata": {},
   "source": [
    "## Additional Pivot Table Options"
   ]
  },
  {
   "cell_type": "markdown",
   "id": "d65fd0ca",
   "metadata": {},
   "source": [
    "The `pivot_table` method has several other options. The `aggfunc` keyword controls the aggregation type (default is 'mean')."
   ]
  },
  {
   "cell_type": "code",
   "execution_count": null,
   "id": "576d8876",
   "metadata": {},
   "outputs": [],
   "source": [
    "titanic.pivot_table(index='sex', columns='class',\n",
    "                   aggfunc={'survived':'sum', 'fare':'mean'},\n",
    "                   observed=False)"
   ]
  },
  {
   "cell_type": "markdown",
   "id": "54f845f3",
   "metadata": {},
   "source": [
    "The `margins` keyword is useful for computing totals along each grouping."
   ]
  },
  {
   "cell_type": "code",
   "execution_count": null,
   "id": "3cb68a0e",
   "metadata": {},
   "outputs": [],
   "source": [
    "titanic.pivot_table('survived', index='sex', columns='class', margins=True, observed=False)"
   ]
  },
  {
   "cell_type": "markdown",
   "id": "148ac240",
   "metadata": {},
   "source": [
    "## Example: Birthrate Data"
   ]
  },
  {
   "cell_type": "markdown",
   "id": "b0d14282",
   "metadata": {},
   "source": [
    "Let's look at the US birthrate data from the CDC."
   ]
  },
  {
   "cell_type": "code",
   "execution_count": null,
   "id": "11cfe7b3",
   "metadata": {},
   "outputs": [],
   "source": [
    "births = pd.read_csv('../data/births.csv')\n",
    "print(births)\n",
    "\n",
    "# Add a decade column and look at male and female births by decade.\n",
    "births['decade'] = 10 * (births['year'] // 10)\n",
    "births.pivot_table('births', index='decade', columns='gender', aggfunc='sum')"
   ]
  },
  {
   "cell_type": "markdown",
   "id": "2d9cba47",
   "metadata": {},
   "source": [
    "We can see that male births outnumber female births in every decade. Let's visualize this."
   ]
  },
  {
   "cell_type": "code",
   "execution_count": null,
   "id": "751dc5a9",
   "metadata": {},
   "outputs": [],
   "source": [
    "import matplotlib.pyplot as plt\n",
    "births.pivot_table('births', index='year', columns='gender', aggfunc='sum').plot()\n",
    "plt.ylabel('total births per year');"
   ]
  },
  {
   "cell_type": "markdown",
   "id": "0327efe0",
   "metadata": {},
   "source": [
    "### Further Data Exploration"
   ]
  },
  {
   "cell_type": "markdown",
   "id": "0111edf9",
   "metadata": {},
   "source": [
    "Let's clean the data by removing outliers."
   ]
  },
  {
   "cell_type": "code",
   "execution_count": null,
   "id": "788e077a",
   "metadata": {},
   "outputs": [],
   "source": [
    "quartiles = np.percentile(births['births'], [25, 50, 75])\n",
    "mu = quartiles[1]\n",
    "sig = 0.74 * (quartiles[2] - quartiles[0])\n",
    "births = births.query('(births > @mu - 5 * @sig) & (births < @mu + 5 * @sig)')"
   ]
  },
  {
   "cell_type": "code",
   "execution_count": null,
   "id": "39c505c9",
   "metadata": {},
   "outputs": [],
   "source": [
    "# Set the 'day' column to integer type.\n",
    "births['day'] = births['day'].astype(int)"
   ]
  },
  {
   "cell_type": "code",
   "execution_count": null,
   "id": "b86987c8",
   "metadata": {},
   "outputs": [],
   "source": [
    "# Create a datetime index from the year, month, and day.\n",
    "print(births)\n",
    "births.index = pd.to_datetime(births[['year', 'month', 'day']], errors='coerce')\n",
    "births['dayofweek'] = births.index.dayofweek\n",
    "births"
   ]
  },
  {
   "cell_type": "markdown",
   "id": "d4e2fd7f",
   "metadata": {},
   "source": [
    "Plot births by weekday for several decades."
   ]
  },
  {
   "cell_type": "code",
   "execution_count": null,
   "id": "bf3af32c",
   "metadata": {},
   "outputs": [],
   "source": [
    "import matplotlib.pyplot as plt\n",
    "import matplotlib as mpl\n",
    "births.pivot_table('births', index='dayofweek', columns='decade', aggfunc='mean').plot()\n",
    "plt.gca().set_xticklabels(['Mon', 'Tues', 'Wed', 'Thurs', 'Fri', 'Sat', 'Sun'])\n",
    "plt.ylabel('mean births by day');"
   ]
  },
  {
   "cell_type": "markdown",
   "id": "bb59e267",
   "metadata": {},
   "source": [
    "It appears that births are less common on weekends."
   ]
  },
  {
   "cell_type": "markdown",
   "id": "efb8f4a0",
   "metadata": {},
   "source": [
    "Let's plot the mean number of births by the day of the year."
   ]
  },
  {
   "cell_type": "code",
   "execution_count": null,
   "id": "895f6837",
   "metadata": {},
   "outputs": [],
   "source": [
    "births.index"
   ]
  },
  {
   "cell_type": "code",
   "execution_count": null,
   "id": "243ea139",
   "metadata": {},
   "outputs": [],
   "source": [
    "# Calculates the births for each calendar day, averaged throughout the years\n",
    "births_by_date = births.pivot_table('births', index=[births.index.month, births.index.day]) #type: ignore\n",
    "\n",
    "# note: year here is entirely inaccurate; only for the purposes of simple display\n",
    "births_by_date.index = [pd.Timestamp(2012, month, day) for (month, day) in births_by_date.index] #type: ignore\n",
    "\n",
    "print(births_by_date)\n",
    "fig, ax = plt.subplots(figsize=(12, 4))\n",
    "births_by_date.plot(ax=ax)"
   ]
  },
  {
   "cell_type": "markdown",
   "id": "3aaeb3e4",
   "metadata": {},
   "source": [
    "The plot shows a dip in birthrate on US holidays."
   ]
  }
 ],
 "metadata": {
  "jupytext": {
   "cell_metadata_filter": "-all",
   "main_language": "python",
   "notebook_metadata_filter": "-all"
  },
  "kernelspec": {
   "display_name": "Python 3",
   "language": "python",
   "name": "python3"
  },
  "language_info": {
   "codemirror_mode": {
    "name": "ipython",
    "version": 3
   },
   "file_extension": ".py",
   "mimetype": "text/x-python",
   "name": "python",
   "nbconvert_exporter": "python",
   "pygments_lexer": "ipython3",
   "version": "3.13.5"
  }
 },
 "nbformat": 4,
 "nbformat_minor": 5
}
