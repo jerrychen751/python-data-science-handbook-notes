{
 "cells": [
  {
   "cell_type": "markdown",
   "id": "db69e9d5",
   "metadata": {},
   "source": [
    "# Hierarchical Indexing (MultiIndex)\n",
    "\n",
    "Sometimes it's useful to have more than one index level for your data. This is called hierarchical indexing, or multi-indexing. It lets you work with higher-dimensional data in a two-dimensional format (like a DataFrame).\n",
    "\n",
    "Let's import our standard tools first."
   ]
  },
  {
   "cell_type": "code",
   "execution_count": 1,
   "id": "88dd9fb8",
   "metadata": {},
   "outputs": [],
   "source": [
    "import pandas as pd\n",
    "import numpy as np"
   ]
  },
  {
   "cell_type": "markdown",
   "id": "286bc6e9",
   "metadata": {},
   "source": [
    "## A Multiply Indexed Series\n",
    "\n",
    "Let's see what a multiply indexed `Series` looks like. We'll represent population data for a few states across two years."
   ]
  },
  {
   "cell_type": "code",
   "execution_count": 2,
   "id": "5de211d5",
   "metadata": {},
   "outputs": [
    {
     "data": {
      "text/plain": [
       "California  2010    37253956\n",
       "            2020    39538223\n",
       "Texas       2010    25145561\n",
       "            2020    29145505\n",
       "New York    2010    19378102\n",
       "            2020    20201249\n",
       "dtype: int64"
      ]
     },
     "execution_count": 2,
     "metadata": {},
     "output_type": "execute_result"
    }
   ],
   "source": [
    "# Create a list of arrays for the multi-index\n",
    "index = [('California', 2010), ('California', 2020),\n",
    "         ('Texas', 2010), ('Texas', 2020),\n",
    "         ('New York', 2010), ('New York', 2020)]\n",
    "populations = [37253956, 39538223,\n",
    "               25145561, 29145505,\n",
    "               19378102, 20201249]\n",
    "pop = pd.Series(populations, index=pd.MultiIndex.from_tuples(index))\n",
    "pop"
   ]
  },
  {
   "cell_type": "markdown",
   "id": "1e6ab288",
   "metadata": {},
   "source": [
    "This `Series` now has a `MultiIndex`. You can see the two levels of the index. We can access elements from it like this:"
   ]
  },
  {
   "cell_type": "code",
   "execution_count": 3,
   "id": "aeb3ec26",
   "metadata": {},
   "outputs": [
    {
     "data": {
      "text/plain": [
       "2010    37253956\n",
       "2020    39538223\n",
       "dtype: int64"
      ]
     },
     "execution_count": 3,
     "metadata": {},
     "output_type": "execute_result"
    }
   ],
   "source": [
    "# Access all data for California\n",
    "pop['California']"
   ]
  },
  {
   "cell_type": "code",
   "execution_count": 4,
   "id": "81ade949",
   "metadata": {},
   "outputs": [
    {
     "data": {
      "text/plain": [
       "39538223"
      ]
     },
     "execution_count": 4,
     "metadata": {},
     "output_type": "execute_result"
    }
   ],
   "source": [
    "# Access data for California in 2020\n",
    "pop['California', 2020]"
   ]
  },
  {
   "cell_type": "markdown",
   "id": "e9486e27",
   "metadata": {},
   "source": [
    "## Methods of MultiIndex Creation\n",
    "\n",
    "There are several ways to create a `MultiIndex`. The `pd.MultiIndex.from_tuples()` method we just used is a good one, but here are a few others."
   ]
  },
  {
   "cell_type": "code",
   "execution_count": 5,
   "id": "4ae0d795",
   "metadata": {},
   "outputs": [
    {
     "data": {
      "text/html": [
       "<div>\n",
       "<style scoped>\n",
       "    .dataframe tbody tr th:only-of-type {\n",
       "        vertical-align: middle;\n",
       "    }\n",
       "\n",
       "    .dataframe tbody tr th {\n",
       "        vertical-align: top;\n",
       "    }\n",
       "\n",
       "    .dataframe thead th {\n",
       "        text-align: right;\n",
       "    }\n",
       "</style>\n",
       "<table border=\"1\" class=\"dataframe\">\n",
       "  <thead>\n",
       "    <tr style=\"text-align: right;\">\n",
       "      <th></th>\n",
       "      <th></th>\n",
       "      <th>data1</th>\n",
       "      <th>data2</th>\n",
       "    </tr>\n",
       "  </thead>\n",
       "  <tbody>\n",
       "    <tr>\n",
       "      <th rowspan=\"2\" valign=\"top\">a</th>\n",
       "      <th>1</th>\n",
       "      <td>0.047217</td>\n",
       "      <td>0.961854</td>\n",
       "    </tr>\n",
       "    <tr>\n",
       "      <th>2</th>\n",
       "      <td>0.124222</td>\n",
       "      <td>0.368494</td>\n",
       "    </tr>\n",
       "    <tr>\n",
       "      <th rowspan=\"2\" valign=\"top\">b</th>\n",
       "      <th>1</th>\n",
       "      <td>0.791733</td>\n",
       "      <td>0.944024</td>\n",
       "    </tr>\n",
       "    <tr>\n",
       "      <th>2</th>\n",
       "      <td>0.989073</td>\n",
       "      <td>0.750993</td>\n",
       "    </tr>\n",
       "  </tbody>\n",
       "</table>\n",
       "</div>"
      ],
      "text/plain": [
       "        data1     data2\n",
       "a 1  0.047217  0.961854\n",
       "  2  0.124222  0.368494\n",
       "b 1  0.791733  0.944024\n",
       "  2  0.989073  0.750993"
      ]
     },
     "execution_count": 5,
     "metadata": {},
     "output_type": "execute_result"
    }
   ],
   "source": [
    "# From a list of arrays\n",
    "df = pd.DataFrame(np.random.rand(4, 2),\n",
    "                  index=[['a', 'a', 'b', 'b'], [1, 2, 1, 2]],\n",
    "                  columns=['data1', 'data2'])\n",
    "df"
   ]
  },
  {
   "cell_type": "markdown",
   "id": "cf76fe09",
   "metadata": {},
   "source": [
    "You can also give the index levels names."
   ]
  },
  {
   "cell_type": "code",
   "execution_count": 6,
   "id": "7c98fe49",
   "metadata": {},
   "outputs": [
    {
     "data": {
      "text/html": [
       "<div>\n",
       "<style scoped>\n",
       "    .dataframe tbody tr th:only-of-type {\n",
       "        vertical-align: middle;\n",
       "    }\n",
       "\n",
       "    .dataframe tbody tr th {\n",
       "        vertical-align: top;\n",
       "    }\n",
       "\n",
       "    .dataframe thead th {\n",
       "        text-align: right;\n",
       "    }\n",
       "</style>\n",
       "<table border=\"1\" class=\"dataframe\">\n",
       "  <thead>\n",
       "    <tr style=\"text-align: right;\">\n",
       "      <th></th>\n",
       "      <th></th>\n",
       "      <th>data1</th>\n",
       "      <th>data2</th>\n",
       "    </tr>\n",
       "    <tr>\n",
       "      <th>key1</th>\n",
       "      <th>key2</th>\n",
       "      <th></th>\n",
       "      <th></th>\n",
       "    </tr>\n",
       "  </thead>\n",
       "  <tbody>\n",
       "    <tr>\n",
       "      <th rowspan=\"2\" valign=\"top\">a</th>\n",
       "      <th>1</th>\n",
       "      <td>0.047217</td>\n",
       "      <td>0.961854</td>\n",
       "    </tr>\n",
       "    <tr>\n",
       "      <th>2</th>\n",
       "      <td>0.124222</td>\n",
       "      <td>0.368494</td>\n",
       "    </tr>\n",
       "    <tr>\n",
       "      <th rowspan=\"2\" valign=\"top\">b</th>\n",
       "      <th>1</th>\n",
       "      <td>0.791733</td>\n",
       "      <td>0.944024</td>\n",
       "    </tr>\n",
       "    <tr>\n",
       "      <th>2</th>\n",
       "      <td>0.989073</td>\n",
       "      <td>0.750993</td>\n",
       "    </tr>\n",
       "  </tbody>\n",
       "</table>\n",
       "</div>"
      ],
      "text/plain": [
       "              data1     data2\n",
       "key1 key2                    \n",
       "a    1     0.047217  0.961854\n",
       "     2     0.124222  0.368494\n",
       "b    1     0.791733  0.944024\n",
       "     2     0.989073  0.750993"
      ]
     },
     "execution_count": 6,
     "metadata": {},
     "output_type": "execute_result"
    }
   ],
   "source": [
    "# Naming the index levels\n",
    "df.index.names = ['key1', 'key2']\n",
    "df"
   ]
  },
  {
   "cell_type": "markdown",
   "id": "e3648e37",
   "metadata": {},
   "source": [
    "Another way is to use `pd.MultiIndex.from_product`, which creates a `MultiIndex` from the cartesian product of the arrays you provide."
   ]
  },
  {
   "cell_type": "code",
   "execution_count": 7,
   "id": "5ffdfd40",
   "metadata": {},
   "outputs": [
    {
     "data": {
      "text/html": [
       "<div>\n",
       "<style scoped>\n",
       "    .dataframe tbody tr th:only-of-type {\n",
       "        vertical-align: middle;\n",
       "    }\n",
       "\n",
       "    .dataframe tbody tr th {\n",
       "        vertical-align: top;\n",
       "    }\n",
       "\n",
       "    .dataframe thead th {\n",
       "        text-align: right;\n",
       "    }\n",
       "</style>\n",
       "<table border=\"1\" class=\"dataframe\">\n",
       "  <thead>\n",
       "    <tr style=\"text-align: right;\">\n",
       "      <th></th>\n",
       "      <th></th>\n",
       "      <th>data1</th>\n",
       "      <th>data2</th>\n",
       "    </tr>\n",
       "    <tr>\n",
       "      <th>key1</th>\n",
       "      <th>key2</th>\n",
       "      <th></th>\n",
       "      <th></th>\n",
       "    </tr>\n",
       "  </thead>\n",
       "  <tbody>\n",
       "    <tr>\n",
       "      <th rowspan=\"2\" valign=\"top\">a</th>\n",
       "      <th>1</th>\n",
       "      <td>0.424367</td>\n",
       "      <td>0.382970</td>\n",
       "    </tr>\n",
       "    <tr>\n",
       "      <th>2</th>\n",
       "      <td>0.418999</td>\n",
       "      <td>0.811223</td>\n",
       "    </tr>\n",
       "    <tr>\n",
       "      <th rowspan=\"2\" valign=\"top\">b</th>\n",
       "      <th>1</th>\n",
       "      <td>0.362696</td>\n",
       "      <td>0.385270</td>\n",
       "    </tr>\n",
       "    <tr>\n",
       "      <th>2</th>\n",
       "      <td>0.272894</td>\n",
       "      <td>0.274023</td>\n",
       "    </tr>\n",
       "  </tbody>\n",
       "</table>\n",
       "</div>"
      ],
      "text/plain": [
       "              data1     data2\n",
       "key1 key2                    \n",
       "a    1     0.424367  0.382970\n",
       "     2     0.418999  0.811223\n",
       "b    1     0.362696  0.385270\n",
       "     2     0.272894  0.274023"
      ]
     },
     "execution_count": 7,
     "metadata": {},
     "output_type": "execute_result"
    }
   ],
   "source": [
    "# Using from_product\n",
    "index = pd.MultiIndex.from_product([['a', 'b'], [1, 2]],\n",
    "                                   names=['key1', 'key2'])\n",
    "df_prod = pd.DataFrame(np.random.rand(4, 2), index=index, columns=['data1', 'data2'])\n",
    "df_prod"
   ]
  },
  {
   "cell_type": "markdown",
   "id": "66e1a560",
   "metadata": {},
   "source": [
    "## Indexing and Slicing a MultiIndex\n",
    "\n",
    "Indexing and slicing a `MultiIndex` can be straightforward or a bit tricky, depending on what you want to do."
   ]
  },
  {
   "cell_type": "code",
   "execution_count": 8,
   "id": "932e3b4b",
   "metadata": {},
   "outputs": [
    {
     "data": {
      "text/plain": [
       "2010    25145561\n",
       "2020    29145505\n",
       "dtype: int64"
      ]
     },
     "execution_count": 8,
     "metadata": {},
     "output_type": "execute_result"
    }
   ],
   "source": [
    "# Accessing the data for Texas\n",
    "pop['Texas']"
   ]
  },
  {
   "cell_type": "markdown",
   "id": "b6c717fe",
   "metadata": {},
   "source": [
    "You can also use slicing. This slice gets all data for states from California to New York."
   ]
  },
  {
   "cell_type": "code",
   "execution_count": 9,
   "id": "b4b0500b",
   "metadata": {},
   "outputs": [
    {
     "data": {
      "text/plain": [
       "California  2010    37253956\n",
       "            2020    39538223\n",
       "New York    2010    19378102\n",
       "            2020    20201249\n",
       "dtype: int64"
      ]
     },
     "execution_count": 9,
     "metadata": {},
     "output_type": "execute_result"
    }
   ],
   "source": [
    "pop = pop.sort_index() # note: index must be sorted before slicing\n",
    "pop.loc['California':'New York']"
   ]
  },
  {
   "cell_type": "markdown",
   "id": "11af4064",
   "metadata": {},
   "source": [
    "For more advanced slicing, it's often better to use an `IndexSlice` object. This makes the slicing syntax more intuitive."
   ]
  },
  {
   "cell_type": "code",
   "execution_count": 10,
   "id": "55d28b18",
   "metadata": {},
   "outputs": [
    {
     "data": {
      "text/plain": [
       "California    39538223\n",
       "New York      20201249\n",
       "Texas         29145505\n",
       "dtype: int64"
      ]
     },
     "execution_count": 10,
     "metadata": {},
     "output_type": "execute_result"
    }
   ],
   "source": [
    "idx = pd.IndexSlice\n",
    "pop[idx[:, 2020]]"
   ]
  },
  {
   "cell_type": "markdown",
   "id": "e74b1955",
   "metadata": {},
   "source": [
    "This slice gets all data for the year 2020 across all states."
   ]
  },
  {
   "cell_type": "markdown",
   "id": "b7996eec",
   "metadata": {},
   "source": [
    "## Rearranging Multi-Indices\n",
    "\n",
    "Sometimes you need to reshape your data. The two most important methods for this are `stack()` and `unstack()`.\n",
    "\n",
    "`unstack()` converts a level of the index into columns."
   ]
  },
  {
   "cell_type": "code",
   "execution_count": null,
   "id": "aa369ffa",
   "metadata": {},
   "outputs": [
    {
     "name": "stdout",
     "output_type": "stream",
     "text": [
      "California  2010    37253956\n",
      "            2020    39538223\n",
      "New York    2010    19378102\n",
      "            2020    20201249\n",
      "Texas       2010    25145561\n",
      "            2020    29145505\n",
      "dtype: int64\n",
      "                2010      2020\n",
      "California  37253956  39538223\n",
      "New York    19378102  20201249\n",
      "Texas       25145561  29145505\n"
     ]
    }
   ],
   "source": [
    "print(pop)\n",
    "pop_df = pop.unstack()\n",
    "print(pop_df)\n",
    "\n",
    "# note: .unstack() takes all unique values in the specific index level (identified either via integer index level or index label) and turns them into columns\n",
    "\n",
    "# meanwhile, .reset_index() takes an index level and converts it into a single new column with the same name as index level (e.g., there will be duplicate values going down row sections)"
   ]
  },
  {
   "cell_type": "markdown",
   "id": "e642620c",
   "metadata": {},
   "source": [
    "`stack()` is the opposite. It converts columns back into an index level."
   ]
  },
  {
   "cell_type": "code",
   "execution_count": 12,
   "id": "7e383f5b",
   "metadata": {},
   "outputs": [
    {
     "data": {
      "text/plain": [
       "California  2010    37253956\n",
       "            2020    39538223\n",
       "New York    2010    19378102\n",
       "            2020    20201249\n",
       "Texas       2010    25145561\n",
       "            2020    29145505\n",
       "dtype: int64"
      ]
     },
     "execution_count": 12,
     "metadata": {},
     "output_type": "execute_result"
    }
   ],
   "source": [
    "pop_df.stack()"
   ]
  },
  {
   "cell_type": "markdown",
   "id": "cecf8819",
   "metadata": {},
   "source": [
    "You can also use `set_index` to create a `MultiIndex` from columns in a `DataFrame`."
   ]
  },
  {
   "cell_type": "code",
   "execution_count": 13,
   "id": "95cdd38f",
   "metadata": {},
   "outputs": [
    {
     "data": {
      "text/html": [
       "<div>\n",
       "<style scoped>\n",
       "    .dataframe tbody tr th:only-of-type {\n",
       "        vertical-align: middle;\n",
       "    }\n",
       "\n",
       "    .dataframe tbody tr th {\n",
       "        vertical-align: top;\n",
       "    }\n",
       "\n",
       "    .dataframe thead th {\n",
       "        text-align: right;\n",
       "    }\n",
       "</style>\n",
       "<table border=\"1\" class=\"dataframe\">\n",
       "  <thead>\n",
       "    <tr style=\"text-align: right;\">\n",
       "      <th></th>\n",
       "      <th>state</th>\n",
       "      <th>year</th>\n",
       "      <th>pop</th>\n",
       "    </tr>\n",
       "  </thead>\n",
       "  <tbody>\n",
       "    <tr>\n",
       "      <th>0</th>\n",
       "      <td>California</td>\n",
       "      <td>2010</td>\n",
       "      <td>37253956</td>\n",
       "    </tr>\n",
       "    <tr>\n",
       "      <th>1</th>\n",
       "      <td>California</td>\n",
       "      <td>2020</td>\n",
       "      <td>39538223</td>\n",
       "    </tr>\n",
       "    <tr>\n",
       "      <th>2</th>\n",
       "      <td>Texas</td>\n",
       "      <td>2010</td>\n",
       "      <td>25145561</td>\n",
       "    </tr>\n",
       "    <tr>\n",
       "      <th>3</th>\n",
       "      <td>Texas</td>\n",
       "      <td>2020</td>\n",
       "      <td>29145505</td>\n",
       "    </tr>\n",
       "  </tbody>\n",
       "</table>\n",
       "</div>"
      ],
      "text/plain": [
       "        state  year       pop\n",
       "0  California  2010  37253956\n",
       "1  California  2020  39538223\n",
       "2       Texas  2010  25145561\n",
       "3       Texas  2020  29145505"
      ]
     },
     "execution_count": 13,
     "metadata": {},
     "output_type": "execute_result"
    }
   ],
   "source": [
    "df_flat = pd.DataFrame({'state': ['California', 'California', 'Texas', 'Texas'],\n",
    "                        'year': [2010, 2020, 2010, 2020],\n",
    "                        'pop': [37253956, 39538223, 25145561, 29145505]})\n",
    "df_flat"
   ]
  },
  {
   "cell_type": "code",
   "execution_count": 14,
   "id": "accf9f96",
   "metadata": {},
   "outputs": [
    {
     "data": {
      "text/html": [
       "<div>\n",
       "<style scoped>\n",
       "    .dataframe tbody tr th:only-of-type {\n",
       "        vertical-align: middle;\n",
       "    }\n",
       "\n",
       "    .dataframe tbody tr th {\n",
       "        vertical-align: top;\n",
       "    }\n",
       "\n",
       "    .dataframe thead th {\n",
       "        text-align: right;\n",
       "    }\n",
       "</style>\n",
       "<table border=\"1\" class=\"dataframe\">\n",
       "  <thead>\n",
       "    <tr style=\"text-align: right;\">\n",
       "      <th></th>\n",
       "      <th></th>\n",
       "      <th>pop</th>\n",
       "    </tr>\n",
       "    <tr>\n",
       "      <th>state</th>\n",
       "      <th>year</th>\n",
       "      <th></th>\n",
       "    </tr>\n",
       "  </thead>\n",
       "  <tbody>\n",
       "    <tr>\n",
       "      <th rowspan=\"2\" valign=\"top\">California</th>\n",
       "      <th>2010</th>\n",
       "      <td>37253956</td>\n",
       "    </tr>\n",
       "    <tr>\n",
       "      <th>2020</th>\n",
       "      <td>39538223</td>\n",
       "    </tr>\n",
       "    <tr>\n",
       "      <th rowspan=\"2\" valign=\"top\">Texas</th>\n",
       "      <th>2010</th>\n",
       "      <td>25145561</td>\n",
       "    </tr>\n",
       "    <tr>\n",
       "      <th>2020</th>\n",
       "      <td>29145505</td>\n",
       "    </tr>\n",
       "  </tbody>\n",
       "</table>\n",
       "</div>"
      ],
      "text/plain": [
       "                      pop\n",
       "state      year          \n",
       "California 2010  37253956\n",
       "           2020  39538223\n",
       "Texas      2010  25145561\n",
       "           2020  29145505"
      ]
     },
     "execution_count": 14,
     "metadata": {},
     "output_type": "execute_result"
    }
   ],
   "source": [
    "df_multi = df_flat.set_index(['state', 'year'])\n",
    "df_multi"
   ]
  },
  {
   "cell_type": "markdown",
   "id": "df2ec230",
   "metadata": {},
   "source": [
    "## Modern Data Aggregations and Operations with Multi-Indices"
   ]
  },
  {
   "cell_type": "markdown",
   "id": "new-markdown-1",
   "metadata": {},
   "source": [
    "The `level` parameter in aggregation functions is deprecated. Instead, we use `groupby()` for more explicit and powerful aggregations."
   ]
  },
  {
   "cell_type": "code",
   "execution_count": 15,
   "id": "new-code-1",
   "metadata": {},
   "outputs": [
    {
     "data": {
      "text/html": [
       "<div>\n",
       "<style scoped>\n",
       "    .dataframe tbody tr th:only-of-type {\n",
       "        vertical-align: middle;\n",
       "    }\n",
       "\n",
       "    .dataframe tbody tr th {\n",
       "        vertical-align: top;\n",
       "    }\n",
       "\n",
       "    .dataframe thead tr th {\n",
       "        text-align: left;\n",
       "    }\n",
       "\n",
       "    .dataframe thead tr:last-of-type th {\n",
       "        text-align: right;\n",
       "    }\n",
       "</style>\n",
       "<table border=\"1\" class=\"dataframe\">\n",
       "  <thead>\n",
       "    <tr>\n",
       "      <th></th>\n",
       "      <th>subject</th>\n",
       "      <th colspan=\"2\" halign=\"left\">Bob</th>\n",
       "      <th colspan=\"2\" halign=\"left\">Guido</th>\n",
       "      <th colspan=\"2\" halign=\"left\">Sue</th>\n",
       "    </tr>\n",
       "    <tr>\n",
       "      <th></th>\n",
       "      <th>type</th>\n",
       "      <th>HR</th>\n",
       "      <th>Temp</th>\n",
       "      <th>HR</th>\n",
       "      <th>Temp</th>\n",
       "      <th>HR</th>\n",
       "      <th>Temp</th>\n",
       "    </tr>\n",
       "    <tr>\n",
       "      <th>year</th>\n",
       "      <th>visit</th>\n",
       "      <th></th>\n",
       "      <th></th>\n",
       "      <th></th>\n",
       "      <th></th>\n",
       "      <th></th>\n",
       "      <th></th>\n",
       "    </tr>\n",
       "  </thead>\n",
       "  <tbody>\n",
       "    <tr>\n",
       "      <th rowspan=\"2\" valign=\"top\">2020</th>\n",
       "      <th>1</th>\n",
       "      <td>29.0</td>\n",
       "      <td>39.0</td>\n",
       "      <td>42.0</td>\n",
       "      <td>35.9</td>\n",
       "      <td>35.0</td>\n",
       "      <td>38.8</td>\n",
       "    </tr>\n",
       "    <tr>\n",
       "      <th>2</th>\n",
       "      <td>30.0</td>\n",
       "      <td>36.3</td>\n",
       "      <td>14.0</td>\n",
       "      <td>37.6</td>\n",
       "      <td>45.0</td>\n",
       "      <td>37.1</td>\n",
       "    </tr>\n",
       "    <tr>\n",
       "      <th rowspan=\"2\" valign=\"top\">2021</th>\n",
       "      <th>1</th>\n",
       "      <td>32.0</td>\n",
       "      <td>37.0</td>\n",
       "      <td>37.0</td>\n",
       "      <td>36.5</td>\n",
       "      <td>45.0</td>\n",
       "      <td>39.1</td>\n",
       "    </tr>\n",
       "    <tr>\n",
       "      <th>2</th>\n",
       "      <td>69.0</td>\n",
       "      <td>36.3</td>\n",
       "      <td>53.0</td>\n",
       "      <td>36.1</td>\n",
       "      <td>44.0</td>\n",
       "      <td>37.2</td>\n",
       "    </tr>\n",
       "  </tbody>\n",
       "</table>\n",
       "</div>"
      ],
      "text/plain": [
       "subject      Bob       Guido         Sue      \n",
       "type          HR  Temp    HR  Temp    HR  Temp\n",
       "year visit                                    \n",
       "2020 1      29.0  39.0  42.0  35.9  35.0  38.8\n",
       "     2      30.0  36.3  14.0  37.6  45.0  37.1\n",
       "2021 1      32.0  37.0  37.0  36.5  45.0  39.1\n",
       "     2      69.0  36.3  53.0  36.1  44.0  37.2"
      ]
     },
     "execution_count": 15,
     "metadata": {},
     "output_type": "execute_result"
    }
   ],
   "source": [
    "# Create a new DataFrame for this example\n",
    "index = pd.MultiIndex.from_product([[2020, 2021], [1, 2]],\n",
    "                                   names=['year', 'visit'])\n",
    "columns = pd.MultiIndex.from_product([['Bob', 'Guido', 'Sue'], ['HR', 'Temp']],\n",
    "                                     names=['subject', 'type'])\n",
    "data = np.round(np.random.randn(4, 6), 1)\n",
    "data[:, ::2] *= 10\n",
    "data += 37\n",
    "\n",
    "health_data = pd.DataFrame(data, index=index, columns=columns)\n",
    "health_data"
   ]
  },
  {
   "cell_type": "markdown",
   "id": "new-markdown-2",
   "metadata": {},
   "source": [
    "### Grouping and Aggregating"
   ]
  },
  {
   "cell_type": "code",
   "execution_count": 16,
   "id": "new-code-2",
   "metadata": {},
   "outputs": [
    {
     "data": {
      "text/plain": [
       "type        HR       Temp\n",
       "subject                \n",
       "Bob    40.000000  37.150000\n",
       "Guido  36.500000  36.525000\n",
       "Sue    42.250000  38.050000"
      ]
     },
     "execution_count": 16,
     "metadata": {},
     "output_type": "execute_result"
    }
   ],
   "source": [
    "# Group by subject and get the mean\n",
    "health_data.groupby(level='subject', axis=1).mean()"
   ]
  },
  {
   "cell_type": "markdown",
   "id": "new-markdown-3",
   "metadata": {},
   "source": [
    "### Slicing and Selecting Data"
   ]
  },
  {
   "cell_type": "code",
   "execution_count": 17,
   "id": "new-code-3",
   "metadata": {},
   "outputs": [
    {
     "data": {
      "text/plain": [
       "subject  type\n",
       "Bob       HR      30.0\n",
       "          Temp    36.3\n",
       "Guido     HR      14.0\n",
       "          Temp    37.6\n",
       "Sue       HR      45.0\n",
       "          Temp    37.1\n",
       "Name: (2020, 2), dtype: float64"
      ]
     },
     "execution_count": 17,
     "metadata": {},
     "output_type": "execute_result"
    }
   ],
   "source": [
    "# Select data for a specific year and visit\n",
    "health_data.loc[(2020, 2)]"
   ]
  },
  {
   "cell_type": "code",
   "execution_count": 18,
   "id": "new-code-4",
   "metadata": {},
   "outputs": [
    {
     "data": {
      "text/plain": [
       "subject  type\n",
       "Guido    HR      42.0\n",
       "         Temp    35.9\n",
       "Name: (2020, 1), dtype: float64"
      ]
     },
     "execution_count": 18,
     "metadata": {},
     "output_type": "execute_result"
    }
   ],
   "source": [
    "# Select data for a specific year, visit, and subject\n",
    "health_data.loc[(2020, 1), ('Guido')]"
   ]
  },
  {
   "cell_type": "markdown",
   "id": "new-markdown-4",
   "metadata": {},
   "source": [
    "### Resetting and Setting the Index"
   ]
  },
  {
   "cell_type": "code",
   "execution_count": 19,
   "id": "new-code-5",
   "metadata": {},
   "outputs": [
    {
     "data": {
      "text/html": [
       "<div>...</div>"
      ],
      "text/plain": [
       "   year  visit subject  type  value\n",
       "0  2020      1     Bob    HR   29.0\n",
       "1  2020      1     Bob  Temp   39.0\n",
       "2  2020      1   Guido    HR   42.0\n",
       "3  2020      1   Guido  Temp   35.9\n",
       "4  2020      1     Sue    HR   35.0\n",
       "5  2020      1     Sue  Temp   38.8\n",
       "6  2020      2     Bob    HR   30.0\n",
       "7  2020      2     Bob  Temp   36.3\n",
       "8  2020      2   Guido    HR   14.0\n",
       "9  2020      2   Guido  Temp   37.6\n",
       "10 2020      2     Sue    HR   45.0\n",
       "11 2020      2     Sue  Temp   37.1\n",
       "12 2021      1     Bob    HR   32.0\n",
       "13 2021      1     Bob  Temp   37.0\n",
       "14 2021      1   Guido    HR   37.0\n",
       "15 2021      1   Guido  Temp   36.5\n",
       "16 2021      1     Sue    HR   45.0\n",
       "17 2021      1     Sue  Temp   39.1\n",
       "18 2021      2     Bob    HR   69.0\n",
       "19 2021      2     Bob  Temp   36.3\n",
       "20 2021      2   Guido    HR   53.0\n",
       "21 2021      2   Guido  Temp   36.1\n",
       "22 2021      2     Sue    HR   44.0\n",
       "23 2021      2     Sue  Temp   37.2"
      ]
     },
     "execution_count": 19,
     "metadata": {},
     "output_type": "execute_result"
    }
   ],
   "source": [
    "# Reset the index to columns\n",
    "health_data_flat = health_data.stack(level=['subject', 'type']).reset_index(name='value')\n",
    "health_data_flat"
   ]
  },
  {
   "cell_type": "code",
   "execution_count": 20,
   "id": "new-code-6",
   "metadata": {},
   "outputs": [
    {
     "data": {
      "text/html": [
       "<div>...</div>"
      ],
      "text/plain": [
       "subject      Bob       Guido         Sue      \n",
       "type          HR  Temp    HR  Temp    HR  Temp\n",
       "year visit                                    \n",
       "2020 1      29.0  39.0  42.0  35.9  35.0  38.8\n",
       "     2      30.0  36.3  14.0  37.6  45.0  37.1\n",
       "2021 1      32.0  37.0  37.0  36.5  45.0  39.1\n",
       "     2      69.0  36.3  53.0  36.1  44.0  37.2"
      ]
     },
     "execution_count": 20,
     "metadata": {},
     "output_type": "execute_result"
    }
   ],
   "source": [
    "# Set the index back\n",
    "health_data_flat.set_index(['year', 'visit', 'subject', 'type']).unstack(level=['subject', 'type'])"
   ]
  },
  {
   "cell_type": "markdown",
   "id": "new-markdown-5",
   "metadata": {},
   "source": [
    "### Swapping Index Levels"
   ]
  },
  {
   "cell_type": "code",
   "execution_count": 21,
   "id": "new-code-7",
   "metadata": {},
   "outputs": [
    {
     "data": {
      "text/html": [
       "<div>...</div>"
      ],
      "text/plain": [
       "subject      Bob       Guido         Sue      \n",
       "type          HR  Temp    HR  Temp    HR  Temp\n",
       "visit year                                    \n",
       "1     2020  29.0  39.0  42.0  35.9  35.0  38.8\n",
       "      2021  32.0  37.0  37.0  36.5  45.0  39.1\n",
       "2     2020  30.0  36.3  14.0  37.6  45.0  37.1\n",
       "      2021  69.0  36.3  53.0  36.1  44.0  37.2"
      ]
     },
     "execution_count": 21,
     "metadata": {},
     "output_type": "execute_result"
    }
   ],
   "source": [
    "# Swap the order of the index levels\n",
    "health_data.swaplevel('year', 'visit')"
   ]
  }
 ],
 "metadata": {
  "jupytext": {
   "cell_metadata_filter": "-all",
   "main_language": "python",
   "notebook_metadata_filter": "-all"
  },
  "kernelspec": {
   "display_name": "Python 3",
   "language": "python",
   "name": "python3"
  },
  "language_info": {
   "codemirror_mode": {
    "name": "ipython",
    "version": 3
   },
   "file_extension": ".py",
   "mimetype": "text/x-python",
   "name": "python",
   "nbconvert_exporter": "python",
   "pygments_lexer": "ipython3",
   "version": "3.13.5"
  }
 },
 "nbformat": 4,
 "nbformat_minor": 5
}
