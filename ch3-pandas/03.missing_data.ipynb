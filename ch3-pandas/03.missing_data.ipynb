{
 "cells": [
  {
   "cell_type": "markdown",
   "id": "f9786623",
   "metadata": {},
   "source": [
    "# Handling Missing Data\n"
   ]
  },
  {
   "cell_type": "markdown",
   "id": "890ab151",
   "metadata": {},
   "source": [
    "## Trade-Offs in Missing Data Conventions\n",
    "\n",
    "A number of schemes have been developed to indicate the presence of missing data in\n",
    "a table or DataFrame. Generally, they revolve around one of two strategies: using a\n",
    "mask that globally indicates missing values, or choosing a sentinel value that indicates\n",
    "a missing entry.\n",
    "\n",
    "In the masking approach, the mask might be an entirely separate Boolean array, or it\n",
    "may involve appropriation of one bit in the data representation to locally indicate the\n",
    "null status of a value.\n",
    "\n",
    "In the sentinel approach, the sentinel value could be some data-specific convention,\n",
    "such as indicating a missing integer value with –9999 or some rare bit pattern, or it\n",
    "could be a more global convention, such as indicating a missing floating-point value\n",
    "with NaN (Not a Number), a special value which is part of the IEEE floating-point\n",
    "specification.\n",
    "\n",
    "None of these approaches is without trade-offs: use of a separate mask array requires\n",
    "allocation of an additional Boolean array, which adds overhead in both storage and\n",
    "computation. A sentinel value reduces the range of valid values that can be repre‐\n",
    "sented, and may require extra (often non-optimized) logic in CPU and GPU arith‐\n",
    "metic. Common special values like NaN are not available for all data types."
   ]
  },
  {
   "cell_type": "markdown",
   "id": "a21f40f9",
   "metadata": {},
   "source": [
    "## Missing Data in Pandas"
   ]
  },
  {
   "cell_type": "markdown",
   "id": "a9c3f173",
   "metadata": {},
   "source": [
    "### None: Pythonic missing data\n",
    "\n",
    "The first sentinel value used by Pandas is None, a Python singleton object that is often\n",
    "used for missing data in Python code. Because None is a Python object, it cannot be\n",
    "used in any arbitrary NumPy/Pandas array, but only in arrays with data type\n",
    "'object' (i.e., arrays of Python objects):"
   ]
  },
  {
   "cell_type": "code",
   "execution_count": null,
   "id": "e31ff18c",
   "metadata": {},
   "outputs": [],
   "source": [
    "import numpy as np\n",
    "import pandas as pd"
   ]
  },
  {
   "cell_type": "code",
   "execution_count": null,
   "id": "30761ddc",
   "metadata": {},
   "outputs": [],
   "source": [
    "vals1 = np.array([1, None, 3, 4])\n",
    "vals1"
   ]
  },
  {
   "cell_type": "markdown",
   "id": "d9fc5f3c",
   "metadata": {},
   "source": [
    "This dtype=object means that the best common type representation NumPy could\n",
    "infer for the contents of the array is that they are Python objects. While this kind of\n",
    "object array is useful for some purposes, any operations on the data will be done at\n",
    "the Python level, with much more overhead than the typically fast operations seen for\n",
    "arrays with native types:"
   ]
  },
  {
   "cell_type": "code",
   "execution_count": null,
   "id": "957f9801",
   "metadata": {},
   "outputs": [],
   "source": [
    "for dtype in ['object', 'int']:\n",
    "    print(\"dtype =\", dtype)\n",
    "    %timeit np.arange(1E6, dtype=dtype).sum()\n",
    "    print()"
   ]
  },
  {
   "cell_type": "markdown",
   "id": "389a8c72",
   "metadata": {},
   "source": [
    "The use of Python objects in an array also means that if you perform aggregations\n",
    "like sum() or min() across an array with a None value, you will generally get an error:"
   ]
  },
  {
   "cell_type": "code",
   "execution_count": null,
   "id": "6e5df420",
   "metadata": {},
   "outputs": [],
   "source": [
    "# vals1.sum()"
   ]
  },
  {
   "cell_type": "markdown",
   "id": "75db7a41",
   "metadata": {},
   "source": [
    "This reflects the fact that addition between an integer and None is undefined."
   ]
  },
  {
   "cell_type": "markdown",
   "id": "0f0ae571",
   "metadata": {},
   "source": [
    "### NaN: Missing numerical data\n",
    "\n",
    "The other missing data representation, NaN (acronym for Not a Number), is different;\n",
    "it is a special floating-point value recognized by all systems that use the standard\n",
    "IEEE floating-point representation:"
   ]
  },
  {
   "cell_type": "code",
   "execution_count": null,
   "id": "023fa049",
   "metadata": {},
   "outputs": [],
   "source": [
    "vals2 = np.array([1, np.nan, 3, 4])\n",
    "vals2.dtype"
   ]
  },
  {
   "cell_type": "markdown",
   "id": "6fd07d73",
   "metadata": {},
   "source": [
    "Notice that NumPy chose a native floating-point type for this array: this means that\n",
    "unlike the object array from before, this array supports fast operations pushed into\n",
    "compiled code. You should be aware that NaN is a bit like a data virus—it infects any\n",
    "other object it touches. Regardless of the operation, the result of arithmetic with NaN\n",
    "will be another NaN:"
   ]
  },
  {
   "cell_type": "code",
   "execution_count": null,
   "id": "dbcc04c5",
   "metadata": {},
   "outputs": [],
   "source": [
    "1 + np.nan"
   ]
  },
  {
   "cell_type": "code",
   "execution_count": null,
   "id": "0fa8274e",
   "metadata": {},
   "outputs": [],
   "source": [
    "0 * np.nan"
   ]
  },
  {
   "cell_type": "markdown",
   "id": "f26b546a",
   "metadata": {},
   "source": [
    "Note that this means that aggregates over the values are well defined (i.e., they don’t\n",
    "result in an error) but not always useful:"
   ]
  },
  {
   "cell_type": "code",
   "execution_count": null,
   "id": "030f049e",
   "metadata": {},
   "outputs": [],
   "source": [
    "vals2.sum(), vals2.min(), vals2.max()"
   ]
  },
  {
   "cell_type": "markdown",
   "id": "abbc3f54",
   "metadata": {},
   "source": [
    "NumPy does provide some special aggregations that will ignore these missing values:"
   ]
  },
  {
   "cell_type": "code",
   "execution_count": null,
   "id": "e9e526bb",
   "metadata": {},
   "outputs": [],
   "source": [
    "np.nansum(vals2), np.nanmin(vals2), np.nanmax(vals2)"
   ]
  },
  {
   "cell_type": "markdown",
   "id": "85f800a3",
   "metadata": {},
   "source": [
    "Keep in mind that NaN is specifically a floating-point value; there is no equivalent\n",
    "NaN value for integers, strings, or other types."
   ]
  },
  {
   "cell_type": "markdown",
   "id": "70f3bd8e",
   "metadata": {},
   "source": [
    "### NaN and None in Pandas\n",
    "\n",
    "NaN and None both have their place, and Pandas is built to handle the two of them\n",
    "nearly interchangeably, converting between them where appropriate:"
   ]
  },
  {
   "cell_type": "code",
   "execution_count": null,
   "id": "e7a374aa",
   "metadata": {},
   "outputs": [],
   "source": [
    "pd.Series([1, np.nan, 2, None])"
   ]
  },
  {
   "cell_type": "markdown",
   "id": "afb643b4",
   "metadata": {},
   "source": [
    "For types that don’t have an available sentinel value, Pandas automatically type-casts\n",
    "when NA values are present. For example, if we set a value in an integer array to\n",
    "np.nan, it will automatically be upcast to a floating-point type to accommodate the\n",
    "NA:"
   ]
  },
  {
   "cell_type": "code",
   "execution_count": null,
   "id": "e64ce4fe",
   "metadata": {},
   "outputs": [],
   "source": [
    "x = pd.Series(range(2), dtype=int)\n",
    "x"
   ]
  },
  {
   "cell_type": "code",
   "execution_count": null,
   "id": "456a5bc2",
   "metadata": {},
   "outputs": [],
   "source": [
    "x[0] = None\n",
    "x"
   ]
  },
  {
   "cell_type": "markdown",
   "id": "46334318",
   "metadata": {},
   "source": [
    "Notice that in addition to casting the integer array to floating point, Pandas automati‐\n",
    "cally converts the None to a NaN value. (Be aware that there is a proposal to add a\n",
    "native integer NA to Pandas in the future; as of this writing, it has not been included.)\n",
    "\n",
    "While this type of magic may feel a bit hackish compared to the more unified\n",
    "approach to NA values in domain-specific languages like R, the Pandas sentinel/cast‐\n",
    "ing approach works quite well in practice and in my experience only rarely causes\n",
    "issues.\n",
    "\n",
    "Table 3-2 lists the upcasting conventions in Pandas when NA values are introduced.\n",
    "\n",
    "| Typeclass | Conversion when storing NAs | NA sentinel value |\n",
    "|-----------|-----------------------------|-------------------|\n",
    "| floating  | No change                   | ``np.nan``        |\n",
    "| object    | No change                   | ``None`` or ``np.nan`` |\n",
    "| integer   | Cast to float64             | ``np.nan``        |\n",
    "| boolean   | Cast to object              | ``None`` or ``np.nan`` |\n",
    "\n",
    "Keep in mind that in Pandas, string data is always stored with an object dtype."
   ]
  },
  {
   "cell_type": "markdown",
   "id": "0c8ba541",
   "metadata": {},
   "source": [
    "## Operating on Null Values\n",
    "\n",
    "As we have seen, Pandas treats None and NaN as essentially interchangeable for indi‐\n",
    "cating missing or null values. To facilitate this convention, there are several useful\n",
    "methods for detecting, removing, and replacing null values in Pandas data structures.\n",
    "They are:\n",
    "\n",
    "- ``isnull()``\n",
    "- ``notnull()``\n",
    "- ``dropna()``\n",
    "- ``fillna()``\n",
    "\n",
    "We will conclude this section with a brief exploration and demonstration of these\n",
    "routines."
   ]
  },
  {
   "cell_type": "markdown",
   "id": "b1a1a103",
   "metadata": {},
   "source": [
    "### Detecting null values\n",
    "\n",
    "Pandas data structures have two useful methods for detecting null data: isnull() and\n",
    "notnull(). Either one will return a Boolean mask over the data. For example:"
   ]
  },
  {
   "cell_type": "code",
   "execution_count": null,
   "id": "6c153c30",
   "metadata": {},
   "outputs": [],
   "source": [
    "data = pd.Series([1, np.nan, 'hello', None])"
   ]
  },
  {
   "cell_type": "code",
   "execution_count": null,
   "id": "ae1598d7",
   "metadata": {},
   "outputs": [],
   "source": [
    "data.isnull()"
   ]
  },
  {
   "cell_type": "markdown",
   "id": "30f5dc42",
   "metadata": {},
   "source": [
    "As mentioned in “Data Indexing and Selection” on page 107, Boolean masks can be\n",
    "used directly as a Series or DataFrame index:"
   ]
  },
  {
   "cell_type": "code",
   "execution_count": null,
   "id": "f41b0a9d",
   "metadata": {},
   "outputs": [],
   "source": [
    "data[data.notnull()]"
   ]
  },
  {
   "cell_type": "markdown",
   "id": "bb4ff1f3",
   "metadata": {},
   "source": [
    "The isnull() and notnull() methods produce similar Boolean results for Data\n",
    "Frames."
   ]
  },
  {
   "cell_type": "markdown",
   "id": "c5422536",
   "metadata": {},
   "source": [
    "### Dropping null values\n",
    "\n",
    "In addition to the masking used before, there are the convenience methods, dropna()\n",
    "(which removes NA values) and fillna() (which fills in NA values). For a Series,\n",
    "the result is straightforward:"
   ]
  },
  {
   "cell_type": "code",
   "execution_count": null,
   "id": "e33dcd40",
   "metadata": {},
   "outputs": [],
   "source": [
    "data.dropna()"
   ]
  },
  {
   "cell_type": "markdown",
   "id": "eb5e59e8",
   "metadata": {},
   "source": [
    "For a DataFrame, there are more options. Consider the following DataFrame:"
   ]
  },
  {
   "cell_type": "code",
   "execution_count": null,
   "id": "d44b1f49",
   "metadata": {},
   "outputs": [],
   "source": [
    "df = pd.DataFrame([[1, np.nan, 2],\n",
    "                   [2, 3, 5],\n",
    "                   [np.nan, 4, 6]])\n",
    "df"
   ]
  },
  {
   "cell_type": "markdown",
   "id": "e01c9484",
   "metadata": {},
   "source": [
    "We cannot drop single values from a DataFrame; we can only drop full rows or full\n",
    "columns. Depending on the application, you might want one or the other, so\n",
    "dropna() gives a number of options for a DataFrame."
   ]
  },
  {
   "cell_type": "markdown",
   "id": "a15e82d8",
   "metadata": {},
   "source": [
    "By default, dropna() will drop all rows in which any null value is present:"
   ]
  },
  {
   "cell_type": "code",
   "execution_count": null,
   "id": "892d07ec",
   "metadata": {},
   "outputs": [],
   "source": [
    "df.dropna()"
   ]
  },
  {
   "cell_type": "markdown",
   "id": "eaa64a94",
   "metadata": {},
   "source": [
    "Alternatively, you can drop NA values along a different axis; axis=1 drops all columns containing a null value:"
   ]
  },
  {
   "cell_type": "code",
   "execution_count": null,
   "id": "889094d5",
   "metadata": {},
   "outputs": [],
   "source": [
    "df.dropna(axis='columns')"
   ]
  },
  {
   "cell_type": "markdown",
   "id": "5effb192",
   "metadata": {},
   "source": [
    "But this drops some good data as well; you might rather be interested in dropping\n",
    "rows or columns with all NA values, or a majority of NA values. This can be specified\n",
    "through the how or thresh parameters, which allow fine control of the number of\n",
    "nulls to allow through."
   ]
  },
  {
   "cell_type": "markdown",
   "id": "ae641847",
   "metadata": {},
   "source": [
    "The default is how='any', such that any row or column (depending on the axis key‐\n",
    "word) containing a null value will be dropped. You can also specify how='all', which\n",
    "will only drop rows/columns that are all null values:"
   ]
  },
  {
   "cell_type": "code",
   "execution_count": null,
   "id": "18812b20",
   "metadata": {},
   "outputs": [],
   "source": [
    "df[3] = np.nan\n",
    "df"
   ]
  },
  {
   "cell_type": "code",
   "execution_count": null,
   "id": "f1e40899",
   "metadata": {},
   "outputs": [],
   "source": [
    "# axis=0 always refers to rows and axis=1 always refers to columns\n",
    "# however, depending on the type of operation being done, behavior varies\n",
    "# if it's a reduction/transformation (e.g., aggregation function), axis=0 goes down rows in a specific column and axis=1 goes *across* cols in a row\n",
    "# if it's indexing/dropping, it axis=0 drops rows and axis=1 drops cols\n",
    "df.dropna(axis=1, how='all')"
   ]
  },
  {
   "cell_type": "markdown",
   "id": "58308603",
   "metadata": {},
   "source": [
    "For finer-grained control, the thresh parameter lets you specify a minimum number\n",
    "of non-null values for the row/column to be kept:"
   ]
  },
  {
   "cell_type": "code",
   "execution_count": null,
   "id": "7df4386e",
   "metadata": {},
   "outputs": [],
   "source": [
    "df.dropna(axis=0, thresh=3)"
   ]
  },
  {
   "cell_type": "markdown",
   "id": "4d448bba",
   "metadata": {},
   "source": [
    "Here the first and last row have been dropped, because they contain only two non-\n",
    "null values."
   ]
  },
  {
   "cell_type": "markdown",
   "id": "20ba3743",
   "metadata": {},
   "source": [
    "### Filling null values\n",
    "\n",
    "Sometimes rather than dropping NA values, you’d rather replace them with a valid\n",
    "value. This value might be a single number like zero, or it might be some sort of\n",
    "imputation or interpolation from the good values. You could do this in-place using\n",
    "the isnull() method as a mask, but because it is such a common operation Pandas\n",
    "provides the fillna() method, which returns a copy of the array with the null values\n",
    "replaced."
   ]
  },
  {
   "cell_type": "markdown",
   "id": "c074d7b4",
   "metadata": {},
   "source": [
    "Consider the following Series:"
   ]
  },
  {
   "cell_type": "code",
   "execution_count": null,
   "id": "f2ff7795",
   "metadata": {},
   "outputs": [],
   "source": [
    "data = pd.Series([1, np.nan, 2, None, 3], index=list('abcde'))\n",
    "data"
   ]
  },
  {
   "cell_type": "markdown",
   "id": "1c56608a",
   "metadata": {},
   "source": [
    "We can fill NA entries with a single value, such as zero:"
   ]
  },
  {
   "cell_type": "code",
   "execution_count": null,
   "id": "114c25fc",
   "metadata": {},
   "outputs": [],
   "source": [
    "data.fillna(0)"
   ]
  },
  {
   "cell_type": "markdown",
   "id": "13da57e8",
   "metadata": {},
   "source": [
    "We can specify a forward-fill to propagate the previous value forward:"
   ]
  },
  {
   "cell_type": "code",
   "execution_count": null,
   "id": "122039e7",
   "metadata": {},
   "outputs": [],
   "source": [
    "# forward-fill\n",
    "data.ffill()"
   ]
  },
  {
   "cell_type": "markdown",
   "id": "8ea7908e",
   "metadata": {},
   "source": [
    "Or we can specify a back-fill to propagate the next values backward:"
   ]
  },
  {
   "cell_type": "code",
   "execution_count": null,
   "id": "d5a44f3b",
   "metadata": {},
   "outputs": [],
   "source": [
    "# back-fill\n",
    "data.bfill()"
   ]
  },
  {
   "cell_type": "markdown",
   "id": "64909613",
   "metadata": {},
   "source": [
    "For DataFrames, the options are similar, but we can also specify an axis along which\n",
    "the fills take place:"
   ]
  },
  {
   "cell_type": "code",
   "execution_count": null,
   "id": "8fc19f6a",
   "metadata": {},
   "outputs": [],
   "source": [
    "df"
   ]
  },
  {
   "cell_type": "code",
   "execution_count": null,
   "id": "ff8dda48",
   "metadata": {},
   "outputs": [],
   "source": [
    "df.ffill(axis=1)"
   ]
  },
  {
   "cell_type": "markdown",
   "id": "a9dec15a",
   "metadata": {},
   "source": [
    "Notice that if a previous value is not available during a forward fill, the NA value\n",
    "remains."
   ]
  }
 ],
 "metadata": {
  "jupytext": {
   "cell_metadata_filter": "-all",
   "main_language": "python",
   "notebook_metadata_filter": "-all"
  },
  "kernelspec": {
   "display_name": "Python 3",
   "language": "python",
   "name": "python3"
  },
  "language_info": {
   "codemirror_mode": {
    "name": "ipython",
    "version": 3
   },
   "file_extension": ".py",
   "mimetype": "text/x-python",
   "name": "python",
   "nbconvert_exporter": "python",
   "pygments_lexer": "ipython3",
   "version": "3.13.5"
  }
 },
 "nbformat": 4,
 "nbformat_minor": 5
}
