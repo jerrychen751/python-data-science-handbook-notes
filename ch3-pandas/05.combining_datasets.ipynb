{
 "cells": [
  {
   "cell_type": "markdown",
   "id": "6bdbf3cd",
   "metadata": {},
   "source": [
    "# Combining Datasets: Concat and Merge\n",
    "\n",
    "It is very common to need to combine different datasets. Pandas provides several functions for this, mainly `pd.concat()` for simple stacking and `pd.merge()` for database-style joins."
   ]
  },
  {
   "cell_type": "code",
   "execution_count": null,
   "id": "c0d16171",
   "metadata": {},
   "outputs": [],
   "source": [
    "import pandas as pd\n",
    "import numpy as np"
   ]
  },
  {
   "cell_type": "markdown",
   "id": "6b11ec8b",
   "metadata": {},
   "source": [
    "## Simple Concatenation with `pd.concat`\n",
    "\n",
    "`pd.concat` can be used for a simple concatenation of `Series` or `DataFrame` objects."
   ]
  },
  {
   "cell_type": "code",
   "execution_count": null,
   "id": "b1af457a",
   "metadata": {
    "lines_to_next_cell": 1
   },
   "outputs": [],
   "source": [
    "def make_df(cols, ind):\n",
    "    \"\"\"Quickly make a DataFrame\"\"\"\n",
    "    data = {c: [str(c) + str(i) for i in ind]\n",
    "            for c in cols}\n",
    "    return pd.DataFrame(data, ind)"
   ]
  },
  {
   "cell_type": "code",
   "execution_count": null,
   "id": "1b0a012a",
   "metadata": {
    "lines_to_next_cell": 2
   },
   "outputs": [],
   "source": [
    "# example DataFrame\n",
    "make_df('ABC', range(3))"
   ]
  },
  {
   "cell_type": "code",
   "execution_count": null,
   "id": "04eb90a7",
   "metadata": {
    "lines_to_next_cell": 2
   },
   "outputs": [],
   "source": [
    "# Concatenating two DataFrames\n",
    "df1 = make_df('AB', [1, 2])\n",
    "df2 = make_df('CD', [3, 4])\n",
    "pd.concat([df1, df2])"
   ]
  },
  {
   "cell_type": "markdown",
   "id": "af768b3c",
   "metadata": {},
   "source": [
    "By default, `concat` works row-wise (`axis=0`). You can specify `axis=1` to concatenate column-wise."
   ]
  },
  {
   "cell_type": "code",
   "execution_count": null,
   "id": "c64f219d",
   "metadata": {
    "lines_to_next_cell": 2
   },
   "outputs": [],
   "source": [
    "# Concatenate along columns\n",
    "df3 = make_df('AB', [0, 1])\n",
    "df4 = make_df('CD', [0, 1])\n",
    "pd.concat([df3, df4], axis=1)"
   ]
  },
  {
   "cell_type": "markdown",
   "id": "a0ccc37c",
   "metadata": {},
   "source": [
    "## Combining Datasets: Merge and Join\n",
    "\n",
    "For more complex, database-style merging, Pandas provides `pd.merge()`.\n",
    "This is the entry point for all standard database join operations."
   ]
  },
  {
   "cell_type": "markdown",
   "id": "ba3dba09",
   "metadata": {},
   "source": [
    "### Categories of Joins\n",
    "\n",
    "`pd.merge()` implements one-to-one, one-to-many, and many-to-many joins."
   ]
  },
  {
   "cell_type": "code",
   "execution_count": null,
   "id": "88d79c9c",
   "metadata": {},
   "outputs": [],
   "source": [
    "# One-to-one join\n",
    "df1 = pd.DataFrame({'employee': ['Bob', 'Jake', 'Lisa', 'Sue'],\n",
    "                    'group': ['Accounting', 'Engineering', 'Engineering', 'HR']})\n",
    "df2 = pd.DataFrame({'employee': ['Lisa', 'Bob', 'Jake', 'Sue'],\n",
    "                    'hire_date': [2004, 2008, 2012, 2014]})"
   ]
  },
  {
   "cell_type": "code",
   "execution_count": null,
   "id": "e0f9086c",
   "metadata": {},
   "outputs": [],
   "source": [
    "df1"
   ]
  },
  {
   "cell_type": "code",
   "execution_count": null,
   "id": "4e9763ed",
   "metadata": {},
   "outputs": [],
   "source": [
    "df2"
   ]
  },
  {
   "cell_type": "code",
   "execution_count": null,
   "id": "c4bdccf6",
   "metadata": {
    "lines_to_next_cell": 2
   },
   "outputs": [],
   "source": [
    "df3 = pd.merge(df1, df2)\n",
    "df3"
   ]
  },
  {
   "cell_type": "code",
   "execution_count": null,
   "id": "7117a21b",
   "metadata": {
    "lines_to_next_cell": 2
   },
   "outputs": [],
   "source": [
    "# One-to-many join\n",
    "# Keys in `df4` are unique, but map to multiple in `df3`\n",
    "df4 = pd.DataFrame({'group': ['Accounting', 'Engineering', 'HR'],\n",
    "                    'supervisor': ['Carly', 'Guido', 'Steve']})\n",
    "print(df4)\n",
    "pd.merge(df3, df4)"
   ]
  },
  {
   "cell_type": "markdown",
   "id": "601de929",
   "metadata": {},
   "source": [
    "### Specification of the Merge Key\n",
    "\n",
    "You can explicitly specify the key column to merge on using the `on` keyword."
   ]
  },
  {
   "cell_type": "code",
   "execution_count": null,
   "id": "9524db85",
   "metadata": {
    "lines_to_next_cell": 2
   },
   "outputs": [],
   "source": [
    "# Merging on a specific key\n",
    "pd.merge(df1, df2, on='employee') # use a list if specifying multiple"
   ]
  },
  {
   "cell_type": "markdown",
   "id": "e3e29174",
   "metadata": {},
   "source": [
    "If the column names are different in the two dataframes, you can use `left_on` and `right_on`."
   ]
  },
  {
   "cell_type": "code",
   "execution_count": null,
   "id": "553d7572",
   "metadata": {
    "lines_to_next_cell": 2
   },
   "outputs": [],
   "source": [
    "df3 = pd.DataFrame({'name': ['Bob', 'Jake', 'Lisa', 'Sue'],\n",
    "                    'salary': [70000, 80000, 120000, 90000]})\n",
    "pd.merge(df1, df3, left_on=\"employee\", right_on=\"name\")"
   ]
  },
  {
   "cell_type": "markdown",
   "id": "b38008a6",
   "metadata": {},
   "source": [
    "### Specifying Set Arithmetic for Joins\n",
    "\n",
    "The `how` keyword controls what to do with entries that don't match in both dataframes. The default is an `inner` join."
   ]
  },
  {
   "cell_type": "code",
   "execution_count": null,
   "id": "416e1636",
   "metadata": {
    "lines_to_next_cell": 2
   },
   "outputs": [],
   "source": [
    "df6 = pd.DataFrame({'group': ['Accounting', 'Engineering', 'Marketing'],\n",
    "                    'skills': ['math', 'coding', 'communication']})\n",
    "pd.merge(df1, df6, on='group') # Inner join is default (require strict match between values in all specified columns, if `on` is passed as an array-list object)"
   ]
  },
  {
   "cell_type": "code",
   "execution_count": null,
   "id": "77c9a4a4",
   "metadata": {
    "lines_to_next_cell": 2
   },
   "outputs": [],
   "source": [
    "# Outer join returns all entries from both, filling missing with NaN\n",
    "pd.merge(df1, df6, how='outer')"
   ]
  },
  {
   "cell_type": "code",
   "execution_count": null,
   "id": "d02b96c6",
   "metadata": {
    "lines_to_next_cell": 2
   },
   "outputs": [],
   "source": [
    "# Left join returns all entries from the left dataframe\n",
    "pd.merge(df1, df6, how='left')"
   ]
  },
  {
   "cell_type": "markdown",
   "id": "114f4f52",
   "metadata": {},
   "source": [
    "### Overlapping Column Names: The `suffixes` Keyword\n",
    "\n",
    "If both dataframes have a column with the same name, but that column is not meant to be the join key, using `suffixes` keyword allows for distinguishing."
   ]
  },
  {
   "cell_type": "code",
   "execution_count": null,
   "id": "0f309199",
   "metadata": {
    "lines_to_next_cell": 2
   },
   "outputs": [],
   "source": [
    "df8 = pd.DataFrame({'name': ['Bob', 'Jake', 'Lisa', 'Sue'],\n",
    "                    'rank': [1, 2, 3, 4]})\n",
    "df9 = pd.DataFrame({'name': ['Bob', 'Jake', 'Lisa', 'Sue'],\n",
    "                    'rank': [4, 3, 2, 1]})\n",
    "pd.merge(df8, df9, on=\"name\", suffixes=[\"_left\", \"_right\"])\n",
    "# will work through all columns with the same name, as long as they aren't 'on'"
   ]
  },
  {
   "cell_type": "markdown",
   "id": "43b370bd",
   "metadata": {},
   "source": [
    "### Verifying Non-Duplicate Indices\n",
    "\n",
    "When concatenating or merging dataframes, it's crucial to ensure the index integrity. Duplicate indices can lead to subtle bugs and incorrect results. Pandas provides several ways to verify that an index has no duplicate values."
   ]
  },
  {
   "cell_type": "code",
   "execution_count": null,
   "id": "9de1ff6b",
   "metadata": {
    "lines_to_next_cell": 2
   },
   "outputs": [],
   "source": [
    "df_a = make_df('AB', [0, 1])\n",
    "df_b = make_df('AB', [1, 2])\n",
    "\n",
    "print(df_a)\n",
    "print(df_b)\n",
    "print(\"---\")\n",
    "\n",
    "bad_concat = pd.concat([df_a, df_b])\n",
    "print(bad_concat)\n",
    "print(\"---\")\n",
    "\n",
    "print(f'Is the index unique? {bad_concat.index.is_unique}')\n",
    "print(f'Duplicated entries:\\n{bad_concat[bad_concat.index.duplicated()]}')"
   ]
  },
  {
   "cell_type": "markdown",
   "id": "967d547a",
   "metadata": {},
   "source": [
    "As you can see, `index.is_unique` returns `False` because there are duplicate values in the index. The `index.duplicated()` method returns a boolean Series indicating whether each index entry is a duplicate."
   ]
  },
  {
   "cell_type": "markdown",
   "id": "1b9905c6",
   "metadata": {},
   "source": [
    "### Example: US States Data\n",
    "\n",
    "Let's combine some mock data about US states to see a more realistic example."
   ]
  },
  {
   "cell_type": "code",
   "execution_count": null,
   "id": "bee7f200",
   "metadata": {
    "lines_to_next_cell": 2
   },
   "outputs": [],
   "source": [
    "# Data from https://github.com/jakevdp/PythonDataScienceHandbook/\n",
    "pop = pd.read_csv('../data/state-population.csv')\n",
    "areas = pd.read_csv('../data/state-areas.csv')\n",
    "abbrevs = pd.read_csv('../data/state-abbrevs.csv')\n",
    "\n",
    "# Let's merge the population and abbreviation data\n",
    "merged = pd.merge(pop, abbrevs, how='outer',\n",
    "                  left_on='state/region', right_on='abbreviation')\n",
    "print(merged)\n",
    "\n",
    "# Drop the duplicate info\n",
    "merged = merged.drop('abbreviation', axis=1) \n",
    "merged.head()"
   ]
  },
  {
   "cell_type": "code",
   "execution_count": null,
   "id": "e05cd5c4",
   "metadata": {
    "lines_to_next_cell": 2
   },
   "outputs": [],
   "source": [
    "# Now merge with the area data\n",
    "final = pd.merge(merged, areas, on='state', how='left')\n",
    "final.head()"
   ]
  },
  {
   "cell_type": "code",
   "execution_count": null,
   "id": "bfc901fb",
   "metadata": {},
   "outputs": [],
   "source": [
    "# Let's calculate population density in 2010\n",
    "final_2010 = final[final['year'] == 2010]\n",
    "final_2010.set_index('state', inplace=True)\n",
    "density = final_2010['population'] / final_2010['area (sq. mi)']\n",
    "density.sort_values(ascending=False, inplace=True)\n",
    "density.head()"
   ]
  }
 ],
 "metadata": {
  "jupytext": {
   "cell_metadata_filter": "-all",
   "encoding": "# coding: utf-8",
   "executable": "/usr/bin/env python",
   "main_language": "python",
   "notebook_metadata_filter": "-all"
  },
  "kernelspec": {
   "display_name": "Python 3",
   "language": "python",
   "name": "python3"
  },
  "language_info": {
   "codemirror_mode": {
    "name": "ipython",
    "version": 3
   },
   "file_extension": ".py",
   "mimetype": "text/x-python",
   "name": "python",
   "nbconvert_exporter": "python",
   "pygments_lexer": "ipython3",
   "version": "3.13.5"
  }
 },
 "nbformat": 4,
 "nbformat_minor": 5
}
