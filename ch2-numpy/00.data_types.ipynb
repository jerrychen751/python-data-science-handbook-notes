{
 "cells": [
  {
   "cell_type": "code",
   "execution_count": 17,
   "id": "51f2c88d",
   "metadata": {},
   "outputs": [],
   "source": [
    "import numpy as np\n"
   ]
  },
  {
   "cell_type": "code",
   "execution_count": 18,
   "id": "3e788ad8",
   "metadata": {},
   "outputs": [
    {
     "name": "stdout",
     "output_type": "stream",
     "text": [
      "[0 0 0 0 0 0 0 0 0 0]\n",
      "[1. 1. 1. 1. 1. 1. 1. 1. 1. 1. 1. 1. 1. 1. 1. 1. 1. 1. 1. 1.]\n"
     ]
    }
   ],
   "source": [
    "# NumPy arrays are homogeneous (mixing types --> upcasting to same compatible type)\n",
    "print(np.zeros(10, dtype=int)) # specify shape (or len if 1D), data type\n",
    "print(np.ones(20, dtype=float))"
   ]
  },
  {
   "cell_type": "code",
   "execution_count": 19,
   "id": "46598e0e",
   "metadata": {},
   "outputs": [
    {
     "data": {
      "text/plain": [
       "array([['!', '!', '!'],\n",
       "       ['!', '!', '!'],\n",
       "       ['!', '!', '!']], dtype='<U1')"
      ]
     },
     "execution_count": 19,
     "metadata": {},
     "output_type": "execute_result"
    }
   ],
   "source": [
    "np.full((3, 3), \"!\") # more general version"
   ]
  },
  {
   "cell_type": "code",
   "execution_count": 20,
   "id": "37630551",
   "metadata": {},
   "outputs": [
    {
     "name": "stdout",
     "output_type": "stream",
     "text": [
      "[ 0  2  4  6  8 10 12 14 16 18]\n",
      "[0.         0.11111111 0.22222222 0.33333333 0.44444444 0.55555556\n",
      " 0.66666667 0.77777778 0.88888889 1.        ]\n"
     ]
    }
   ],
   "source": [
    "# Range & Random\n",
    "print(np.arange(0, 20, 2))\n",
    "print(np.linspace(0, 1, 10))"
   ]
  },
  {
   "cell_type": "code",
   "execution_count": 21,
   "id": "48aa7d9d",
   "metadata": {},
   "outputs": [
    {
     "data": {
      "text/plain": [
       "array([[0.75244933, 0.98667704, 0.51064483],\n",
       "       [0.26918642, 0.6912318 , 0.91567615],\n",
       "       [0.52175853, 0.02475993, 0.79910247]])"
      ]
     },
     "execution_count": 21,
     "metadata": {},
     "output_type": "execute_result"
    }
   ],
   "source": [
    "np.random.random((3, 3)) # specify size"
   ]
  },
  {
   "cell_type": "code",
   "execution_count": 22,
   "id": "24725fc6",
   "metadata": {},
   "outputs": [
    {
     "data": {
      "text/plain": [
       "array([[8, 9, 8],\n",
       "       [5, 4, 7],\n",
       "       [0, 7, 5]])"
      ]
     },
     "execution_count": 22,
     "metadata": {},
     "output_type": "execute_result"
    }
   ],
   "source": [
    "np.random.randint(0, 10, (3, 3))"
   ]
  }
 ],
 "metadata": {
  "kernelspec": {
   "display_name": "Python 3",
   "language": "python",
   "name": "python3"
  },
  "language_info": {
   "codemirror_mode": {
    "name": "ipython",
    "version": 3
   },
   "file_extension": ".py",
   "mimetype": "text/x-python",
   "name": "python",
   "nbconvert_exporter": "python",
   "pygments_lexer": "ipython3",
   "version": "3.13.5"
  }
 },
 "nbformat": 4,
 "nbformat_minor": 5
}
