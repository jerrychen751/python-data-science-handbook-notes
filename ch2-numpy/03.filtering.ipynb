{
 "cells": [
  {
   "cell_type": "code",
   "execution_count": 39,
   "id": "e9b19d71",
   "metadata": {},
   "outputs": [],
   "source": [
    "import numpy as np\n",
    "import pandas as pd\n",
    "import matplotlib.pyplot as plt\n",
    "import seaborn"
   ]
  },
  {
   "cell_type": "markdown",
   "id": "ff81c20a",
   "metadata": {},
   "source": [
    "# Comparisons, Masks, and Boolean Logic"
   ]
  },
  {
   "cell_type": "markdown",
   "id": "754d9bdd",
   "metadata": {},
   "source": [
    "Python's comparison operators can be used with NumPy arrays to create boolean arrays, or masks. These masks are useful for filtering data.\n",
    "\n",
    "Furthermore, bitwise operators in Python are used as boolean operators on masks to create more complex filtering conditions."
   ]
  },
  {
   "cell_type": "code",
   "execution_count": 40,
   "id": "64d8540d",
   "metadata": {},
   "outputs": [],
   "source": [
    "rainfall = pd.read_csv('../data/Seattle2014.csv')['PRCP'].values"
   ]
  },
  {
   "cell_type": "code",
   "execution_count": 41,
   "id": "9a354cea",
   "metadata": {},
   "outputs": [
    {
     "name": "stdout",
     "output_type": "stream",
     "text": [
      "(365,)\n"
     ]
    }
   ],
   "source": [
    "inch_rainfall = rainfall / 254 # 1/10th of a millimeter --> inches\n",
    "print(inch_rainfall.shape)"
   ]
  },
  {
   "cell_type": "code",
   "execution_count": 42,
   "id": "0e2b57f9",
   "metadata": {},
   "outputs": [
    {
     "name": "stdout",
     "output_type": "stream",
     "text": [
      "[ True  True False False False]\n",
      "[ True  True  True  True  True]\n"
     ]
    }
   ],
   "source": [
    "# Comparison Operators for Boolean Arrays\n",
    "# Example: Element-Wise comparison w/ comparison operators\n",
    "x = np.array([1, 2, 3, 4, 5])\n",
    "print(x < 3) # --> 3 is promoted via shape padding from (1,) to (5,) and then compared\n",
    "\n",
    "# Example: Comparison Between Arrays\n",
    "print(x == x)"
   ]
  },
  {
   "cell_type": "code",
   "execution_count": 43,
   "id": "83e4310d",
   "metadata": {},
   "outputs": [
    {
     "name": "stdout",
     "output_type": "stream",
     "text": [
      "8\n",
      "True\n",
      "False\n"
     ]
    }
   ],
   "source": [
    "# Operations on Boolean Arrays\n",
    "y = np.array([\n",
    "    [5, 0, 3, 3],\n",
    "    [7, 9, 3, 5],\n",
    "    [2, 4, 7, 6]\n",
    "])\n",
    "\n",
    "# Example: Finding the number of elements fulfilling a specific condition\n",
    "print(np.count_nonzero(y < 6)) # True = 1; False = 0\n",
    "\n",
    "# Example: Any/All condition fulfillment\n",
    "print(np.any(y == 0)) # `True` if any element in array `y == 0` is True\n",
    "print(np.all(y > 0)) # `True` if all elements in array `y > 0` are True"
   ]
  },
  {
   "cell_type": "markdown",
   "id": "c7a8b9d0",
   "metadata": {},
   "source": [
    "### Masks as a means of selecting subsets of data (boolean indexing)\n",
    "A powerful feature of boolean arrays is their ability to act as masks for selecting subsets of data. A mask is a boolean array that has the same shape as the data array. When you apply the mask to the data array, only the elements corresponding to `True` values in the mask are returned."
   ]
  },
  {
   "cell_type": "code",
   "execution_count": 44,
   "id": "e1f2g3h4",
   "metadata": {},
   "outputs": [
    {
     "name": "stdout",
     "output_type": "stream",
     "text": [
      "Original array: [ 1  2  3  4  5  6  7  8  9 10]\n",
      "Mask: [ True  True  True  True False False False False False False]\n",
      "Masked array: [1 2 3 4]\n"
     ]
    }
   ],
   "source": [
    "# Example: Using a mask to select values less than 5\n",
    "x = np.array([1, 2, 3, 4, 5, 6, 7, 8, 9, 10])\n",
    "mask = x < 5\n",
    "print(f'Original array: {x}')\n",
    "print(f'Mask: {mask}')\n",
    "print(f'Masked array: {x[mask]}')"
   ]
  },
  {
   "cell_type": "markdown",
   "id": "i5j6k7l8",
   "metadata": {},
   "source": [
    "### Combining Masks with Boolean Operators\n",
    "You can combine multiple masks using boolean operators like `&` (and) and `|` (or) to create more complex selections. These Python bitwise operators work on an element-wise basis.\n",
    "\n",
    "Notably, the `and` and `or` keywords do not operate the same way. This is because Python uses `and`/`or` to evaluate the truthiness of **whole** objects, but with NumPy arrays, it's more ambiguous:\n",
    "- Should a NumPy array be `True` because *some* elements are `True`?\n",
    "- Or should it be `False` because *not all* elements are `True`?\n",
    "- A `ValueError` will be raised."
   ]
  },
  {
   "cell_type": "code",
   "execution_count": 45,
   "id": "m9n0o1p2",
   "metadata": {},
   "outputs": [
    {
     "name": "stdout",
     "output_type": "stream",
     "text": [
      "Mask 1 (x > 3): [False False False  True  True  True  True  True  True  True]\n",
      "Mask 2 (x < 8): [ True  True  True  True  True  True  True False False False]\n",
      "Combined mask (x > 3 & x < 8): [False False False  True  True  True  True False False False]\n",
      "Masked array: [4 5 6 7]\n"
     ]
    }
   ],
   "source": [
    "# Example: Combining masks to select values between 3 and 8\n",
    "mask1 = x > 3\n",
    "mask2 = x < 8\n",
    "print(f'Mask 1 (x > 3): {mask1}')\n",
    "print(f'Mask 2 (x < 8): {mask2}')\n",
    "print(f'Combined mask (x > 3 & x < 8): {mask1 & mask2}')\n",
    "print(f'Masked array: {x[mask1 & mask2]}')"
   ]
  },
  {
   "cell_type": "markdown",
   "id": "q3r4s5t6",
   "metadata": {},
   "source": [
    "### Using Masks to Modify Values\n",
    "You can also use masks to modify values in an array. When you assign a value to a masked array, the value is assigned to all elements of the original array where the mask is `True`."
   ]
  },
  {
   "cell_type": "code",
   "execution_count": 46,
   "id": "u7v8w9x0",
   "metadata": {},
   "outputs": [
    {
     "name": "stdout",
     "output_type": "stream",
     "text": [
      "Original array: [ 1  2  3  4  5  6  7  8  9 10]\n",
      "Modified array: [1 2 3 4 5 0 0 0 0 0]\n"
     ]
    }
   ],
   "source": [
    "# Example: Modifying values using a mask\n",
    "x = np.array([1, 2, 3, 4, 5, 6, 7, 8, 9, 10])\n",
    "print(f'Original array: {x}')\n",
    "x[x > 5] = 0\n",
    "print(f'Modified array: {x}')"
   ]
  },
  {
   "cell_type": "code",
   "execution_count": 47,
   "id": "265c9732",
   "metadata": {},
   "outputs": [
    {
     "name": "stdout",
     "output_type": "stream",
     "text": [
      "29\n",
      "333\n",
      "215\n",
      "150\n"
     ]
    }
   ],
   "source": [
    "# Boolean Operators\n",
    "# Example: Find number of days with rainfall **between** 0.5-1 inches\n",
    "print(np.count_nonzero((inch_rainfall > 0.5) & (inch_rainfall < 1)))\n",
    "\n",
    "# Note: `and` and `or` perform a single boolean evaluation on an entire object, while `&` and `|` perform multiple boolean evaluations on an object (element-wise). When using boolean arrays, the latter is desired.\n",
    "\n",
    "# Example: Find number of days with rainfall less than 0.5 OR more than 1 inches\n",
    "print(np.count_nonzero((inch_rainfall < 0.5) | (inch_rainfall > 1)))\n",
    "\n",
    "# Example: Find the number of days with zero rainfall\n",
    "print(np.count_nonzero(inch_rainfall == 0))\n",
    "\n",
    "# Example: Find the number of days with non-zero rainfall\n",
    "print(np.count_nonzero(inch_rainfall != 0))"
   ]
  }
 ],
 "metadata": {
  "kernelspec": {
   "display_name": "Python 3",
   "language": "python",
   "name": "python3"
  },
  "language_info": {
   "codemirror_mode": {
    "name": "ipython",
    "version": 3
   },
   "file_extension": ".py",
   "mimetype": "text/x-python",
   "name": "python",
   "nbconvert_exporter": "python",
   "pygments_lexer": "ipython3",
   "version": "3.13.5"
  }
 },
 "nbformat": 4,
 "nbformat_minor": 5
}
