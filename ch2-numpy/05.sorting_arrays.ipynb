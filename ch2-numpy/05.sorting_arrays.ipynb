{
 "cells": [
  {
   "cell_type": "markdown",
   "metadata": {},
   "source": [
    "# Sorting Arrays\n",
    "Sorting is a fundamental operation in data analysis. NumPy provides efficient functions for sorting arrays, which are often more performant than Python's built-in `sort` and `sorted` functions. This notebook covers the basics of sorting in NumPy, including fast sorting, partial sorts, and a practical example with k-nearest neighbors."
   ]
  },
  {
   "cell_type": "markdown",
   "metadata": {},
   "source": [
    "## Fast Sorting in NumPy: `np.sort`"
   ]
  },
  {
   "cell_type": "markdown",
   "metadata": {},
   "source": [
    "For sorting NumPy arrays, the `np.sort` function is the recommended approach. It is optimized for NumPy arrays and typically uses a quicksort algorithm. You can also specify other algorithms like mergesort and heapsort.\n",
    "The `np.sort` function returns a sorted copy of the array, leaving the original array unchanged. To sort an array in-place, you can use the `sort` method of the array object itself."
   ]
  },
  {
   "cell_type": "code",
   "execution_count": 1,
   "metadata": {},
   "outputs": [
    {
     "name": "stdout",
     "output_type": "stream",
     "text": [
      "Original array: [2 1 4 3 5]\n",
      "Sorted array (copy): [1 2 3 4 5]\n",
      "Array sorted in-place: [1 2 3 4 5]\n"
     ]
    }
   ],
   "source": [
    "import numpy as np\n",
    "\n",
    "x = np.array([2, 1, 4, 3, 5])\n",
    "print(\"Original array:\", x)\n",
    "\n",
    "sorted_x = np.sort(x)\n",
    "print(\"Sorted array (copy):\", sorted_x)\n",
    "\n",
    "x.sort()\n",
    "print(\"Array sorted in-place:\", x)"
   ]
  },
  {
   "cell_type": "markdown",
   "metadata": {},
   "source": [
    "### Sorting Multi-dimensional Arrays"
   ]
  },
  {
   "cell_type": "markdown",
   "metadata": {},
   "source": [
    "`np.sort` can also be used to sort multi-dimensional arrays along a specified axis. You can sort each row or each column independently."
   ]
  },
  {
   "cell_type": "code",
   "execution_count": 2,
   "metadata": {},
   "outputs": [
    {
     "name": "stdout",
     "output_type": "stream",
     "text": [
      "Original array:\n",
      " [[3 2 1]\n",
      " [6 5 4]]\n",
      "Sorted along columns:\n",
      " [[3 2 1]\n",
      " [6 5 4]]\n",
      "Sorted along rows:\n",
      " [[1 2 3]\n",
      " [4 5 6]]\n"
     ]
    }
   ],
   "source": [
    "# Note: sorting is done **across** each axis\n",
    "# By default, if axis is unspecified, goes to last axis, which is across cols (in other words, rows are sorted)\n",
    "\n",
    "y = np.array([[3, 2, 1], [6, 5, 4]])\n",
    "print(\"Original array:\\n\", y)\n",
    "\n",
    "# Sort along columns (down each row)\n",
    "print(\"Sorted along columns:\\n\", np.sort(y, axis=0))\n",
    "\n",
    "# Sort along rows (across each col)\n",
    "print(\"Sorted along rows:\\n\", np.sort(y, axis=1))"
   ]
  },
  {
   "cell_type": "markdown",
   "metadata": {},
   "source": [
    "## Partial Sorts: Partitioning"
   ]
  },
  {
   "cell_type": "markdown",
   "metadata": {},
   "source": [
    "In some cases, you may not need to sort the entire array. Instead, you might only need to find the k-smallest items. NumPy's `np.partition` function is more efficient for this purpose. It partitions the array such that the k-th element is in its sorted position, and all smaller elements are to its left, while all larger elements are to its right."
   ]
  },
  {
   "cell_type": "code",
   "execution_count": 3,
   "metadata": {},
   "outputs": [
    {
     "name": "stdout",
     "output_type": "stream",
     "text": [
      "Original array: [7 2 3 1 6 5 4]\n",
      "Partitioned array (k=3): [2 1 3 4 6 5 7]\n"
     ]
    }
   ],
   "source": [
    "z = np.array([7, 2, 3, 1, 6, 5, 4])\n",
    "print(\"Original array:\", z)\n",
    "\n",
    "# Find the 3 smallest items\n",
    "print(\"Partitioned array (k=3):\", np.partition(z, 3))"
   ]
  },
  {
   "cell_type": "markdown",
   "metadata": {},
   "source": [
    "### Partitioning Multi-dimensional Arrays"
   ]
  },
  {
   "cell_type": "code",
   "execution_count": 4,
   "metadata": {},
   "outputs": [
    {
     "name": "stdout",
     "output_type": "stream",
     "text": [
      "Original array: [[3 2 1]\n",
      " [6 5 4]]\n",
      "Partitioned array (k=2, axis=1): [[1 2 3]\n",
      " [4 5 6]]\n"
     ]
    }
   ],
   "source": [
    "# With np.partition, we can find the k smallest items in each row/col\n",
    "y = np.array([[3, 2, 1], [6, 5, 4]])\n",
    "print(\"Original array:\\\n",
    "\", y)\n",
    "\n",
    "# Partition each row to get the 2 smallest elements\n",
    "print(\"Partitioned array (k=2, axis=1):\\\n",
    "\", np.partition(y, 2, axis=1))"
   ]
  },
  {
   "cell_type": "markdown",
   "metadata": {},
   "source": [
    " **`argsort` and `argpartition`**\n",
    "\n",
    "In many cases, you don't need the sorted values themselves, but rather the *indices* of the sorted values. NumPy provides `argsort` and `argpartition` for this purpose. These functions are particularly useful when you need to sort one array based on the values in another array."
   ]
  },
  {
   "cell_type": "markdown",
   "metadata": {},
   "source": [
    "`argsort`"
   ]
  },
  {
   "cell_type": "markdown",
   "metadata": {},
   "source": [
    "The `np.argsort` function returns the indices that would sort an array."
   ]
  },
  {
   "cell_type": "code",
   "execution_count": 5,
   "metadata": {},
   "outputs": [
    {
     "name": "stdout",
     "output_type": "stream",
     "text": [
      "Original array: [2 1 4 3 5]\n",
      "Indices of sorted array: [1 0 3 2 4]\n",
      "Sorted array: [1 2 3 4 5]\n"
     ]
    }
   ],
   "source": [
    "x = np.array([2, 1, 4, 3, 5])\n",
    "print(\"Original array:\", x)\n",
    "\n",
    "# Get the indices that would sort the array\n",
    "i = np.argsort(x)\n",
    "print(\"Indices of sorted array:\", i)\n",
    "\n",
    "# Use the indices to access the sorted elements\n",
    "print(\"Sorted array:\", x[i])"
   ]
  },
  {
   "cell_type": "markdown",
   "metadata": {},
   "source": [
    "`argpartition`"
   ]
  },
  {
   "cell_type": "markdown",
   "metadata": {},
   "source": [
    "Similarly, `np.argpartition` returns the indices that would partition an array. This is useful for finding the indices of the k-smallest values without sorting the entire array."
   ]
  },
  {
   "cell_type": "code",
   "execution_count": 6,
   "metadata": {},
   "outputs": [
    {
     "name": "stdout",
     "output_type": "stream",
     "text": [
      "Original array: [7 2 3 1 6 5 4]\n",
      "Indices of partitioned array (k=3): [1 3 2 6 4 5 0]\n",
      "The 3 smallest values are: [2 1 3]\n"
     ]
    }
   ],
   "source": [
    "z = np.array([7, 2, 3, 1, 6, 5, 4])\n",
    "print(\"Original array:\", z)\n",
    "\n",
    "# Get the indices of the 3 smallest items\n",
    "k = 3\n",
    "i = np.argpartition(z, k)\n",
    "print(\"Indices of partitioned array (k=3):\", i)\n",
    "\n",
    "# The first k indices give the k smallest values\n",
    "print(\"The {} smallest values are:\".format(k), z[i[:k]])"
   ]
  },
  {
   "cell_type": "markdown",
   "metadata": {},
   "source": [
    "## Example: k-Nearest Neighbors"
   ]
  },
  {
   "cell_type": "markdown",
   "metadata": {},
   "source": [
    "Sorting is a key component of the k-Nearest Neighbors (KNN) algorithm. KNN classifies a new data point based on the majority class of its nearest neighbors. To find these neighbors, we calculate the distance from the new point to all other points and then sort the distances."
   ]
  },
  {
   "cell_type": "code",
   "execution_count": null,
   "metadata": {},
   "outputs": [
    {
     "name": "stdout",
     "output_type": "stream",
     "text": [
      "[-3 -3]\n",
      "Distances: [np.float64(4.242640687119285), np.float64(2.8284271247461903), np.float64(4.123105625617661), np.float64(2.8284271247461903), np.float64(4.242640687119285), np.float64(4.123105625617661)]\n",
      "Indices of nearest neighbors: [1 3 2]\n",
      "Predicted class: A\n"
     ]
    }
   ],
   "source": [
    "from collections import Counter\n",
    "\n",
    "# Sample training data\n",
    "X_train = np.array([[1, 2], [2, 3], [3, 1], [6, 7], [7, 8], [8, 6]])\n",
    "y_train = ['A', 'A', 'A', 'B', 'B', 'B']\n",
    "\n",
    "# New point to classify\n",
    "new_point = [4, 5]\n",
    "\n",
    "# 1. Calculate distances\n",
    "distances = [np.linalg.norm(new_point - train_point) for train_point in X_train]\n",
    "print(\"Distances:\", distances)\n",
    "\n",
    "# 2. Sort by distance and get indices\n",
    "k = 3\n",
    "nearest_neighbor_indices = np.argsort(distances)[:k]\n",
    "print(\"Indices of nearest neighbors:\", nearest_neighbor_indices)\n",
    "\n",
    "# 3. Vote for the class\n",
    "nearest_neighbor_labels = [y_train[i] for i in nearest_neighbor_indices]\n",
    "predicted_class = Counter(nearest_neighbor_labels).most_common(1)[0][0]\n",
    "print(\"Predicted class:\", predicted_class)"
   ]
  }
 ],
 "metadata": {
  "kernelspec": {
   "display_name": "Python 3",
   "language": "python",
   "name": "python3"
  },
  "language_info": {
   "codemirror_mode": {
    "name": "ipython",
    "version": 3
   },
   "file_extension": ".py",
   "mimetype": "text/x-python",
   "name": "python",
   "nbconvert_exporter": "python",
   "pygments_lexer": "ipython3",
   "version": "3.13.5"
  }
 },
 "nbformat": 4,
 "nbformat_minor": 4
}
