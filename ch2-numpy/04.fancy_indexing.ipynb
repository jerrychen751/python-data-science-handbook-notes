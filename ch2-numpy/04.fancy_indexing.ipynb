{
 "cells": [
  {
   "cell_type": "markdown",
   "id": "11739349",
   "metadata": {},
   "source": [
    "# Fancy Indexing in NumPy\n",
    "\n",
    "Fancy indexing is a NumPy technique for accessing and modifying multiple array elements at once by passing arrays of indices. Unlike simple indexing (e.g., `arr[0]`), slicing (`arr[:5]`), or Boolean masks (`arr[arr > 0]`), fancy indexing allows for non-contiguous and arbitrary selection of elements.\n",
    "\n",
    "Notably, fancy indexing always returns a copy of the data, not a view. Changes to the new array will not affect the old array.\n",
    "\n",
    "However, when fancy indexing occurs on the left side of `=`, it instead means `setting`, such that the newly assigned values on the right side of `=` *will* take place and modify the original array in-place.\n",
    "\n",
    "NumPy distinguishes fancy indexing from accessing a specific element within a multi-dimensional array:\n",
    "- Accessing a single element - tuple of integers\n",
    "- Fancy indexing - array of integers\n",
    "    - In fact, the two can be combined. To select multiple elements, a tuple of lists can be provided in the manner of `arr[[row_list], [col_list]]` so that each accessed element is at (row_list[0], col_list[0]), (row_list[1], col_list[1])...\n",
    "\n",
    "## Exploring Fancy Indexing\n",
    "\n",
    "Fancy indexing involves passing an array (or list) of indices to select multiple elements. The shape of the result will reflect the shape of the index array, not the original array.\n"
   ]
  },
  {
   "cell_type": "code",
   "execution_count": 2,
   "id": "b8696f59",
   "metadata": {},
   "outputs": [
    {
     "name": "stdout",
     "output_type": "stream",
     "text": [
      "[51 92 14 71 60 20 82 86 74 74]\n",
      "[71 86 60]\n",
      "[[71 86]\n",
      " [60 20]]\n"
     ]
    }
   ],
   "source": [
    "import numpy as np\n",
    "\n",
    "rand = np.random.RandomState(42)\n",
    "x = rand.randint(100, size=10)\n",
    "print(x) # Output: [51 92 14 71 60 20 82 86 74 74]\n",
    "\n",
    "\n",
    "# Accessing specific elements using a list of indices\n",
    "ind = [3, 7, 4]\n",
    "print(x[ind]) # Output: array([71, 86, 60])\n",
    "\n",
    "# The shape of the result matches the shape of the index array\n",
    "ind = np.array([[3, 7],\n",
    "                [4, 5]])\n",
    "print(x[ind])\n",
    "# Output: [[71 86]\n",
    "#         [60 20]]\n"
   ]
  },
  {
   "cell_type": "markdown",
   "id": "7259600d",
   "metadata": {},
   "source": [
    "**Fancy Indexing in Multiple Dimensions:**\n",
    "When working with multi-dimensional arrays, fancy indexing applies broadcasting rules.\n"
   ]
  },
  {
   "cell_type": "code",
   "execution_count": 3,
   "id": "f28edd12",
   "metadata": {},
   "outputs": [
    {
     "name": "stdout",
     "output_type": "stream",
     "text": [
      "[[ 0  1  2  3]\n",
      " [ 4  5  6  7]\n",
      " [ 8  9 10 11]]\n",
      "[ 2  5 11]\n",
      "[[ 2  1  3]\n",
      " [ 6  5  7]\n",
      " [10  9 11]]\n"
     ]
    }
   ],
   "source": [
    "X = np.arange(12).reshape((3, 4))\n",
    "print(X)\n",
    "# Output: [[ 0  1  2  3]\n",
    "#          [ 4  5  6  7]\n",
    "#          [ 8  9 10 11]]\n",
    "\n",
    "row = np.array([0, 1, 2])\n",
    "col = np.array([2, 1, 3])\n",
    "\n",
    "# Selects X[0, 2], X[1, 1], X[2, 3]\n",
    "print(X[row, col])\n",
    "# Output: array([ 2,  5, 11])\n",
    "\n",
    "# Depending on where `np.newaxis` is placed, it adds a shape of `1` in that dimension\n",
    "# Normal broadcasting rules are then applied to ensure the same shape for row/col selectors\n",
    "# Elements in corresponding locations are matched (in row/col selector arrays) to pick elements from the original array `X`. \n",
    "# A copy of the array is returned in the same shape as the row/col selector arrays.\n",
    "print(X[row[:, np.newaxis], col])\n"
   ]
  },
  {
   "cell_type": "markdown",
   "id": "d697beaf",
   "metadata": {},
   "source": [
    "The return value always reflects the broadcasted shape of the indices, not the shape of the array being indexed.\n",
    "\n",
    "## Combined Indexing\n",
    "\n",
    "Fancy indexing can be combined with other indexing schemes for more complex selections:\n"
   ]
  },
  {
   "cell_type": "code",
   "execution_count": 4,
   "id": "1277c4f4",
   "metadata": {},
   "outputs": [
    {
     "name": "stdout",
     "output_type": "stream",
     "text": [
      "[[ 0  1  2  3]\n",
      " [ 4  5  6  7]\n",
      " [ 8  9 10 11]]\n",
      "[10  8  9]\n",
      "[[ 6  4  5]\n",
      " [10  8  9]]\n",
      "[[ 0  2]\n",
      " [ 4  6]\n",
      " [ 8 10]]\n"
     ]
    }
   ],
   "source": [
    "print(X)\n",
    "# Output: [[ 0  1  2  3]\n",
    "#          [ 4  5  6  7]\n",
    "#          [ 8  9 10 11]]\n",
    "\n",
    "# Combined with simple indexing (select row 2, then fancy index columns)\n",
    "print(X[2, [2, 0, 1]])\n",
    "# Output: array([10,  8,  9])\n",
    "\n",
    "# Combined with slicing (select rows from index 1 onwards, then fancy index columns)\n",
    "print(X[1:, [2, 0, 1]])\n",
    "# Output: [[ 6  4  5]\n",
    "#          [10  8  9]]\n",
    "\n",
    "# Combined with masking (select rows using fancy indexing, then columns using a boolean mask)\n",
    "mask = np.array([1, 0, 1, 0], dtype=bool)\n",
    "print(X[row[:, np.newaxis], mask])\n",
    "# Output: [[ 0  2]\n",
    "#          [ 4  6]\n",
    "#          [ 8 10]]\n"
   ]
  },
  {
   "cell_type": "markdown",
   "id": "c25c9b4b",
   "metadata": {},
   "source": [
    "## Example: Selecting Random Points\n",
    "\n",
    "Fancy indexing is useful for selecting subsets of rows from a matrix, often used in data sampling or splitting.\n"
   ]
  },
  {
   "cell_type": "code",
   "execution_count": 5,
   "id": "b3373596",
   "metadata": {},
   "outputs": [
    {
     "name": "stdout",
     "output_type": "stream",
     "text": [
      "(100, 2)\n",
      "[13 70 78 15 26  0 25 59 79 52 14 90  2 99 27 34  9  6 48 58]\n",
      "(20, 2)\n"
     ]
    }
   ],
   "source": [
    "# Example: Selecting 20 random points from a 100x2 dataset\n",
    "mean = [0, 0]\n",
    "cov = [[1, 2],\n",
    "       [2, 5]]\n",
    "X_data = rand.multivariate_normal(mean, cov, 100)\n",
    "print(X_data.shape) # (100, 2)\n",
    "\n",
    "# Choose 20 random indices without replacement\n",
    "indices = np.random.choice(X_data.shape[0], 20, replace=False)\n",
    "print(indices)\n",
    "\n",
    "# Use fancy indexing to select the corresponding rows\n",
    "selection = X_data[indices]\n",
    "print(selection.shape) # (20, 2)\n"
   ]
  },
  {
   "cell_type": "markdown",
   "id": "54d52829",
   "metadata": {},
   "source": [
    "## Modifying Values with Fancy Indexing\n",
    "\n",
    "Fancy indexing can also be used to modify parts of an array.\n"
   ]
  },
  {
   "cell_type": "code",
   "execution_count": 6,
   "id": "4f8e577e",
   "metadata": {},
   "outputs": [
    {
     "name": "stdout",
     "output_type": "stream",
     "text": [
      "[ 0 99 99  3 99  5  6  7 99  9]\n",
      "[ 0 89 89  3 89  5  6  7 89  9]\n"
     ]
    }
   ],
   "source": [
    "x = np.arange(10)\n",
    "i = np.array([2, 1, 8, 4])\n",
    "\n",
    "# Assign a value to elements at specified indices\n",
    "x[i] = 99\n",
    "print(x)\n",
    "# Output: [ 0 99 99  3 99  5  6  7 99  9]\n",
    "\n",
    "# Use assignment-type operators\n",
    "x[i] -= 10\n",
    "print(x)\n",
    "# Output: [ 0 89 89  3 89  5  6  7 89  9]\n"
   ]
  },
  {
   "cell_type": "markdown",
   "id": "d85f46f0",
   "metadata": {},
   "source": [
    "**Important Note on Repeated Indices:**\n",
    "When using repeated indices for assignment, only the last assignment for a given index will persist."
   ]
  },
  {
   "cell_type": "code",
   "execution_count": 7,
   "id": "7554bf30",
   "metadata": {},
   "outputs": [
    {
     "name": "stdout",
     "output_type": "stream",
     "text": [
      "[6. 0. 0. 0. 0. 0. 0. 0. 0. 0.]\n"
     ]
    }
   ],
   "source": [
    "x = np.zeros(10)\n",
    "x[[0, 0]] = [4, 6]\n",
    "print(x)\n",
    "# Output: [ 6.  0.  0.  0.  0.  0.  0.  0.  0.  0.]\n",
    "# x[0] = 4 is overwritten by x[0] = 6.\n"
   ]
  },
  {
   "cell_type": "markdown",
   "id": "fffdab90",
   "metadata": {},
   "source": [
    "For cumulative operations (e.g., adding to elements at repeated indices), use the `at()` method of ufuncs (available since NumPy 1.8). This performs an in-place application of the operator.\n",
    "\n",
    "This is due to a buffer when using the `+=` operator. After reading *unique* indices, NumPy modifies and writes back. When an index is repeated in fancy indexing, since the computation has already been done, it writes the same result back at that index instead of computing once more on top of that."
   ]
  },
  {
   "cell_type": "code",
   "execution_count": 8,
   "id": "eb0fc50b",
   "metadata": {},
   "outputs": [
    {
     "name": "stdout",
     "output_type": "stream",
     "text": [
      "[0. 0. 1. 1. 1. 0. 0. 0. 0. 0.]\n",
      "[0. 0. 1. 2. 3. 0. 0. 0. 0. 0.]\n"
     ]
    }
   ],
   "source": [
    "x = np.zeros(10)\n",
    "i = [2, 3, 3, 4, 4, 4]\n",
    "\n",
    "# Incorrect cumulative behavior with direct assignment\n",
    "x[i] += 1\n",
    "print(x)\n",
    "# Output: [ 0.  0.  1.  1.  1.  0.  0.  0.  0.  0.]\n",
    "# x[3] is 1, not 2; x[4] is 1, not 3. This is because x[i] = x[i] + 1 is evaluated, then assigned.\n",
    "\n",
    "# Correct cumulative behavior using np.add.at()\n",
    "x = np.zeros(10)\n",
    "np.add.at(x, i, 1)\n",
    "print(x)\n",
    "# Output: [ 0.  0.  1.  2.  3.  0.  0.  0.  0.  0.]\n",
    "# Now x[3] is 2 (added twice), x[4] is 3 (added thrice).\n"
   ]
  },
  {
   "cell_type": "markdown",
   "id": "8fd78b40",
   "metadata": {},
   "source": [
    "## Example: Binning Data\n",
    "\n",
    "`np.add.at()` can be used to efficiently bin data, similar to creating a histogram manually.\n"
   ]
  },
  {
   "cell_type": "code",
   "execution_count": 14,
   "id": "6b569c2b",
   "metadata": {},
   "outputs": [
    {
     "name": "stdout",
     "output_type": "stream",
     "text": [
      "[0. 0. 0. 0. 0. 0. 0. 0. 0. 0. 0. 0. 0. 0. 0. 0. 0. 0. 0. 0.]\n",
      "[ 0.  0.  0.  0.  0.  1.  3.  7.  9. 23. 22. 17. 10.  7.  1.  0.  0.  0.\n",
      "  0.  0.]\n"
     ]
    }
   ],
   "source": [
    "np.random.seed(42)\n",
    "x_data = np.random.randn(100)\n",
    "\n",
    "# Define bins\n",
    "bins = np.linspace(-5, 5, 20)\n",
    "counts = np.zeros_like(bins)\n",
    "print(counts)\n",
    "\n",
    "# Find the appropriate bin for each x value\n",
    "i = np.searchsorted(bins, x_data)\n",
    "\n",
    "# Add 1 to each corresponding bin count\n",
    "np.add.at(counts, i, 1) # `b` (what's being added) must be broadcastable to `indices` argument\n",
    "print(counts)\n",
    "\n",
    "# The 'counts' array now represents a histogram\n",
    "# (Plotting would show a step-like histogram)\n"
   ]
  },
  {
   "cell_type": "markdown",
   "id": "0b8d7c59",
   "metadata": {},
   "source": [
    "While NumPy provides optimized functions like `np.histogram` (used by `matplotlib.pyplot.hist`), understanding the underlying mechanisms with `np.add.at` allows for more flexible and custom data manipulation. For small datasets, a manual approach using `np.add.at` can sometimes be faster than `np.histogram`, but for very large datasets, `np.histogram` is generally more efficient due to its optimized C implementations. This highlights that algorithmic efficiency can vary based on data size.\n"
   ]
  }
 ],
 "metadata": {
  "kernelspec": {
   "display_name": "Python 3",
   "language": "python",
   "name": "python3"
  },
  "language_info": {
   "codemirror_mode": {
    "name": "ipython",
    "version": 3
   },
   "file_extension": ".py",
   "mimetype": "text/x-python",
   "name": "python",
   "nbconvert_exporter": "python",
   "pygments_lexer": "ipython3",
   "version": "3.13.5"
  }
 },
 "nbformat": 4,
 "nbformat_minor": 5
}
