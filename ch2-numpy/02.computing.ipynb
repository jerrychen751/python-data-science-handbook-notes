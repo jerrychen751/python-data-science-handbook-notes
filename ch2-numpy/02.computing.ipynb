{
 "cells": [
  {
   "cell_type": "code",
   "execution_count": 10,
   "id": "dc056281",
   "metadata": {},
   "outputs": [],
   "source": [
    "import numpy as np"
   ]
  },
  {
   "cell_type": "markdown",
   "id": "17d02c70",
   "metadata": {},
   "source": [
    "# Universal Functions in NumPy"
   ]
  },
  {
   "cell_type": "code",
   "execution_count": 11,
   "id": "3c115c10",
   "metadata": {},
   "outputs": [
    {
     "name": "stdout",
     "output_type": "stream",
     "text": [
      "[0 1 2 3]\n",
      "---------\n",
      "[5 6 7 8]\n",
      "---------\n",
      "[-1  0  1  2]\n",
      "---------\n",
      "[0 3 6 9]\n",
      "---------\n",
      "[0.  0.5 1.  1.5]\n",
      "---------\n",
      "[0 0 1 1]\n",
      "---------\n",
      "[0 1 4 9]\n",
      "---------\n",
      "[0 1 0 1]\n",
      "---------\n"
     ]
    }
   ],
   "source": [
    "# Arithmetic Operators in NumPy (Universal Functions)\n",
    "# Note how all operations are done element-wise\n",
    "# Operations are done across the axis in a manner that collapses the axis (removes it from resulting array)\n",
    "a = np.arange(4)\n",
    "print(a)\n",
    "print(\"---------\")\n",
    "\n",
    "# Addition\n",
    "print(a + 5)\n",
    "print(\"---------\")\n",
    "\n",
    "# Subtraction\n",
    "print(a - 1)\n",
    "print(\"---------\")\n",
    "\n",
    "# Multiplication\n",
    "print(a * 3)\n",
    "print(\"---------\")\n",
    "\n",
    "# Division\n",
    "print(a / 2)\n",
    "print(\"---------\")\n",
    "\n",
    "# Floor Division\n",
    "print(a // 2)\n",
    "print(\"---------\")\n",
    "\n",
    "# Exponentiation\n",
    "print(a ** 2)\n",
    "print(\"---------\")\n",
    "\n",
    "# Modulus\n",
    "print(a % 2)\n",
    "print(\"---------\")"
   ]
  },
  {
   "cell_type": "markdown",
   "id": "b1a3b4c5",
   "metadata": {},
   "source": [
    "# Absolute Value"
   ]
  },
  {
   "cell_type": "code",
   "execution_count": 12,
   "id": "d6e7f8g9",
   "metadata": {},
   "outputs": [
    {
     "name": "stdout",
     "output_type": "stream",
     "text": [
      "[2 1 0 1 2]\n"
     ]
    }
   ],
   "source": [
    "x = np.array([-2, -1, 0, 1, 2])\n",
    "print(np.abs(x))"
   ]
  },
  {
   "cell_type": "markdown",
   "id": "h2i3j4k5",
   "metadata": {},
   "source": [
    "# Trigonometric Functions"
   ]
  },
  {
   "cell_type": "code",
   "execution_count": 13,
   "id": "l6m7n8o9",
   "metadata": {},
   "outputs": [
    {
     "name": "stdout",
     "output_type": "stream",
     "text": [
      "theta      = [0.         1.57079633 3.14159265]\n",
      "sin(theta) = [0.0000000e+00 1.0000000e+00 1.2246468e-16]\n",
      "cos(theta) = [ 1.000000e+00  6.123234e-17 -1.000000e+00]\n",
      "tan(theta) = [ 0.00000000e+00  1.63312394e+16 -1.22464680e-16]\n"
     ]
    }
   ],
   "source": [
    "theta = np.linspace(0, np.pi, 3)\n",
    "print(f'theta      = {theta}')\n",
    "print(f'sin(theta) = {np.sin(theta)}')\n",
    "print(f'cos(theta) = {np.cos(theta)}')\n",
    "print(f'tan(theta) = {np.tan(theta)}')"
   ]
  },
  {
   "cell_type": "markdown",
   "id": "p0q1r2s3",
   "metadata": {},
   "source": [
    "# Exponential and Logarithmic Functions"
   ]
  },
  {
   "cell_type": "code",
   "execution_count": 14,
   "id": "t4u5v6w7",
   "metadata": {},
   "outputs": [
    {
     "name": "stdout",
     "output_type": "stream",
     "text": [
      "x      = [1, 2, 3]\n",
      "e^x    = [ 2.71828183  7.3890561  20.08553692]\n",
      "2^x    = [2. 4. 8.]\n",
      "3^x    = [ 3  9 27]\n",
      "x        = [1, 2, 4, 10]\n",
      "ln(x)    = [0.         0.69314718 1.38629436 2.30258509]\n",
      "log2(x)  = [0.         1.         2.         3.32192809]\n",
      "log10(x) = [0.         0.30103    0.60205999 1.        ]\n"
     ]
    }
   ],
   "source": [
    "x = [1, 2, 3]\n",
    "print(\"x      =\", x)\n",
    "print(\"e^x    =\", np.exp(x))\n",
    "print(\"2^x    =\", np.exp2(x))\n",
    "# Note: Operations are done element-wise\n",
    "print(\"3^x    =\", np.power(3, x)) # first argument is base; second is exponent; either can be array (but must be broadcastable)\n",
    "\n",
    "\n",
    "x = [1, 2, 4, 10]\n",
    "print(\"x        =\", x)\n",
    "print(\"ln(x)    =\", np.log(x))\n",
    "print(\"log2(x)  =\", np.log2(x))\n",
    "print(\"log10(x) =\", np.log10(x))"
   ]
  },
  {
   "cell_type": "markdown",
   "id": "89caf4be",
   "metadata": {},
   "source": [
    "# Aggregation Functions"
   ]
  },
  {
   "cell_type": "markdown",
   "id": "0d3314f4",
   "metadata": {},
   "source": [
    "NumPy provides a variety of aggregation functions that allow you to perform calculations on entire arrays or specific axes of an array. These functions are highly optimized and efficient for numerical computations.\n",
    "\n",
    "### Common Aggregation Functions\n",
    "\n",
    "- `np.sum()`: Computes the sum of all elements in an array.\n",
    "- `np.min()`: Finds the minimum value in an array.\n",
    "- `np.max()`: Finds the maximum value in an array.\n",
    "- `np.mean()`: Calculates the arithmetic mean of the elements.\n",
    "- `np.std()`: Computes the standard deviation.\n",
    "- `np.var()`: Calculates the variance.\n",
    "\n",
    "These functions can be applied to the entire array or along a specified axis. For a 2D array, `axis=0` refers to the columns, and `axis=1` refers to the rows."
   ]
  },
  {
   "cell_type": "code",
   "execution_count": 15,
   "id": "ab244906",
   "metadata": {},
   "outputs": [
    {
     "name": "stdout",
     "output_type": "stream",
     "text": [
      "Sum of all elements: 45\n",
      "Minimum value: 1\n",
      "Maximum value: 9\n",
      "Mean of all elements: 5.0\n",
      "Sum of each column: [12 15 18]\n",
      "Sum of each row: [ 6 15 24]\n"
     ]
    }
   ],
   "source": [
    "# Example of Aggregation Functions\n",
    "matrix = np.array([[1, 2, 3],\n",
    "                   [4, 5, 6],\n",
    "                   [7, 8, 9]])\n",
    "\n",
    "# Sum of all elements\n",
    "print(f'Sum of all elements: {np.sum(matrix)}')\n",
    "\n",
    "# Minimum value\n",
    "print(f'Minimum value: {np.min(matrix)}')\n",
    "\n",
    "# Maximum value\n",
    "print(f'Maximum value: {np.max(matrix)}')\n",
    "\n",
    "# Mean of all elements\n",
    "print(f'Mean of all elements: {np.mean(matrix)}')\n",
    "\n",
    "# Sum of each column (axis=0)\n",
    "print(f'Sum of each column: {np.sum(matrix, axis=0)}')\n",
    "\n",
    "# Sum of each row (axis=1)\n",
    "print(f'Sum of each row: {np.sum(matrix, axis=1)}')"
   ]
  },
  {
   "cell_type": "markdown",
   "id": "89caf4be",
   "metadata": {},
   "source": [
    "# Broadcasting Rules"
   ]
  },
  {
   "cell_type": "markdown",
   "id": "e689b108",
   "metadata": {},
   "source": [
    "Broadcasting is a powerful mechanism that allows NumPy to perform arithmetic operations on arrays of different shapes. In short, if a smaller array's shape can be expanded to match a larger array's shape, then the operation is performed element-wise. This avoids the need to create explicit copies of the smaller array to match the larger one, which can be very memory-efficient.\n",
    "\n",
    "### Broadcasting Rules\n",
    "\n",
    "1. **Rule 1:** If the two arrays differ in their number of dimensions, the shape of the one with fewer dimensions is padded with ones on its leading (left) side.\n",
    "2. **Rule 2:** If the shape of the two arrays does not match in any dimension, the array with shape equal to 1 in that dimension is stretched to match the other shape.\n",
    "3. **Rule 3:** If in any dimension the sizes disagree and neither is equal to 1, an error is raised."
   ]
  },
  {
   "cell_type": "code",
   "execution_count": 16,
   "id": "f7f3f2a9",
   "metadata": {},
   "outputs": [
    {
     "name": "stdout",
     "output_type": "stream",
     "text": [
      "Array a: [1 2 3]\n",
      "Scalar b: 2\n",
      "a * b: [2 4 6]\n",
      "Matrix M: [[1. 1. 1.]\n",
      " [1. 1. 1.]\n",
      " [1. 1. 1.]]\n",
      "a + M: [[2. 3. 4.]\n",
      " [2. 3. 4.]\n",
      " [2. 3. 4.]]\n"
     ]
    }
   ],
   "source": [
    "# Broadcasting Example 1: Array and a Scalar\n",
    "a = np.array([1, 2, 3])\n",
    "b = 2\n",
    "print(f'Array a: {a}')\n",
    "print(f'Scalar b: {b}')\n",
    "print(f'a * b: {a * b}')\n",
    "\n",
    "# Broadcasting Example 2: 1D and 2D arrays\n",
    "M = np.ones((3, 3))\n",
    "print(f'Matrix M: {M}')\n",
    "print(f'a + M: {a + M}')"
   ]
  }
 ],
 "metadata": {
  "kernelspec": {
   "display_name": "Python 3",
   "language": "python",
   "name": "python3"
  },
  "language_info": {
   "codemirror_mode": {
    "name": "ipython",
    "version": 3
   },
   "file_extension": ".py",
   "mimetype": "text/x-python",
   "name": "python",
   "nbconvert_exporter": "python",
   "pygments_lexer": "ipython3",
   "version": "3.13.5"
  }
 },
 "nbformat": 4,
 "nbformat_minor": 5
}
