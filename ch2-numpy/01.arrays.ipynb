{
 "cells": [
  {
   "cell_type": "code",
   "execution_count": 16,
   "id": "fa285feb",
   "metadata": {},
   "outputs": [],
   "source": [
    "import numpy as np"
   ]
  },
  {
   "cell_type": "markdown",
   "id": "b52e8d25",
   "metadata": {},
   "source": [
    "# Attributes of Arrays (Accessing Information About Arrays)"
   ]
  },
  {
   "cell_type": "code",
   "execution_count": 17,
   "id": "0c5b56e1",
   "metadata": {},
   "outputs": [
    {
     "name": "stdout",
     "output_type": "stream",
     "text": [
      "[5 0 3 3 7 9]\n",
      "\n",
      "[[3 5 2 4]\n",
      " [7 6 8 8]\n",
      " [1 6 7 7]]\n",
      "\n",
      "[[[8 1 5 9 8]\n",
      "  [9 4 3 0 3]\n",
      "  [5 0 2 3 8]\n",
      "  [1 3 3 3 7]]\n",
      "\n",
      " [[0 1 9 9 0]\n",
      "  [4 7 3 2 7]\n",
      "  [2 0 0 4 5]\n",
      "  [5 6 8 4 1]]\n",
      "\n",
      " [[4 9 8 1 1]\n",
      "  [7 9 9 3 6]\n",
      "  [7 2 0 3 5]\n",
      "  [9 4 4 6 4]]]\n",
      "\n",
      "[1 2 3 4]\n"
     ]
    }
   ],
   "source": [
    "np.random.seed(0)\n",
    "\n",
    "# Note: the length of the tuple determines the dimensions of the array; e.g., (1, 6) would be a 2D array of a single row of 6\n",
    "a = np.random.randint(low=0, high=10, size=6) # 1D array\n",
    "b = np.random.randint(low=0, high=10, size=(3, 4)) # 2D array\n",
    "c = np.random.randint(low=0, high=10, size=(3, 4, 5)) # 3D array\n",
    "\n",
    "d = np.array([1, 2, 3, 4]) # np.array is used to convert Python arrays to NumPy arrays\n",
    "\n",
    "print(a)\n",
    "print()\n",
    "print(b)\n",
    "print()\n",
    "print(c)\n",
    "print()\n",
    "print(d)"
   ]
  },
  {
   "cell_type": "code",
   "execution_count": 18,
   "id": "cdc4c371",
   "metadata": {},
   "outputs": [
    {
     "name": "stdout",
     "output_type": "stream",
     "text": [
      "3\n",
      "(3, 4, 5)\n",
      "60\n",
      "int64\n"
     ]
    }
   ],
   "source": [
    "# Information regarding array\n",
    "print(c.ndim)\n",
    "print(c.shape)\n",
    "print(c.size)\n",
    "print(c.dtype)"
   ]
  },
  {
   "cell_type": "code",
   "execution_count": 19,
   "id": "2b1747e5",
   "metadata": {},
   "outputs": [
    {
     "name": "stdout",
     "output_type": "stream",
     "text": [
      "8\n",
      "480\n"
     ]
    }
   ],
   "source": [
    "# Information regarding items\n",
    "print(c.itemsize)\n",
    "print(c.nbytes) # itemsize * size"
   ]
  },
  {
   "cell_type": "markdown",
   "id": "f4c0b505",
   "metadata": {},
   "source": [
    "# Accessing Array Values"
   ]
  },
  {
   "cell_type": "code",
   "execution_count": 20,
   "id": "570b03d0",
   "metadata": {},
   "outputs": [
    {
     "name": "stdout",
     "output_type": "stream",
     "text": [
      "7\n"
     ]
    }
   ],
   "source": [
    "# Array Indexing\n",
    "print(c[1, 1, 1]) # multiple indexing can be separated with commas"
   ]
  },
  {
   "cell_type": "code",
   "execution_count": 21,
   "id": "34ff0f2f",
   "metadata": {},
   "outputs": [
    {
     "name": "stdout",
     "output_type": "stream",
     "text": [
      "[4 7 3 2 7]\n",
      "\n",
      "[[[8 1 5 9 8]\n",
      "  [9 4 3 0 3]\n",
      "  [5 0 2 3 8]\n",
      "  [1 3 3 3 7]]\n",
      "\n",
      " [[0 1 9 9 0]\n",
      "  [1 1 1 1 1]\n",
      "  [2 0 0 4 5]\n",
      "  [5 6 8 4 1]]\n",
      "\n",
      " [[4 9 8 1 1]\n",
      "  [7 9 9 3 6]\n",
      "  [7 2 0 3 5]\n",
      "  [9 4 4 6 4]]]\n"
     ]
    }
   ],
   "source": [
    "# Modifying Elements in Array\n",
    "print(c[1, 1])\n",
    "print()\n",
    "\n",
    "c[1,1] = 1 # When modifying elements and provided value is not suitable, NumPy broadcasts value to the entire \"slice\"\n",
    "print(c)\n",
    "\n",
    "# If assigning an incomptatible type (e.g., expected a 1D array, but given 2D array, error will occur)"
   ]
  },
  {
   "cell_type": "code",
   "execution_count": 22,
   "id": "2e5e4549",
   "metadata": {},
   "outputs": [
    {
     "name": "stdout",
     "output_type": "stream",
     "text": [
      "[8 1 5 9 8]\n",
      "[0 1 2 5]\n",
      "[[8 1 5 9 8]\n",
      " [0 1 9 9 0]\n",
      " [4 9 8 1 1]]\n"
     ]
    }
   ],
   "source": [
    "# Accessing Rows and Columns\n",
    "print(c[0, 0, :]) # Access all columns of first row of first block\n",
    "print(c[1, :, 0]) # Access first column of second block\n",
    "\n",
    "print(c[:, 0, :]) # 2D array of the first row of each block"
   ]
  },
  {
   "cell_type": "markdown",
   "id": "2b65bf76",
   "metadata": {},
   "source": [
    "### Note: Slices of numpy arrays return views, not copies"
   ]
  },
  {
   "cell_type": "code",
   "execution_count": 23,
   "id": "6355c3f0",
   "metadata": {},
   "outputs": [
    {
     "name": "stdout",
     "output_type": "stream",
     "text": [
      "[[3 5 2 4]\n",
      " [7 6 8 8]\n",
      " [1 6 7 7]]\n",
      "\n",
      "[3 5 2 4]\n",
      "[0 5 2 4]\n",
      "\n",
      "[7 6 8 8]\n",
      "[0 6 8 8]\n",
      "[7 6 8 8]\n"
     ]
    }
   ],
   "source": [
    "# To work with copies, use the .copy() method\n",
    "print(b)\n",
    "print()\n",
    "\n",
    "# Example of modifying view\n",
    "row1 = b[0]\n",
    "print(row1)\n",
    "row1[0] = 0\n",
    "print(row1)\n",
    "print()\n",
    "\n",
    "# Example of modifying copy\n",
    "row2 = b[1]\n",
    "print(row2)\n",
    "example = b[1].copy()\n",
    "example[0] = 0\n",
    "print(example)\n",
    "print(row2) # unchanged"
   ]
  },
  {
   "cell_type": "markdown",
   "id": "e9b417a3",
   "metadata": {},
   "source": [
    "# Transforming Arrays: Reshaping, Concatenation, and Splitting"
   ]
  },
  {
   "cell_type": "code",
   "execution_count": 24,
   "id": "dbcd1e65",
   "metadata": {},
   "outputs": [
    {
     "name": "stdout",
     "output_type": "stream",
     "text": [
      "[0 0 0 0 0 0 0 0 0]\n",
      "[[0 0 0]\n",
      " [0 0 0]\n",
      " [0 0 0]]\n",
      "\n",
      "[[1. 1. 1.]\n",
      " [1. 1. 1.]]\n",
      "[[1. 1. 1. 1. 1. 1.]]\n"
     ]
    }
   ],
   "source": [
    "# Reshaping Arrays (must be same size, returns NEW array)\n",
    "# Example: Reshaping to a higher dimension\n",
    "a = np.zeros(shape=9, dtype=int)\n",
    "print(a)\n",
    "print(a.reshape((3, 3)))\n",
    "print()\n",
    "\n",
    "# Example: Reshaping to a lower dimension\n",
    "b = np.ones(shape=(2, 3), dtype=float)\n",
    "print(b)\n",
    "print(b.reshape(1, 6))"
   ]
  },
  {
   "cell_type": "code",
   "execution_count": 25,
   "id": "ef2e1475",
   "metadata": {},
   "outputs": [
    {
     "name": "stdout",
     "output_type": "stream",
     "text": [
      "[1 2 3 4 5 6]\n",
      "[[1 2 3]\n",
      " [4 5 6]\n",
      " [1 2 3]\n",
      " [4 5 6]]\n",
      "[[1 2 3 1 2 3]\n",
      " [4 5 6 4 5 6]]\n"
     ]
    }
   ],
   "source": [
    "# Concatenating Arrays (returns NEW array)\n",
    "# Example: Same 1-D dimension concatenation\n",
    "a = np.array([1, 2, 3])\n",
    "b = np.array([4, 5, 6])\n",
    "print(np.concatenate([a, b])) # accepts list of arrays\n",
    "\n",
    "# Example: Multi-Dimension Arrays\n",
    "c = np.array([\n",
    "    [1, 2, 3,],\n",
    "    [4, 5, 6]\n",
    "])\n",
    "print(np.concatenate([c, c])) # by default, concatenation is along the first axis (zero-indexed); for 2D arrays, this means rows\n",
    "\n",
    "print(np.concatenate([c, c], axis=1)) # the next \"smaller\" axis can be specified"
   ]
  },
  {
   "cell_type": "markdown",
   "id": "new_squeeze_markdown_cell",
   "metadata": {},
   "source": [
    "### Squeezing Arrays (np.squeeze)"
   ]
  },
  {
   "cell_type": "code",
   "execution_count": 26,
   "id": "new_squeeze_code_cell",
   "metadata": {},
   "outputs": [
    {
     "name": "stdout",
     "output_type": "stream",
     "text": [
      "Original array a:\n",
      "[[[0]\n",
      "  [1]\n",
      "  [2]]]\n",
      "Shape of a: (1, 3, 1)\n",
      "Squeezed array b:\n",
      "[0 1 2]\n",
      "Shape of b: (3,)\n",
      "Original array c:\n",
      "[[[0 1]\n",
      "  [2 3]]]\n",
      "Shape of c: (1, 2, 2)\n",
      "Squeezed array d (axis 0):\n",
      "[[0 1]\n",
      " [2 3]]\n",
      "Shape of d: (2, 2)\n",
      "\n",
      "Error squeezing axis 2 of c: cannot select an axis to squeeze out which has size not equal to one\n",
      "Original array f:\n",
      "[[[[[0.]\n",
      "    [0.]\n",
      "    [0.]]]\n",
      "\n",
      "\n",
      "  [[[0.]\n",
      "    [0.]\n",
      "    [0.]]]]]\n",
      "Shape of f: (1, 2, 1, 3, 1)\n",
      "Squeezed array g:\n",
      "[[0. 0. 0.]\n",
      " [0. 0. 0.]]\n",
      "Shape of g: (2, 3)\n"
     ]
    }
   ],
   "source": [
    "# np.squeeze removes single-dimensional entries from the shape of an array.\n",
    "a = np.array([[[0], [1], [2]]])\n",
    "print(\"Original array a:\")\n",
    "print(a)\n",
    "print(\"Shape of a:\", a.shape)\n",
    "\n",
    "b = np.squeeze(a)\n",
    "print(\"Squeezed array b:\")\n",
    "print(b)\n",
    "print(\"Shape of b:\", b.shape)\n",
    "\n",
    "# You can also specify which axes to squeeze\n",
    "c = np.array([[[0, 1], [2, 3]]])\n",
    "print(\"Original array c:\")\n",
    "print(c)\n",
    "print(\"Shape of c:\", c.shape)\n",
    "\n",
    "# Squeeze only the first axis (axis 0)\n",
    "d = np.squeeze(c, axis=0)\n",
    "print(\"Squeezed array d (axis 0):\")\n",
    "print(d)\n",
    "print(\"Shape of d:\", d.shape)\n",
    "\n",
    "# Squeeze only the last axis (axis 2)\n",
    "# This will raise an error if axis 2 is not a single dimension\n",
    "try:\n",
    "    e = np.squeeze(c, axis=2)\n",
    "except ValueError as e_val:\n",
    "    print(f\"\\nError squeezing axis 2 of c: {e_val}\")\n",
    "\n",
    "# Example where squeezing multiple axes is possible\n",
    "f = np.zeros((1, 2, 1, 3, 1))\n",
    "print(\"Original array f:\")\n",
    "print(f)\n",
    "print(\"Shape of f:\", f.shape)\n",
    "\n",
    "g = np.squeeze(f)\n",
    "print(\"Squeezed array g:\")\n",
    "print(g)\n",
    "print(\"Shape of g:\", g.shape)"
   ]
  },
  {
   "cell_type": "code",
   "execution_count": 27,
   "id": "5c34c3fb",
   "metadata": {},
   "outputs": [
    {
     "name": "stdout",
     "output_type": "stream",
     "text": [
      "Original Array:\n",
      "[[[47  3 76]\n",
      "  [52 78 15]\n",
      "  [20 99 58]]\n",
      "\n",
      " [[23 79 13]\n",
      "  [85 48 49]\n",
      "  [69 41 35]]\n",
      "\n",
      " [[64 95 69]\n",
      "  [94  0 50]\n",
      "  [36 34 48]]]\n",
      "-------------------\n",
      "\n",
      "[[[47  3 76]\n",
      "  [52 78 15]\n",
      "  [20 99 58]]\n",
      "\n",
      " [[23 79 13]\n",
      "  [85 48 49]\n",
      "  [69 41 35]]\n",
      "\n",
      " [[64 95 69]\n",
      "  [94  0 50]\n",
      "  [36 34 48]]\n",
      "\n",
      " [[47  3 76]\n",
      "  [52 78 15]\n",
      "  [20 99 58]]\n",
      "\n",
      " [[23 79 13]\n",
      "  [85 48 49]\n",
      "  [69 41 35]]\n",
      "\n",
      " [[64 95 69]\n",
      "  [94  0 50]\n",
      "  [36 34 48]]]\n",
      "-------------------\n",
      "\n",
      "[[[47  3 76]\n",
      "  [52 78 15]\n",
      "  [20 99 58]\n",
      "  [47  3 76]\n",
      "  [52 78 15]\n",
      "  [20 99 58]]\n",
      "\n",
      " [[23 79 13]\n",
      "  [85 48 49]\n",
      "  [69 41 35]\n",
      "  [23 79 13]\n",
      "  [85 48 49]\n",
      "  [69 41 35]]\n",
      "\n",
      " [[64 95 69]\n",
      "  [94  0 50]\n",
      "  [36 34 48]\n",
      "  [64 95 69]\n",
      "  [94  0 50]\n",
      "  [36 34 48]]]\n",
      "-------------------\n",
      "\n",
      "[[[47  3 76 47  3 76]\n",
      "  [52 78 15 52 78 15]\n",
      "  [20 99 58 20 99 58]]\n",
      "\n",
      " [[23 79 13 23 79 13]\n",
      "  [85 48 49 85 48 49]\n",
      "  [69 41 35 69 41 35]]\n",
      "\n",
      " [[64 95 69 64 95 69]\n",
      "  [94  0 50 94  0 50]\n",
      "  [36 34 48 36 34 48]]]\n"
     ]
    }
   ],
   "source": [
    "# Shortcuts for Concatenate: vstack(), hstack(), and dstack()\n",
    "d = np.random.randint(0, 100, size=(3, 3, 3))\n",
    "print(\"Original Array:\")\n",
    "print(d)\n",
    "print(\"-------------------\\n\")\n",
    "\n",
    "# vstack() always concatenates along 1st axis (equivalent to concatencate([...], axis=0)\n",
    "print(np.vstack([d, d])) # increases depth (number of plane slices) for 3D array\n",
    "print(\"-------------------\\n\")\n",
    "\n",
    "# hstack() always concatenates along 2nd axis\n",
    "print(np.hstack([d, d])) # increases height (number of rows) for 3D array\n",
    "print(\"-------------------\\n\")\n",
    "\n",
    "# dstack() always concatenates along 3rd axis\n",
    "print(np.dstack([d, d])) # increases width (number of cols) for a 3D array"
   ]
  },
  {
   "cell_type": "code",
   "execution_count": 28,
   "id": "fbc87777",
   "metadata": {},
   "outputs": [
    {
     "name": "stdout",
     "output_type": "stream",
     "text": [
      "Original Array:\n",
      "[[[93  3 98]\n",
      "  [42 77 21]\n",
      "  [73  0 10]]\n",
      "\n",
      " [[43 58 23]\n",
      "  [59  2 98]\n",
      "  [62 35 94]]\n",
      "\n",
      " [[67 82 46]\n",
      "  [99 20 81]\n",
      "  [50 27 14]]]\n",
      "-------------------\n",
      "\n",
      "[array([[[93,  3, 98],\n",
      "        [42, 77, 21],\n",
      "        [73,  0, 10]]]), array([[[43, 58, 23],\n",
      "        [59,  2, 98],\n",
      "        [62, 35, 94]]]), array([[[67, 82, 46],\n",
      "        [99, 20, 81],\n",
      "        [50, 27, 14]]])]\n",
      "-------------------\n",
      "\n",
      "[array([[[93,  3, 98],\n",
      "        [42, 77, 21],\n",
      "        [73,  0, 10]]]), array([[[43, 58, 23],\n",
      "        [59,  2, 98],\n",
      "        [62, 35, 94]]]), array([[[67, 82, 46],\n",
      "        [99, 20, 81],\n",
      "        [50, 27, 14]]])]\n"
     ]
    }
   ],
   "source": [
    "# Splitting Arrays (KEEPS DIMENSIONALITY; e.g., 3x3x3 split into 3 planes would become 3 of 1x3x3)\n",
    "d = np.random.randint(0, 100, size=(3, 3, 3))\n",
    "print(\"Original Array:\")\n",
    "print(d)\n",
    "print(\"-------------------\\n\")\n",
    "\n",
    "# Example: Splitting by section number (If not divisible by provided section number, an error will occur)\n",
    "print(np.split(d, 3, axis=0)) # note: the \"array\" text printed is only due to __repr__; functions just like a list of subarrays\n",
    "print(\"-------------------\\n\")\n",
    "\n",
    "# Example: Splitting by index list\n",
    "print(np.split(d, [1, 2], axis=0)) # same effect, noting that these dividers work exclusively ([:1], [1:2], [2:])\n"
   ]
  },
  {
   "cell_type": "code",
   "execution_count": 29,
   "id": "f3ee7b36",
   "metadata": {},
   "outputs": [
    {
     "name": "stdout",
     "output_type": "stream",
     "text": [
      "[array([[[93,  3, 98],\n",
      "        [42, 77, 21],\n",
      "        [73,  0, 10]]]), array([[[43, 58, 23],\n",
      "        [59,  2, 98],\n",
      "        [62, 35, 94]]]), array([[[67, 82, 46],\n",
      "        [99, 20, 81],\n",
      "        [50, 27, 14]]])]\n",
      "[array([[[93,  3, 98]],\n",
      "\n",
      "       [[43, 58, 23]],\n",
      "\n",
      "       [[67, 82, 46]]]), array([[[42, 77, 21]],\n",
      "\n",
      "       [[59,  2, 98]],\n",
      "\n",
      "       [[99, 20, 81]]]), array([[[73,  0, 10]],\n",
      "\n",
      "       [[62, 35, 94]],\n",
      "\n",
      "       [[50, 27, 14]]])]\n",
      "[array([[[93],\n",
      "        [42],\n",
      "        [73]],\n",
      "\n",
      "       [[43],\n",
      "        [59],\n",
      "        [62]],\n",
      "\n",
      "       [[67],\n",
      "        [99],\n",
      "        [50]]]), array([[[ 3],\n",
      "        [77],\n",
      "        [ 0]],\n",
      "\n",
      "       [[58],\n",
      "        [ 2],\n",
      "        [35]],\n",
      "\n",
      "       [[82],\n",
      "        [20],\n",
      "        [27]]]), array([[[98],\n",
      "        [21],\n",
      "        [10]],\n",
      "\n",
      "       [[23],\n",
      "        [98],\n",
      "        [94]],\n",
      "\n",
      "       [[46],\n",
      "        [81],\n",
      "        [14]]])]\n"
     ]
    }
   ],
   "source": [
    "# Shortcuts for Splitting Arrays Along 1st/2nd/3rd Axes: vsplit(), hsplit(), dsplit()\n",
    "print(np.vsplit(d, 3)) # along axis=0 --> into individual planes --> 3 of (1, 3, 3) / depth=1, height=3, width=3\n",
    "\n",
    "print(np.hsplit(d, 3)) # along axis=1 --> into horizontal sliced planes (split by rows) --> 3 of (3, 1, 3) / depth=3, height=1, width=3\n",
    "\n",
    "print(np.dsplit(d, 3)) # along axis=2 --> into vertically sliced planes (split by cols) --> 3 of (3, 3, 1) / depth=3, height=3, width=1"
   ]
  },
  {
   "cell_type": "markdown",
   "id": "new_argmax_argmin_markdown_cell",
   "metadata": {},
   "source": [
    "### Finding Max/Min Values and Their Indices (np.argmax, np.argmin)"
   ]
  },
  {
   "cell_type": "code",
   "execution_count": 30,
   "id": "new_argmax_argmin_code_cell",
   "metadata": {},
   "outputs": [
    {
     "name": "stdout",
     "output_type": "stream",
     "text": [
      "Original Array:\n",
      "[[10 20 30]\n",
      " [40 50 60]\n",
      " [70 80 90]]\n",
      "Index of maximum value in flattened array (np.argmax(arr)): 8\n",
      "Index of maximum values along axis 0 (np.argmax(arr, axis=0)): [2 2 2]\n",
      "Index of maximum values along axis 1 (np.argmax(arr, axis=1)): [2 2 2]\n",
      "Index of minimum value in flattened array (np.argmin(arr)): 0\n",
      "Index of minimum values along axis 0 (np.argmin(arr, axis=0)): [0 0 0]\n",
      "Index of minimum values along axis 1 (np.argmin(arr, axis=1)): [0 0 0]\n",
      "Maximum value in array (np.max(arr)): 90\n",
      "Minimum value in array (np.min(arr)): 10\n",
      "Maximum values along axis 0 (np.max(arr, axis=0)): [70 80 90]\n",
      "Minimum values along axis 0 (np.min(arr, axis=0)): [10 20 30]\n"
     ]
    }
   ],
   "source": [
    "# Create a sample array\n",
    "arr = np.array([[10, 20, 30], [40, 50, 60], [70, 80, 90]])\n",
    "print(\"Original Array:\")\n",
    "print(arr)\n",
    "\n",
    "# np.argmax: Returns the indices of the maximum values along an axis.\n",
    "# If axis is not specified, the array is flattened.\n",
    "print(\"Index of maximum value in flattened array (np.argmax(arr)):\", np.argmax(arr))\n",
    "\n",
    "# np.argmax along axis 0 (columns)\n",
    "print(\"Index of maximum values along axis 0 (np.argmax(arr, axis=0)):\", np.argmax(arr, axis=0))\n",
    "\n",
    "# np.argmax along axis 1 (rows)\n",
    "print(\"Index of maximum values along axis 1 (np.argmax(arr, axis=1)):\", np.argmax(arr, axis=1))\n",
    "\n",
    "# np.argmin: Returns the indices of the minimum values along an axis.\n",
    "# If axis is not specified, the array is flattened.\n",
    "print(\"Index of minimum value in flattened array (np.argmin(arr)):\", np.argmin(arr))\n",
    "\n",
    "# np.argmin along axis 0 (columns)\n",
    "print(\"Index of minimum values along axis 0 (np.argmin(arr, axis=0)):\", np.argmin(arr, axis=0))\n",
    "\n",
    "# np.argmin along axis 1 (rows)\n",
    "print(\"Index of minimum values along axis 1 (np.argmin(arr, axis=1)):\", np.argmin(arr, axis=1))\n",
    "\n",
    "# Getting the actual max/min values\n",
    "print(\"Maximum value in array (np.max(arr)):\", np.max(arr))\n",
    "print(\"Minimum value in array (np.min(arr)):\", np.min(arr))\n",
    "\n",
    "print(\"Maximum values along axis 0 (np.max(arr, axis=0)):\", np.max(arr, axis=0))\n",
    "print(\"Minimum values along axis 0 (np.min(arr, axis=0)):\", np.min(arr, axis=0))"
   ]
  }
 ],
 "metadata": {
  "kernelspec": {
   "display_name": "Python 3",
   "language": "python",
   "name": "python3"
  },
  "language_info": {
   "codemirror_mode": {
    "name": "ipython",
    "version": 3
   },
   "file_extension": ".py",
   "mimetype": "text/x-python",
   "name": "python",
   "nbconvert_exporter": "python",
   "pygments_lexer": "ipython3",
   "version": "3.13.5"
  }
 },
 "nbformat": 4,
 "nbformat_minor": 5
}
