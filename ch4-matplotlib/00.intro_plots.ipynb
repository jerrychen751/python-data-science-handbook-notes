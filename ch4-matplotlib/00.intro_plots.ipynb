{
 "cells": [
  {
   "cell_type": "code",
   "execution_count": null,
   "id": "267cc359",
   "metadata": {},
   "outputs": [],
   "source": [
    "import matplotlib.pyplot as plt\n",
    "import numpy as np"
   ]
  },
  {
   "cell_type": "markdown",
   "id": "f31f2a47",
   "metadata": {},
   "source": [
    "Matplotlib has two interfaces:\n",
    "1.  **State-based (MATLAB-style):** You call functions directly from `plt` (e.g., `plt.plot()`, `plt.title()`). It's quick for simple plots.\n",
    "2.  **Object-oriented:** You create figure and axes objects (`fig`, `ax`) and call methods on them (e.g., `ax.plot()`, `ax.set_title()`). This is more powerful and flexible, and is recommended for complex plots."
   ]
  },
  {
   "cell_type": "markdown",
   "id": "dad64659",
   "metadata": {},
   "source": [
    "With the state-based interface, `matplotlib` tracks the \"current\" axes if multiple `plt.plot()` statements have been called. Anything else called on `plt` (e.g., `plt.set_xlabel()`) would be done on the current plot, which makes it difficult to work with multiple subplots."
   ]
  },
  {
   "cell_type": "code",
   "execution_count": null,
   "id": "75953f55",
   "metadata": {},
   "outputs": [],
   "source": [
    "# Object-oriented approach (recommended)\n",
    "fig, ax = plt.subplots()\n",
    "ax.plot([1, 2, 3], [2, 4, 1]) # takes array-like objects as coords to graph\n",
    "ax.set_title('Object-Oriented Style')\n",
    "plt.show()\n",
    "plt.plot()"
   ]
  },
  {
   "cell_type": "markdown",
   "id": "99af685d",
   "metadata": {},
   "source": [
    "You can save your figure to a file using `fig.savefig()`. Matplotlib can save in many formats, like PNG, JPG, and PDF."
   ]
  },
  {
   "cell_type": "code",
   "execution_count": null,
   "id": "f3543c36",
   "metadata": {},
   "outputs": [],
   "source": [
    "# Create a simple plot to save\n",
    "fig, ax = plt.subplots()\n",
    "ax.plot([1, 2, 3], [2, 4, 1])\n",
    "fig.savefig('my_figure.png')"
   ]
  },
  {
   "cell_type": "markdown",
   "id": "0c138869",
   "metadata": {},
   "source": [
    "## Simple Line Plots\n",
    "The most basic plot is a line plot. You can create one by passing x and y values to `ax.plot()`."
   ]
  },
  {
   "cell_type": "code",
   "execution_count": null,
   "id": "24d905ee",
   "metadata": {},
   "outputs": [],
   "source": [
    "# Prepare some data\n",
    "x = np.linspace(0, 10, 100)\n",
    "y = np.sin(x)\n",
    "\n",
    "# Create the plot\n",
    "fig, ax = plt.subplots()\n",
    "ax.plot(x, y)\n",
    "plt.show()"
   ]
  },
  {
   "cell_type": "markdown",
   "id": "3ed5f4d1",
   "metadata": {},
   "source": [
    "## Adjusting the Plot: Line Colors and Styles\n",
    "You can customize the look of the line with the `color` and `linestyle` arguments."
   ]
  },
  {
   "cell_type": "code",
   "execution_count": null,
   "id": "eade9b8d",
   "metadata": {},
   "outputs": [],
   "source": [
    "fig, ax = plt.subplots()\n",
    "ax.plot(x, np.sin(x), color='blue', linestyle='solid')\n",
    "ax.plot(x, np.cos(x), color='r', linestyle='--')\n",
    "plt.show()"
   ]
  },
  {
   "cell_type": "markdown",
   "id": "eaa6bc8c",
   "metadata": {},
   "source": [
    "## Adjusting the Plot: Axes Limits\n",
    "You can control the x and y axis limits with `ax.set_xlim()` and `ax.set_ylim()`."
   ]
  },
  {
   "cell_type": "code",
   "execution_count": null,
   "id": "96b62d61",
   "metadata": {},
   "outputs": [],
   "source": [
    "fig, ax = plt.subplots()\n",
    "ax.plot(x, np.sin(x))\n",
    "ax.set_xlim(-1, 11)\n",
    "ax.set_ylim(-1.5, 1.5)\n",
    "plt.show()"
   ]
  },
  {
   "cell_type": "markdown",
   "id": "10d0e77e",
   "metadata": {},
   "source": [
    "## Labeling Plots\n",
    "Adding labels is critical for making your plots understandable. You can use `ax.set_title()`, `ax.set_xlabel()`, and `ax.set_ylabel()`. For legends, you add a `label` to each plot and then call `ax.legend()`."
   ]
  },
  {
   "cell_type": "code",
   "execution_count": null,
   "id": "7156b467",
   "metadata": {},
   "outputs": [],
   "source": [
    "fig, ax = plt.subplots()\n",
    "ax.plot(x, np.sin(x), label='sin(x)')\n",
    "ax.plot(x, np.cos(x), label='cos(x)')\n",
    "\n",
    "# Set labels and title\n",
    "ax.set_title(\"Sine and Cosine Curves\")\n",
    "ax.set_xlabel(\"x\")\n",
    "ax.set_ylabel(\"y\")\n",
    "\n",
    "# Add a legend\n",
    "ax.legend()\n",
    "\n",
    "plt.show()"
   ]
  },
  {
   "cell_type": "code",
   "execution_count": null,
   "id": "3d4d5712",
   "metadata": {},
   "outputs": [],
   "source": [
    "# It's also possible to set all of these with the shorthand `ax.set()` method, which is more convenient.\n",
    "\n",
    "new_fig, new_ax = plt.subplots()\n",
    "new_ax.plot(x, np.sin(x), label='Sine')\n",
    "new_ax.plot(x, np.cos(x), label='Cosine')\n",
    "new_ax.set(\n",
    "    xlim=(0, 10),\n",
    "    ylim=(-2, 2),\n",
    "    xlabel='x',\n",
    "    ylabel='y',\n",
    "    title='Sine and Cosine Curves Ver. 2'\n",
    ")\n",
    "\n",
    "new_ax.legend()\n",
    "plt.show()"
   ]
  },
  {
   "cell_type": "markdown",
   "id": "01b435a7",
   "metadata": {},
   "source": [
    "**An Additional Note on Matplotlib Display Behavior**:\n",
    "- In a Jupyter notebook, the backend uses an inline display format and renders plots as static images. `plt.show()` is called automatically at the end of cells in notebooks.\n",
    "- In a regular Python script, the backend opens as many popup windows as the number of figure objects that have been created and still \"open\" in Matplotlib's memory.\n",
    "\n",
    "After running, `plt.show()` goes through the list of all figure objects you've created and renders each one, clearing the internal list afterward."
   ]
  },
  {
   "cell_type": "code",
   "execution_count": null,
   "id": "e6f0bdc5",
   "metadata": {},
   "outputs": [],
   "source": [
    "import matplotlib.pyplot as plt\n",
    "import numpy as np\n",
    "\n",
    "x = np.linspace(0, 10, 100)\n",
    "\n",
    "# Figure 1\n",
    "fig1, ax1 = plt.subplots()\n",
    "ax1.plot(x, np.sin(x))\n",
    "ax1.set_title('Figure 1: Sine Wave')\n",
    "\n",
    "# Figure 2\n",
    "fig2, ax2 = plt.subplots()\n",
    "ax2.plot(x, np.cos(x), color='red')\n",
    "ax2.set_title('Figure 2: Cosine Wave')\n",
    "\n",
    "plt.show()\n",
    "\n",
    "# In a Python script, this would open two separate interactive windows, in order of most recent to least recent."
   ]
  }
 ],
 "metadata": {
  "jupytext": {
   "cell_metadata_filter": "-all",
   "main_language": "python",
   "notebook_metadata_filter": "-all"
  },
  "kernelspec": {
   "display_name": "Python 3",
   "language": "python",
   "name": "python3"
  },
  "language_info": {
   "codemirror_mode": {
    "name": "ipython",
    "version": 3
   },
   "file_extension": ".py",
   "mimetype": "text/x-python",
   "name": "python",
   "nbconvert_exporter": "python",
   "pygments_lexer": "ipython3",
   "version": "3.13.5"
  }
 },
 "nbformat": 4,
 "nbformat_minor": 5
}
