{
 "cells": [
  {
   "cell_type": "markdown",
   "id": "ed51a05b",
   "metadata": {},
   "source": [
    "# Scatter Plots and Error Bars\n",
    "\n",
    "This notebook covers how to create scatter plots and visualize errors or uncertainty in your data."
   ]
  },
  {
   "cell_type": "code",
   "execution_count": 2,
   "id": "1529f684",
   "metadata": {},
   "outputs": [],
   "source": [
    "import matplotlib.pyplot as plt\n",
    "import numpy as np\n",
    "\n",
    "plt.style.use('seaborn-v0_8-whitegrid')"
   ]
  },
  {
   "cell_type": "markdown",
   "id": "1663f381",
   "metadata": {},
   "source": [
    "## Simple Scatter Plots\n",
    "\n",
    "Scatter plots are used to visualize the relationship between two variables."
   ]
  },
  {
   "cell_type": "markdown",
   "id": "05ef2cfe",
   "metadata": {},
   "source": [
    "### Scatter Plots with `plt.plot`\n",
    "You can create a scatter plot with `plt.plot` by passing a marker style (like 'o' for a circle) and no line style."
   ]
  },
  {
   "cell_type": "code",
   "execution_count": null,
   "id": "3c60f6b2",
   "metadata": {},
   "outputs": [],
   "source": [
    "x = np.linspace(0, 10, 30)\n",
    "y = np.sin(x)\n",
    "\n",
    "fig, ax = plt.subplots()\n",
    "ax.plot(x, y, 'o', color='black');"
   ]
  },
  {
   "cell_type": "markdown",
   "id": "0c40771a",
   "metadata": {},
   "source": [
    "### Scatter Plots with `plt.scatter`\n",
    "The `plt.scatter` function is more powerful. It allows each point to have its own properties, like size, color, or transparency. This is great for visualizing multi-dimensional data."
   ]
  },
  {
   "cell_type": "code",
   "execution_count": null,
   "id": "4fc8af33",
   "metadata": {},
   "outputs": [],
   "source": [
    "# Let the color and size of the points vary based on some data\n",
    "rng = np.random.RandomState(0)\n",
    "x = rng.randn(100)\n",
    "y = rng.randn(100)\n",
    "colors = rng.rand(100)\n",
    "sizes = 1000 * rng.rand(100)\n",
    "\n",
    "fig, ax = plt.subplots()\n",
    "ax.scatter(x, y, c=colors, s=sizes, alpha=0.3,\n",
    "           cmap='viridis')\n",
    "plt.show()"
   ]
  },
  {
   "cell_type": "markdown",
   "id": "37f06a8e",
   "metadata": {},
   "source": [
    "### `plot` Versus `scatter`: A Note on Efficiency\n",
    "For large datasets (thousands of points), `plt.plot` can be much more efficient than `plt.scatter`. This is because `plt.scatter` has the overhead of creating a custom artist for each point, which gives it its flexibility. If all your points are the same, `plt.plot` is the better choice."
   ]
  },
  {
   "cell_type": "markdown",
   "id": "b8fa73b4",
   "metadata": {},
   "source": [
    "## Visualizing Errors\n",
    "\n",
    "Visualizing the error or uncertainty in your data is a critical part of scientific plotting."
   ]
  },
  {
   "cell_type": "markdown",
   "id": "465fa309",
   "metadata": {},
   "source": [
    "### Basic Errorbars\n",
    "The `plt.errorbar` function can create a line plot with error bars for each point."
   ]
  },
  {
   "cell_type": "code",
   "execution_count": null,
   "id": "6ab8eb7d",
   "metadata": {},
   "outputs": [],
   "source": [
    "# Create some sample data with errors\n",
    "x = np.linspace(0, 10, 50)\n",
    "dy = 0.8\n",
    "y = np.sin(x) + dy * np.random.randn(50)\n",
    "\n",
    "fig, ax = plt.subplots()\n",
    "ax.errorbar(x, y, yerr=dy, fmt='o', color='black',\n",
    "            ecolor='lightgray', elinewidth=3, capsize=0);"
   ]
  },
  {
   "cell_type": "markdown",
   "id": "cb266d37",
   "metadata": {},
   "source": [
    "### Continuous Errors\n",
    "For some data, you might have a continuous error, like the standard deviation of a measurement. The `plt.fill_between` function is great for this."
   ]
  },
  {
   "cell_type": "code",
   "execution_count": null,
   "id": "28ca84d4",
   "metadata": {},
   "outputs": [],
   "source": [
    "# Example: Visualizing a Gaussian Process\n",
    "from sklearn.gaussian_process import GaussianProcessRegressor\n",
    "from sklearn.gaussian_process.kernels import RBF\n",
    "\n",
    "# define the model and draw some data\n",
    "model = GaussianProcessRegressor(kernel=RBF(1.0))\n",
    "x = np.linspace(0, 10, 30)\n",
    "y = np.sin(x) + np.random.randn(30)\n",
    "\n",
    "# fit the model\n",
    "model.fit(x[:, np.newaxis], y)\n",
    "xfit = np.linspace(0, 10, 1000)\n",
    "yfit, std = model.predict(xfit[:, np.newaxis], return_std=True)\n",
    "\n",
    "# Plot the result with fill_between\n",
    "fig, ax = plt.subplots()\n",
    "ax.plot(x, y, 'o', color='black')\n",
    "ax.plot(xfit, yfit, '-', color='gray')\n",
    "ax.fill_between(xfit, yfit - std, yfit + std, color='lightgray')\n",
    "ax.set_title('Continuous Error (Gaussian Process)')\n",
    "plt.show()"
   ]
  }
 ],
 "metadata": {
  "jupytext": {
   "cell_metadata_filter": "-all",
   "main_language": "python",
   "notebook_metadata_filter": "-all"
  },
  "kernelspec": {
   "display_name": "Python 3",
   "language": "python",
   "name": "python3"
  },
  "language_info": {
   "codemirror_mode": {
    "name": "ipython",
    "version": 3
   },
   "file_extension": ".py",
   "mimetype": "text/x-python",
   "name": "python",
   "nbconvert_exporter": "python",
   "pygments_lexer": "ipython3",
   "version": "3.13.5"
  }
 },
 "nbformat": 4,
 "nbformat_minor": 5
}
