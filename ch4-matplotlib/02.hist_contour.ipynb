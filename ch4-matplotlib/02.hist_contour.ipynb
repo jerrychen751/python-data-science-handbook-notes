{
 "cells": [
  {
   "cell_type": "markdown",
   "id": "f6b2a4ba",
   "metadata": {},
   "source": [
    "# Histograms, Binnings, and Density Plots\n",
    "\n",
    "This notebook covers how to visualize the distribution of data using histograms and how to visualize 3D data on a 2D plane using contour plots."
   ]
  },
  {
   "cell_type": "code",
   "execution_count": null,
   "id": "698b987a",
   "metadata": {},
   "outputs": [],
   "source": [
    "import matplotlib.pyplot as plt\n",
    "import numpy as np\n",
    "\n",
    "plt.style.use('seaborn-v0_8-whitegrid')"
   ]
  },
  {
   "cell_type": "markdown",
   "id": "4c6ace79",
   "metadata": {},
   "source": [
    "## Histograms, Binnings, and Density\n",
    "\n",
    "A histogram is a simple way to visualize the distribution of a dataset. It groups data into bins and plots the number of points in each bin."
   ]
  },
  {
   "cell_type": "code",
   "execution_count": null,
   "id": "bf13ef16",
   "metadata": {},
   "outputs": [],
   "source": [
    "# Create some sample data\n",
    "data = np.random.randn(1000)\n",
    "\n",
    "# Create a histogram\n",
    "fig, ax = plt.subplots()\n",
    "ax.hist(data)\n",
    "ax.set_title('Basic Histogram')\n",
    "ax.set_xlabel('Value')\n",
    "ax.set_ylabel('Frequency')\n",
    "plt.show()"
   ]
  },
  {
   "cell_type": "markdown",
   "id": "fe92e018",
   "metadata": {},
   "source": [
    "You can customize the number of bins and the appearance of the histogram."
   ]
  },
  {
   "cell_type": "code",
   "execution_count": null,
   "id": "779c736d",
   "metadata": {},
   "outputs": [],
   "source": [
    "fig, ax = plt.subplots()\n",
    "ax.hist(data, bins=30, alpha=0.5, color='steelblue', edgecolor='none')\n",
    "ax.set_title('Customized Histogram')\n",
    "plt.show()"
   ]
  },
  {
   "cell_type": "markdown",
   "id": "cd388788",
   "metadata": {},
   "source": [
    "## Two-Dimensional Histograms and Binnings\n",
    "\n",
    "For visualizing the joint distribution of two variables, you can use a two-dimensional histogram."
   ]
  },
  {
   "cell_type": "code",
   "execution_count": null,
   "id": "e2e979e3",
   "metadata": {
    "lines_to_next_cell": 1
   },
   "outputs": [],
   "source": [
    "# Create some 2D data\n",
    "mean = [0, 0]\n",
    "cov = [[1, 1], [1, 2]]\n",
    "x, y = np.random.multivariate_normal(mean, cov, 10000).T\n",
    "\n",
    "# Create a 2D histogram\n",
    "fig, ax = plt.subplots()\n",
    "ax.hist2d(x, y, bins=30, cmap='Blues')\n",
    "ax.set_title('2D Histogram')\n",
    "plt.show()"
   ]
  },
  {
   "cell_type": "markdown",
   "id": "1741a31f",
   "metadata": {},
   "source": [
    "## Density and Contour Plots\n",
    "\n",
    "Sometimes it's more useful to visualize this kind of 3D data with contour lines or color-coded regions. This is where contour plots come in."
   ]
  },
  {
   "cell_type": "markdown",
   "id": "51504c37",
   "metadata": {},
   "source": [
    "### Visualizing a Three-Dimensional Function\n",
    "A contour plot can be created with `plt.contour`. It takes three arguments: a grid of x values, a grid of y values, and a grid of z values."
   ]
  },
  {
   "cell_type": "code",
   "execution_count": null,
   "id": "f0f0838d",
   "metadata": {},
   "outputs": [],
   "source": [
    "def f(x, y):\n",
    "    return np.sin(x) ** 10 + np.cos(10 + y * x) * np.cos(x)\n",
    "\n",
    "# Create the data grids\n",
    "x = np.linspace(0, 5, 50)\n",
    "y = np.linspace(0, 5, 40)\n",
    "\n",
    "X, Y = np.meshgrid(x, y)\n",
    "Z = f(X, Y)\n",
    "\n",
    "# Create the contour plot\n",
    "fig, ax = plt.subplots()\n",
    "ax.contour(X, Y, Z, colors='black')\n",
    "ax.set_title('Contour Plot')\n",
    "plt.show()"
   ]
  },
  {
   "cell_type": "markdown",
   "id": "4226e0a4",
   "metadata": {},
   "source": [
    "You can also create filled contour plots with `plt.contourf`."
   ]
  },
  {
   "cell_type": "code",
   "execution_count": null,
   "id": "9f2fae03",
   "metadata": {},
   "outputs": [],
   "source": [
    "fig, ax = plt.subplots()\n",
    "contours = ax.contourf(X, Y, Z, 20, cmap='RdGy')\n",
    "\n",
    "# Add a color bar to the plot\n",
    "fig.colorbar(contours)\n",
    "ax.set_title('Filled Contour Plot')\n",
    "plt.show()"
   ]
  },
  {
   "cell_type": "markdown",
   "id": "350ce6c0",
   "metadata": {},
   "source": [
    "Another way to visualize this data is with `plt.imshow`, which treats the Z grid as an image."
   ]
  },
  {
   "cell_type": "code",
   "execution_count": null,
   "id": "88b9ffce",
   "metadata": {},
   "outputs": [],
   "source": [
    "fig, ax = plt.subplots()\n",
    "img = ax.imshow(Z, extent=[0, 5, 0, 5], origin='lower',\n",
    "                cmap='viridis')\n",
    "\n",
    "fig.colorbar(img)\n",
    "ax.set_title('Image View of Data')\n",
    "plt.show()"
   ]
  }
 ],
 "metadata": {
  "jupytext": {
   "cell_metadata_filter": "-all",
   "main_language": "python",
   "notebook_metadata_filter": "-all"
  }
 },
 "nbformat": 4,
 "nbformat_minor": 5
}
