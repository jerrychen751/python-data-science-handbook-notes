{
 "cells": [
  {
   "cell_type": "markdown",
   "id": "906b8442",
   "metadata": {},
   "source": [
    "# Customizing Ticks and Configurations\n",
    "\n",
    "This notebook covers how to get fine-grained control over plot ticks and how to customize Matplotlib's global settings."
   ]
  },
  {
   "cell_type": "code",
   "execution_count": null,
   "id": "d0a38904",
   "metadata": {},
   "outputs": [],
   "source": [
    "import matplotlib.pyplot as plt\n",
    "import numpy as np\n",
    "\n",
    "plt.style.use('seaborn-v0_8-whitegrid')"
   ]
  },
  {
   "cell_type": "markdown",
   "id": "9c7580f4",
   "metadata": {},
   "source": [
    "## Customizing Ticks\n",
    "\n",
    "Matplotlib's default ticks are often good enough, but you have full control over their placement and formatting."
   ]
  },
  {
   "cell_type": "markdown",
   "id": "d7aa3a49",
   "metadata": {},
   "source": [
    "### Major and Minor Ticks\n",
    "You can have major ticks and smaller minor ticks. Let's look at a plot of a logarithm."
   ]
  },
  {
   "cell_type": "code",
   "execution_count": null,
   "id": "a23b1a44",
   "metadata": {},
   "outputs": [],
   "source": [
    "fig, ax = plt.subplots()\n",
    "x = np.linspace(0, 10, 1000)\n",
    "ax.plot(x, np.log(x))\n",
    "ax.set_title('Default Ticks')\n",
    "plt.show()"
   ]
  },
  {
   "cell_type": "markdown",
   "id": "1a823e94",
   "metadata": {},
   "source": [
    "### Hiding Ticks or Labels\n",
    "You can hide ticks and labels, which is useful when creating plots with shared axes."
   ]
  },
  {
   "cell_type": "code",
   "execution_count": null,
   "id": "0389d1ed",
   "metadata": {},
   "outputs": [],
   "source": [
    "fig, ax = plt.subplots()\n",
    "ax.plot(np.sin(np.linspace(0, 10, 100)))\n",
    "\n",
    "# Hide the y-axis labels and ticks\n",
    "ax.yaxis.set_major_locator(plt.NullLocator())\n",
    "ax.set_title('Y-axis Ticks Hidden')\n",
    "plt.show()"
   ]
  },
  {
   "cell_type": "markdown",
   "id": "4976d675",
   "metadata": {},
   "source": [
    "### Fancy Tick Formats\n",
    "For more advanced control, Matplotlib provides `Locator` and `Formatter` objects in the `plt.ticker` module."
   ]
  },
  {
   "cell_type": "code",
   "execution_count": null,
   "id": "60f8f78b",
   "metadata": {},
   "outputs": [],
   "source": [
    "from matplotlib.ticker import FuncFormatter, MaxNLocator\n",
    "\n",
    "# Plot a sine wave\n",
    "fig, ax = plt.subplots()\n",
    "x = np.linspace(0, 3 * np.pi, 1000)\n",
    "ax.plot(x, np.sin(x), lw=3, label='Sine')\n",
    "\n",
    "# A function to format ticks as multiples of pi\n",
    "def format_func(value, tick_number):\n",
    "    N = int(np.round(value / np.pi))\n",
    "    if N == 0:\n",
    "        return \"0\"\n",
    "    elif N == 1:\n",
    "        return r\"$\\pi$\"\n",
    "    elif N == 2:\n",
    "        return r\"$2\\pi$\"\n",
    "    else:\n",
    "        return r\"${0}\\pi$\".format(N)\n",
    "\n",
    "ax.xaxis.set_major_formatter(FuncFormatter(format_func))\n",
    "ax.xaxis.set_major_locator(MaxNLocator(integer=True))\n",
    "ax.set_title('Formatted Ticks')\n",
    "plt.show()"
   ]
  },
  {
   "cell_type": "markdown",
   "id": "8dfb61f9",
   "metadata": {},
   "source": [
    "## Customizing Matplotlib: Configurations and Stylesheets\n",
    "\n",
    "You can change Matplotlib's default settings for the current script or globally."
   ]
  },
  {
   "cell_type": "markdown",
   "id": "0fac0525",
   "metadata": {},
   "source": [
    "### Changing the Defaults: `rcParams`\n",
    "You can dynamically change the default `rcParams` (runtime configuration parameters). Every aspect of a Matplotlib plot is controlled by a default setting."
   ]
  },
  {
   "cell_type": "code",
   "execution_count": null,
   "id": "b360101f",
   "metadata": {},
   "outputs": [],
   "source": [
    "# Example: Change the default figure size and font size\n",
    "plt.rcParams['figure.figsize'] = (8, 6)\n",
    "plt.rcParams['font.size'] = 14\n",
    "\n",
    "# Now any plot you create will use these new defaults\n",
    "fig, ax = plt.subplots()\n",
    "ax.plot([1, 2, 3], [2, 4, 1])\n",
    "ax.set_title('Plot with Custom Defaults')\n",
    "plt.show()\n",
    "\n",
    "# Restore defaults\n",
    "plt.rcdefaults()"
   ]
  },
  {
   "cell_type": "markdown",
   "id": "76275efe",
   "metadata": {},
   "source": [
    "### Stylesheets\n",
    "The modern and recommended way to change plot aesthetics is with stylesheets. We've been using `plt.style.use()` in these notebooks. It's a great way to get a consistent and professional look for your plots."
   ]
  },
  {
   "cell_type": "code",
   "execution_count": null,
   "id": "5ffe01b2",
   "metadata": {},
   "outputs": [],
   "source": [
    "# You can see the available styles\n",
    "print(plt.style.available)"
   ]
  },
  {
   "cell_type": "markdown",
   "id": "7bb40f3f",
   "metadata": {},
   "source": [
    "Let's try a different style."
   ]
  },
  {
   "cell_type": "code",
   "execution_count": null,
   "id": "28cfb0a2",
   "metadata": {},
   "outputs": [],
   "source": [
    "with plt.style.context('dark_background'):\n",
    "    fig, ax = plt.subplots()\n",
    "    ax.plot(np.sin(np.linspace(0, 10, 100)))\n",
    "    ax.set_title('dark_background Style')\n",
    "    plt.show()"
   ]
  }
 ],
 "metadata": {
  "jupytext": {
   "cell_metadata_filter": "-all",
   "main_language": "python",
   "notebook_metadata_filter": "-all"
  }
 },
 "nbformat": 4,
 "nbformat_minor": 5
}
