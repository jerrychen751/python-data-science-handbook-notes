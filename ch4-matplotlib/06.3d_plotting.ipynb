{
 "cells": [
  {
   "cell_type": "markdown",
   "id": "4eacbbb0",
   "metadata": {},
   "source": [
    "# Three-Dimensional Plotting in Matplotlib"
   ]
  },
  {
   "cell_type": "code",
   "execution_count": null,
   "id": "7c2815aa",
   "metadata": {},
   "outputs": [],
   "source": [
    "import matplotlib.pyplot as plt\n",
    "import numpy as np"
   ]
  },
  {
   "cell_type": "markdown",
   "id": "a9e8d5c4",
   "metadata": {},
   "source": [
    "To create 3D plots, you start by creating a 3D axes object. The most common way is to use the `projection='3d'` keyword."
   ]
  },
  {
   "cell_type": "code",
   "execution_count": null,
   "id": "db9c30fe",
   "metadata": {},
   "outputs": [],
   "source": [
    "from mpl_toolkits import mplot3d\n",
    "\n",
    "fig = plt.figure()\n",
    "ax = plt.axes(projection='3d')"
   ]
  },
  {
   "cell_type": "markdown",
   "id": "b00bb993",
   "metadata": {},
   "source": [
    "## Three-Dimensional Points and Lines\n",
    "\n",
    "With a 3D axes object, you can plot lines and points just like in 2D, but using the `ax.plot3D` method."
   ]
  },
  {
   "cell_type": "code",
   "execution_count": null,
   "id": "eab7931b",
   "metadata": {
    "lines_to_next_cell": 1
   },
   "outputs": [],
   "source": [
    "# Create some 3D data for a helix\n",
    "zline = np.linspace(0, 15, 1000)\n",
    "xline = np.sin(zline)\n",
    "yline = np.cos(zline)\n",
    "\n",
    "# Create the 3D plot\n",
    "fig = plt.figure()\n",
    "ax = plt.axes(projection='3d')\n",
    "ax.plot3D(xline, yline, zline, 'gray')\n",
    "\n",
    "# Add some 3D scatter points\n",
    "zdata = 15 * np.random.random(100)\n",
    "xdata = np.sin(zdata) + 0.1 * np.random.randn(100)\n",
    "ydata = np.cos(zdata) + 0.1 * np.random.randn(100)\n",
    "ax.scatter3D(xdata, ydata, zdata, c=zdata, cmap='Greens');\n",
    "\n",
    "plt.show()"
   ]
  },
  {
   "cell_type": "markdown",
   "id": "5e90811d",
   "metadata": {},
   "source": [
    "## Three-Dimensional Contour Plots\n",
    "\n",
    "The `ax.contour3D` method can create 3D contour plots from 3D data."
   ]
  },
  {
   "cell_type": "code",
   "execution_count": null,
   "id": "6ec2839d",
   "metadata": {},
   "outputs": [],
   "source": [
    "def f(x, y):\n",
    "    return np.sin(np.sqrt(x ** 2 + y ** 2))\n",
    "\n",
    "x = np.linspace(-6, 6, 30)\n",
    "y = np.linspace(-6, 6, 30)\n",
    "\n",
    "X, Y = np.meshgrid(x, y)\n",
    "Z = f(X, Y)\n",
    "\n",
    "fig = plt.figure()\n",
    "ax = plt.axes(projection='3d')\n",
    "ax.contour3D(X, Y, Z, 50, cmap='binary')\n",
    "ax.set_xlabel('x')\n",
    "ax.set_ylabel('y')\n",
    "ax.set_zlabel('z');\n",
    "\n",
    "plt.show()"
   ]
  },
  {
   "cell_type": "markdown",
   "id": "8b53252b",
   "metadata": {},
   "source": [
    "## Wireframes and Surface Plots\n",
    "\n",
    "For a different view of the same data, you can use wireframe and surface plots."
   ]
  },
  {
   "cell_type": "code",
   "execution_count": null,
   "id": "87c3bd75",
   "metadata": {},
   "outputs": [],
   "source": [
    "# A wireframe plot\n",
    "fig = plt.figure()\n",
    "ax = plt.axes(projection='3d')\n",
    "ax.plot_wireframe(X, Y, Z, color='black')\n",
    "ax.set_title('wireframe');"
   ]
  },
  {
   "cell_type": "markdown",
   "id": "e8cc4caa",
   "metadata": {},
   "source": [
    "A surface plot is like a wireframe, but with the polygons filled in."
   ]
  },
  {
   "cell_type": "code",
   "execution_count": null,
   "id": "8c3d4cc9",
   "metadata": {},
   "outputs": [],
   "source": [
    "# A surface plot\n",
    "fig = plt.figure()\n",
    "ax = plt.axes(projection='3d')\n",
    "ax.plot_surface(X, Y, Z, rstride=1, cstride=1,\n",
    "                cmap='viridis', edgecolor='none')\n",
    "ax.set_title('surface');"
   ]
  },
  {
   "cell_type": "markdown",
   "id": "35d1baa8",
   "metadata": {},
   "source": [
    "## Surface Triangulations\n",
    "\n",
    "For data that is not on a regular grid, you can use a surface triangulation to create a surface plot."
   ]
  },
  {
   "cell_type": "code",
   "execution_count": null,
   "id": "4fc8e375",
   "metadata": {},
   "outputs": [],
   "source": [
    "# Create some non-gridded data\n",
    "theta = 2 * np.pi * np.random.random(1000)\n",
    "r = 6 * np.random.random(1000)\n",
    "x = np.ravel(r * np.sin(theta))\n",
    "y = np.ravel(r * np.cos(theta))\n",
    "z = f(x, y)\n",
    "\n",
    "# Create the triangulation plot\n",
    "fig = plt.figure()\n",
    "ax = plt.axes(projection='3d')\n",
    "ax.plot_trisurf(x, y, z,\n",
    "                cmap='viridis', edgecolor='none');"
   ]
  }
 ],
 "metadata": {
  "jupytext": {
   "cell_metadata_filter": "-all",
   "main_language": "python",
   "notebook_metadata_filter": "-all"
  },
  "language_info": {
   "name": "python"
  }
 },
 "nbformat": 4,
 "nbformat_minor": 5
}
