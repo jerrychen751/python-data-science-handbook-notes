{
 "cells": [
  {
   "cell_type": "markdown",
   "id": "073304e4",
   "metadata": {},
   "source": [
    "# Visualization with Seaborn\n",
    "\n",
    "Matplotlib is a powerful library, but it can be quite verbose. Seaborn is a library built on top of Matplotlib that provides a high-level interface for drawing attractive and informative statistical graphics."
   ]
  },
  {
   "cell_type": "code",
   "execution_count": null,
   "id": "3c1d139e",
   "metadata": {},
   "outputs": [],
   "source": [
    "import matplotlib.pyplot as plt\n",
    "import numpy as np\n",
    "import pandas as pd\n",
    "\n",
    "# Import Seaborn\n",
    "import seaborn as sns\n",
    "sns.set_theme(style=\"whitegrid\") # Set a nice default style"
   ]
  },
  {
   "cell_type": "markdown",
   "id": "0e9cefee",
   "metadata": {},
   "source": [
    "## Seaborn Versus Matplotlib\n",
    "\n",
    "Seaborn's main goal is to make visualization a central part of exploring and understanding data. It provides dataset-oriented APIs so that you can focus on what the variables mean, rather than on the details of how to draw them.\n",
    "\n",
    "For simple plots, Seaborn is often much less verbose than Matplotlib."
   ]
  },
  {
   "cell_type": "markdown",
   "id": "cfdd6969",
   "metadata": {},
   "source": [
    "## Exploring Seaborn Plots\n",
    "\n",
    "Let's look at a few of Seaborn's most useful plot types."
   ]
  },
  {
   "cell_type": "markdown",
   "id": "c785f702",
   "metadata": {},
   "source": [
    "### Histograms and KDEs\n",
    "Seaborn makes it easy to create histograms and kernel density estimates (KDEs) to visualize distributions."
   ]
  },
  {
   "cell_type": "code",
   "execution_count": null,
   "id": "685d3e8e",
   "metadata": {},
   "outputs": [],
   "source": [
    "# Create some sample data\n",
    "data = np.random.multivariate_normal([0, 0], [[5, 2], [2, 2]], size=2000)\n",
    "df = pd.DataFrame(data, columns=['x', 'y'])\n",
    "\n",
    "# Plot a histogram and KDE for each variable\n",
    "for col in 'xy':\n",
    "    sns.histplot(df[col], kde=True)\n",
    "    plt.show()"
   ]
  },
  {
   "cell_type": "markdown",
   "id": "bc15a013",
   "metadata": {},
   "source": [
    "### Pair Plots\n",
    "The `pairplot` is a fantastic tool for visualizing the relationships between all pairs of variables in a dataset."
   ]
  },
  {
   "cell_type": "code",
   "execution_count": null,
   "id": "52aefd6a",
   "metadata": {},
   "outputs": [],
   "source": [
    "# Load the iris dataset from seaborn\n",
    "iris = sns.load_dataset(\"iris\")\n",
    "\n",
    "# Create a pairplot\n",
    "sns.pairplot(iris, hue='species', height=2.5)\n",
    "plt.show()"
   ]
  },
  {
   "cell_type": "markdown",
   "id": "6adfdeee",
   "metadata": {},
   "source": [
    "### Categorical Plots\n",
    "Seaborn excels at visualizing categorical data. Box plots and violin plots are two great examples."
   ]
  },
  {
   "cell_type": "code",
   "execution_count": null,
   "id": "89037731",
   "metadata": {},
   "outputs": [],
   "source": [
    "# Load the tips dataset\n",
    "tips = sns.load_dataset(\"tips\")\n",
    "\n",
    "# Create a violin plot to show the distribution of total_bill for each day\n",
    "sns.violinplot(x=\"day\", y=\"total_bill\", data=tips)\n",
    "plt.show()"
   ]
  },
  {
   "cell_type": "markdown",
   "id": "8e078430",
   "metadata": {},
   "source": [
    "### Regression Plots\n",
    "The `lmplot` function can be used to visualize a linear regression between two variables."
   ]
  },
  {
   "cell_type": "code",
   "execution_count": null,
   "id": "49f1a264",
   "metadata": {},
   "outputs": [],
   "source": [
    "sns.lmplot(x=\"total_bill\", y=\"tip\", data=tips)\n",
    "plt.show()"
   ]
  },
  {
   "cell_type": "markdown",
   "id": "3fa617f4",
   "metadata": {},
   "source": [
    "## Example: Exploring Marathon Finishing Times\n",
    "\n",
    "Let's use Seaborn to explore a synthetic dataset of marathon finishing times."
   ]
  },
  {
   "cell_type": "code",
   "execution_count": null,
   "id": "cb93cf75",
   "metadata": {},
   "outputs": [],
   "source": [
    "# Create a synthetic dataset\n",
    "rng = np.random.RandomState(0)\n",
    "age = rng.randint(18, 65, size=100)\n",
    "\n",
    "# Simulate that finish time increases slightly with age\n",
    "# and men are slightly faster on average\n",
    "finish_time_hours = 4.5 + (age - 18) * 0.01 + rng.randn(100) * 0.2\n",
    "finish_time_hours[finish_time_hours < 2.5] = 2.5 # No one is that fast\n",
    "\n",
    "gender = np.random.choice(['Male', 'Female'], size=100, p=[0.6, 0.4])\n",
    "finish_time_hours[gender == 'Male'] -= 0.2\n",
    "\n",
    "marathon_df = pd.DataFrame({'age': age, 'gender': gender, 'time_hours': finish_time_hours})"
   ]
  },
  {
   "cell_type": "markdown",
   "id": "e1101dab",
   "metadata": {},
   "source": [
    "We can use a violin plot to compare the distribution of finishing times between genders."
   ]
  },
  {
   "cell_type": "code",
   "execution_count": null,
   "id": "1d4fa691",
   "metadata": {},
   "outputs": [],
   "source": [
    "sns.violinplot(x=\"gender\", y=\"time_hours\", data=marathon_df)\n",
    "plt.show()"
   ]
  },
  {
   "cell_type": "markdown",
   "id": "41d0fd47",
   "metadata": {},
   "source": [
    "We can use `lmplot` to see the relationship between age and finishing time, separated by gender."
   ]
  },
  {
   "cell_type": "code",
   "execution_count": null,
   "id": "e1678b0f",
   "metadata": {},
   "outputs": [],
   "source": [
    "sns.lmplot(x=\"age\", y=\"time_hours\", hue=\"gender\", data=marathon_df)\n",
    "plt.show()"
   ]
  }
 ],
 "metadata": {
  "jupytext": {
   "cell_metadata_filter": "-all",
   "main_language": "python",
   "notebook_metadata_filter": "-all"
  },
  "language_info": {
   "name": "python"
  }
 },
 "nbformat": 4,
 "nbformat_minor": 5
}
